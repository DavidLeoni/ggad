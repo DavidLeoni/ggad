{
 "cells": [
  {
   "attachments": {},
   "cell_type": "markdown",
   "id": "b10a075c",
   "metadata": {
    "slideshow": {
     "slide_type": "slide"
    }
   },
   "source": [
    "# Principi di statistica e tools digitali\n",
    "\n",
    "## 3a: Statistiche con Pandas\n",
    "\n",
    "### GG Analisi dei dati @ Fidia\n",
    "\n",
    "**Speaker**: David Leoni info@davidleoni.it\n",
    "\n",
    "Repository github per questi tutorial: https://github.com/DavidLeoni/ggad\n",
    "\n",
    "Materiale tratto dal libro [SoftPython](https://it.softpython.org)\n",
    "\n",
    "(Per navigare nelle slide premi Esc)"
   ]
  },
  {
   "attachments": {},
   "cell_type": "markdown",
   "id": "08d46d83",
   "metadata": {
    "slideshow": {
     "slide_type": "subslide"
    }
   },
   "source": [
    "## Scaletta\n",
    "\n",
    "3b - statistiche con Pandas\n",
    "\n",
    "- istogrammi\n",
    "- moda\n",
    "- media\n",
    "- varianza\n",
    "- mediana\n",
    "- quartili\n"
   ]
  },
  {
   "attachments": {},
   "cell_type": "markdown",
   "id": "0c1ef064",
   "metadata": {
    "slideshow": {
     "slide_type": "subslide"
    }
   },
   "source": [
    "## File d'esempio\n",
    "\n",
    "Carichiamo il file [ortofrutta.csv](ortofrutta.csv) - Ciascuna riga rappresenta un cliente con\n",
    "\n",
    "- dove vive\n",
    "- la sua età\n",
    "- confezioni di marmellata compratate finora"
   ]
  },
  {
   "cell_type": "code",
   "execution_count": 159,
   "id": "7c77b560",
   "metadata": {},
   "outputs": [
    {
     "data": {
      "text/html": [
       "<div>\n",
       "<style scoped>\n",
       "    .dataframe tbody tr th:only-of-type {\n",
       "        vertical-align: middle;\n",
       "    }\n",
       "\n",
       "    .dataframe tbody tr th {\n",
       "        vertical-align: top;\n",
       "    }\n",
       "\n",
       "    .dataframe thead th {\n",
       "        text-align: right;\n",
       "    }\n",
       "</style>\n",
       "<table border=\"1\" class=\"dataframe\">\n",
       "  <thead>\n",
       "    <tr style=\"text-align: right;\">\n",
       "      <th></th>\n",
       "      <th>città</th>\n",
       "      <th>età</th>\n",
       "      <th>confezioni</th>\n",
       "    </tr>\n",
       "  </thead>\n",
       "  <tbody>\n",
       "    <tr>\n",
       "      <th>0</th>\n",
       "      <td>Padova</td>\n",
       "      <td>53</td>\n",
       "      <td>11</td>\n",
       "    </tr>\n",
       "    <tr>\n",
       "      <th>1</th>\n",
       "      <td>Padova</td>\n",
       "      <td>39</td>\n",
       "      <td>2</td>\n",
       "    </tr>\n",
       "    <tr>\n",
       "      <th>2</th>\n",
       "      <td>Roma</td>\n",
       "      <td>36</td>\n",
       "      <td>2</td>\n",
       "    </tr>\n",
       "    <tr>\n",
       "      <th>3</th>\n",
       "      <td>Trento</td>\n",
       "      <td>52</td>\n",
       "      <td>1</td>\n",
       "    </tr>\n",
       "    <tr>\n",
       "      <th>4</th>\n",
       "      <td>Roma</td>\n",
       "      <td>33</td>\n",
       "      <td>3</td>\n",
       "    </tr>\n",
       "  </tbody>\n",
       "</table>\n",
       "</div>"
      ],
      "text/plain": [
       "    città  età  confezioni\n",
       "0  Padova   53          11\n",
       "1  Padova   39           2\n",
       "2    Roma   36           2\n",
       "3  Trento   52           1\n",
       "4    Roma   33           3"
      ]
     },
     "execution_count": 159,
     "metadata": {},
     "output_type": "execute_result"
    }
   ],
   "source": [
    "import pandas as pd\n",
    "\n",
    "df = pd.read_csv('ortofrutta.csv', encoding='utf-8')\n",
    "df.head()"
   ]
  },
  {
   "cell_type": "code",
   "execution_count": 160,
   "id": "685d7192",
   "metadata": {
    "slideshow": {
     "slide_type": "subslide"
    }
   },
   "outputs": [
    {
     "name": "stdout",
     "output_type": "stream",
     "text": [
      "<class 'pandas.core.frame.DataFrame'>\n",
      "RangeIndex: 1000 entries, 0 to 999\n",
      "Data columns (total 3 columns):\n",
      " #   Column      Non-Null Count  Dtype \n",
      "---  ------      --------------  ----- \n",
      " 0   città       1000 non-null   object\n",
      " 1   età         1000 non-null   int64 \n",
      " 2   confezioni  1000 non-null   int64 \n",
      "dtypes: int64(2), object(1)\n",
      "memory usage: 76.8 KB\n"
     ]
    }
   ],
   "source": [
    "df.info(memory_usage=\"deep\")  # così mostra il vero utilizzo di memoria"
   ]
  },
  {
   "cell_type": "code",
   "execution_count": 161,
   "id": "54855a83",
   "metadata": {
    "slideshow": {
     "slide_type": "fragment"
    }
   },
   "outputs": [
    {
     "data": {
      "text/html": [
       "<div>\n",
       "<style scoped>\n",
       "    .dataframe tbody tr th:only-of-type {\n",
       "        vertical-align: middle;\n",
       "    }\n",
       "\n",
       "    .dataframe tbody tr th {\n",
       "        vertical-align: top;\n",
       "    }\n",
       "\n",
       "    .dataframe thead th {\n",
       "        text-align: right;\n",
       "    }\n",
       "</style>\n",
       "<table border=\"1\" class=\"dataframe\">\n",
       "  <thead>\n",
       "    <tr style=\"text-align: right;\">\n",
       "      <th></th>\n",
       "      <th>età</th>\n",
       "      <th>confezioni</th>\n",
       "    </tr>\n",
       "  </thead>\n",
       "  <tbody>\n",
       "    <tr>\n",
       "      <th>count</th>\n",
       "      <td>1000.000000</td>\n",
       "      <td>1000.000000</td>\n",
       "    </tr>\n",
       "    <tr>\n",
       "      <th>mean</th>\n",
       "      <td>49.307000</td>\n",
       "      <td>5.290000</td>\n",
       "    </tr>\n",
       "    <tr>\n",
       "      <th>std</th>\n",
       "      <td>9.581783</td>\n",
       "      <td>9.866775</td>\n",
       "    </tr>\n",
       "    <tr>\n",
       "      <th>min</th>\n",
       "      <td>22.000000</td>\n",
       "      <td>1.000000</td>\n",
       "    </tr>\n",
       "    <tr>\n",
       "      <th>25%</th>\n",
       "      <td>43.000000</td>\n",
       "      <td>1.000000</td>\n",
       "    </tr>\n",
       "    <tr>\n",
       "      <th>50%</th>\n",
       "      <td>49.000000</td>\n",
       "      <td>2.000000</td>\n",
       "    </tr>\n",
       "    <tr>\n",
       "      <th>75%</th>\n",
       "      <td>56.000000</td>\n",
       "      <td>5.000000</td>\n",
       "    </tr>\n",
       "    <tr>\n",
       "      <th>max</th>\n",
       "      <td>88.000000</td>\n",
       "      <td>134.000000</td>\n",
       "    </tr>\n",
       "  </tbody>\n",
       "</table>\n",
       "</div>"
      ],
      "text/plain": [
       "               età   confezioni\n",
       "count  1000.000000  1000.000000\n",
       "mean     49.307000     5.290000\n",
       "std       9.581783     9.866775\n",
       "min      22.000000     1.000000\n",
       "25%      43.000000     1.000000\n",
       "50%      49.000000     2.000000\n",
       "75%      56.000000     5.000000\n",
       "max      88.000000   134.000000"
      ]
     },
     "execution_count": 161,
     "metadata": {},
     "output_type": "execute_result"
    }
   ],
   "source": [
    "df.describe()"
   ]
  },
  {
   "attachments": {},
   "cell_type": "markdown",
   "id": "9c50e614",
   "metadata": {
    "slideshow": {
     "slide_type": "slide"
    }
   },
   "source": [
    "## Istogrammi"
   ]
  },
  {
   "cell_type": "code",
   "execution_count": 162,
   "id": "e2eb921d",
   "metadata": {},
   "outputs": [
    {
     "data": {
      "image/png": "[encoded data removed]",
      "text/plain": [
       "<Figure size 400x200 with 1 Axes>"
      ]
     },
     "metadata": {},
     "output_type": "display_data"
    }
   ],
   "source": [
    "%matplotlib inline\n",
    "import matplotlib as mpl\n",
    "import matplotlib.pyplot as plt\n",
    "import numpy as np\n",
    "plt.figure(figsize=(4,2))\n",
    "plt.title('Clienti per città')\n",
    "plt.xlabel('Città')\n",
    "plt.ylabel('Frequenza')\n",
    "df['città'].hist()\n",
    "plt.show()"
   ]
  },
  {
   "attachments": {},
   "cell_type": "markdown",
   "id": "c67f55ef",
   "metadata": {
    "slideshow": {
     "slide_type": "subslide"
    }
   },
   "source": [
    "## bar plot\n",
    "\n",
    "`.hist()` Purtroppo genera grafici non facilissimi da controllare (es etichette non centrate)\n",
    "\n",
    "Alternativa con `groupby` e `plot.bar`:"
   ]
  },
  {
   "cell_type": "code",
   "execution_count": 163,
   "id": "a2a5cfce",
   "metadata": {},
   "outputs": [
    {
     "data": {
      "image/png": "[encoded data removed]",
      "text/plain": [
       "<Figure size 400x200 with 1 Axes>"
      ]
     },
     "metadata": {},
     "output_type": "display_data"
    }
   ],
   "source": [
    "plt.figure(figsize=(4,2))\n",
    "plt.title('Clienti per città')\n",
    "plt.xlabel('Città')\n",
    "plt.ylabel('Frequenza')\n",
    "df.groupby('città').size().plot.bar()\n",
    "plt.show()"
   ]
  },
  {
   "attachments": {},
   "cell_type": "markdown",
   "id": "554f3c60",
   "metadata": {
    "slideshow": {
     "slide_type": "subslide"
    }
   },
   "source": [
    "## Com'è fatto `groupby` ?"
   ]
  },
  {
   "cell_type": "code",
   "execution_count": 164,
   "id": "407e11d5",
   "metadata": {},
   "outputs": [
    {
     "data": {
      "text/plain": [
       "<pandas.core.groupby.generic.DataFrameGroupBy object at 0x000001B4403871F0>"
      ]
     },
     "execution_count": 164,
     "metadata": {},
     "output_type": "execute_result"
    }
   ],
   "source": [
    "\n",
    "df.groupby('città')"
   ]
  },
  {
   "cell_type": "code",
   "execution_count": 165,
   "id": "31d6cc29",
   "metadata": {
    "slideshow": {
     "slide_type": "fragment"
    }
   },
   "outputs": [
    {
     "data": {
      "text/plain": [
       "città\n",
       "Padova    256\n",
       "Roma      249\n",
       "Torino    268\n",
       "Trento    227\n",
       "dtype: int64"
      ]
     },
     "execution_count": 165,
     "metadata": {},
     "output_type": "execute_result"
    }
   ],
   "source": [
    "\n",
    "df.groupby('città').size()"
   ]
  },
  {
   "attachments": {},
   "cell_type": "markdown",
   "id": "6d138cd4",
   "metadata": {
    "slideshow": {
     "slide_type": "subslide"
    }
   },
   "source": [
    "## Aggregare sommando\n",
    "\n",
    "### Quante confezioni sono vendute per città?"
   ]
  },
  {
   "cell_type": "code",
   "execution_count": 166,
   "id": "13463c11",
   "metadata": {},
   "outputs": [
    {
     "data": {
      "text/plain": [
       "città\n",
       "Padova    1238\n",
       "Roma      1381\n",
       "Torino    1438\n",
       "Trento    1233\n",
       "Name: confezioni, dtype: int64"
      ]
     },
     "execution_count": 166,
     "metadata": {},
     "output_type": "execute_result"
    }
   ],
   "source": [
    "df.groupby('città')['confezioni'].sum()\n"
   ]
  },
  {
   "cell_type": "code",
   "execution_count": 167,
   "id": "1a6e77f3",
   "metadata": {
    "slideshow": {
     "slide_type": "fragment"
    }
   },
   "outputs": [
    {
     "data": {
      "text/plain": [
       "pandas.core.series.Series"
      ]
     },
     "execution_count": 167,
     "metadata": {},
     "output_type": "execute_result"
    }
   ],
   "source": [
    "type(df.groupby('città')['confezioni'].sum())"
   ]
  },
  {
   "attachments": {},
   "cell_type": "markdown",
   "id": "fb04505a",
   "metadata": {
    "slideshow": {
     "slide_type": "subslide"
    }
   },
   "source": [
    "Per trasformare in un vero dataframe e cambiare il nome della colonna, usare `.reset_index`"
   ]
  },
  {
   "cell_type": "code",
   "execution_count": 168,
   "id": "9cb42c6c",
   "metadata": {},
   "outputs": [
    {
     "data": {
      "text/html": [
       "<div>\n",
       "<style scoped>\n",
       "    .dataframe tbody tr th:only-of-type {\n",
       "        vertical-align: middle;\n",
       "    }\n",
       "\n",
       "    .dataframe tbody tr th {\n",
       "        vertical-align: top;\n",
       "    }\n",
       "\n",
       "    .dataframe thead th {\n",
       "        text-align: right;\n",
       "    }\n",
       "</style>\n",
       "<table border=\"1\" class=\"dataframe\">\n",
       "  <thead>\n",
       "    <tr style=\"text-align: right;\">\n",
       "      <th></th>\n",
       "      <th>città</th>\n",
       "      <th>totale_confezioni</th>\n",
       "    </tr>\n",
       "  </thead>\n",
       "  <tbody>\n",
       "    <tr>\n",
       "      <th>0</th>\n",
       "      <td>Padova</td>\n",
       "      <td>1238</td>\n",
       "    </tr>\n",
       "    <tr>\n",
       "      <th>1</th>\n",
       "      <td>Roma</td>\n",
       "      <td>1381</td>\n",
       "    </tr>\n",
       "    <tr>\n",
       "      <th>2</th>\n",
       "      <td>Torino</td>\n",
       "      <td>1438</td>\n",
       "    </tr>\n",
       "    <tr>\n",
       "      <th>3</th>\n",
       "      <td>Trento</td>\n",
       "      <td>1233</td>\n",
       "    </tr>\n",
       "  </tbody>\n",
       "</table>\n",
       "</div>"
      ],
      "text/plain": [
       "    città  totale_confezioni\n",
       "0  Padova               1238\n",
       "1    Roma               1381\n",
       "2  Torino               1438\n",
       "3  Trento               1233"
      ]
     },
     "execution_count": 168,
     "metadata": {},
     "output_type": "execute_result"
    }
   ],
   "source": [
    "cdf = df.groupby('città')['confezioni'].sum().reset_index(name='totale_confezioni')\n",
    "cdf"
   ]
  },
  {
   "cell_type": "code",
   "execution_count": 169,
   "id": "e40b7a67",
   "metadata": {
    "slideshow": {
     "slide_type": "fragment"
    }
   },
   "outputs": [
    {
     "data": {
      "image/png": "[encoded data removed]",
      "text/plain": [
       "<Figure size 500x200 with 1 Axes>"
      ]
     },
     "metadata": {},
     "output_type": "display_data"
    }
   ],
   "source": [
    "plt.figure(figsize=(5,2))\n",
    "plt.bar(cdf['città'], cdf['totale_confezioni'])\n",
    "plt.show()"
   ]
  },
  {
   "attachments": {},
   "cell_type": "markdown",
   "id": "666ae7ea",
   "metadata": {
    "slideshow": {
     "slide_type": "subslide"
    }
   },
   "source": [
    "## Moda\n",
    "\n",
    "La moda è il valore più frequente in una distribuzione\n",
    "\n",
    "Per esempio, la città con più clienti è...."
   ]
  },
  {
   "cell_type": "code",
   "execution_count": 170,
   "id": "4031f7b6",
   "metadata": {},
   "outputs": [
    {
     "data": {
      "text/plain": [
       "0    Torino\n",
       "Name: città, dtype: object"
      ]
     },
     "execution_count": 170,
     "metadata": {},
     "output_type": "execute_result"
    }
   ],
   "source": [
    "df['città'].mode()"
   ]
  },
  {
   "cell_type": "code",
   "execution_count": 171,
   "id": "0dfa18c4",
   "metadata": {
    "slideshow": {
     "slide_type": "fragment"
    }
   },
   "outputs": [
    {
     "data": {
      "text/plain": [
       "pandas.core.series.Series"
      ]
     },
     "execution_count": 171,
     "metadata": {},
     "output_type": "execute_result"
    }
   ],
   "source": [
    "type(df['città'].mode())"
   ]
  },
  {
   "attachments": {},
   "cell_type": "markdown",
   "id": "03e7afbc",
   "metadata": {
    "slideshow": {
     "slide_type": "fragment"
    }
   },
   "source": [
    "Estraiamo la stringa"
   ]
  },
  {
   "cell_type": "code",
   "execution_count": 172,
   "id": "07dd787a",
   "metadata": {},
   "outputs": [
    {
     "data": {
      "text/plain": [
       "'Torino'"
      ]
     },
     "execution_count": 172,
     "metadata": {},
     "output_type": "execute_result"
    }
   ],
   "source": [
    "df['città'].mode()[0]  "
   ]
  },
  {
   "attachments": {},
   "cell_type": "markdown",
   "id": "926aa510",
   "metadata": {
    "slideshow": {
     "slide_type": "subslide"
    }
   },
   "source": [
    "## Variabili numeriche\n",
    "\n",
    "Per statistiche come media, mediana, varianza etc serviranno variabili numeriche\n",
    "\n",
    "Per es:"
   ]
  },
  {
   "cell_type": "code",
   "execution_count": 173,
   "id": "a609c130",
   "metadata": {},
   "outputs": [
    {
     "data": {
      "text/plain": [
       "0      53\n",
       "1      39\n",
       "2      36\n",
       "3      52\n",
       "4      33\n",
       "       ..\n",
       "995    33\n",
       "996    46\n",
       "997    41\n",
       "998    49\n",
       "999    45\n",
       "Name: età, Length: 1000, dtype: int64"
      ]
     },
     "execution_count": 173,
     "metadata": {},
     "output_type": "execute_result"
    }
   ],
   "source": [
    "df['età']"
   ]
  },
  {
   "cell_type": "code",
   "execution_count": 174,
   "id": "25f34a79",
   "metadata": {
    "slideshow": {
     "slide_type": "subslide"
    }
   },
   "outputs": [
    {
     "data": {
      "text/plain": [
       "età\n",
       "22    1\n",
       "23    1\n",
       "24    2\n",
       "26    1\n",
       "27    5\n",
       "28    4\n",
       "29    4\n",
       "dtype: int64"
      ]
     },
     "execution_count": 174,
     "metadata": {},
     "output_type": "execute_result"
    }
   ],
   "source": [
    "eg = df.groupby(['età']).size()\n",
    "eg[:7]"
   ]
  },
  {
   "cell_type": "code",
   "execution_count": 175,
   "id": "e7d3316c",
   "metadata": {
    "slideshow": {
     "slide_type": "fragment"
    }
   },
   "outputs": [
    {
     "data": {
      "text/html": [
       "<div>\n",
       "<style scoped>\n",
       "    .dataframe tbody tr th:only-of-type {\n",
       "        vertical-align: middle;\n",
       "    }\n",
       "\n",
       "    .dataframe tbody tr th {\n",
       "        vertical-align: top;\n",
       "    }\n",
       "\n",
       "    .dataframe thead th {\n",
       "        text-align: right;\n",
       "    }\n",
       "</style>\n",
       "<table border=\"1\" class=\"dataframe\">\n",
       "  <thead>\n",
       "    <tr style=\"text-align: right;\">\n",
       "      <th></th>\n",
       "      <th>età</th>\n",
       "      <th>frequenza</th>\n",
       "    </tr>\n",
       "  </thead>\n",
       "  <tbody>\n",
       "    <tr>\n",
       "      <th>0</th>\n",
       "      <td>22</td>\n",
       "      <td>1</td>\n",
       "    </tr>\n",
       "    <tr>\n",
       "      <th>1</th>\n",
       "      <td>23</td>\n",
       "      <td>1</td>\n",
       "    </tr>\n",
       "    <tr>\n",
       "      <th>2</th>\n",
       "      <td>24</td>\n",
       "      <td>2</td>\n",
       "    </tr>\n",
       "    <tr>\n",
       "      <th>3</th>\n",
       "      <td>26</td>\n",
       "      <td>1</td>\n",
       "    </tr>\n",
       "    <tr>\n",
       "      <th>4</th>\n",
       "      <td>27</td>\n",
       "      <td>5</td>\n",
       "    </tr>\n",
       "    <tr>\n",
       "      <th>5</th>\n",
       "      <td>28</td>\n",
       "      <td>4</td>\n",
       "    </tr>\n",
       "    <tr>\n",
       "      <th>6</th>\n",
       "      <td>29</td>\n",
       "      <td>4</td>\n",
       "    </tr>\n",
       "  </tbody>\n",
       "</table>\n",
       "</div>"
      ],
      "text/plain": [
       "   età  frequenza\n",
       "0   22          1\n",
       "1   23          1\n",
       "2   24          2\n",
       "3   26          1\n",
       "4   27          5\n",
       "5   28          4\n",
       "6   29          4"
      ]
     },
     "execution_count": 175,
     "metadata": {},
     "output_type": "execute_result"
    }
   ],
   "source": [
    "edf = eg.reset_index(name='frequenza')\n",
    "edf[:7]"
   ]
  },
  {
   "cell_type": "code",
   "execution_count": 176,
   "id": "11940b03",
   "metadata": {
    "slideshow": {
     "slide_type": "subslide"
    }
   },
   "outputs": [
    {
     "data": {
      "image/png": "[encoded data removed]",
      "text/plain": [
       "<Figure size 640x480 with 1 Axes>"
      ]
     },
     "metadata": {},
     "output_type": "display_data"
    }
   ],
   "source": [
    "plt.title('frequenza età clienti')\n",
    "plt.xlabel('età')\n",
    "plt.ylabel('frequenza')\n",
    "\n",
    "plt.bar(edf['età'], edf['frequenza'])\n",
    "plt.show()"
   ]
  },
  {
   "attachments": {},
   "cell_type": "markdown",
   "id": "537bb5a4",
   "metadata": {
    "slideshow": {
     "slide_type": "subslide"
    }
   },
   "source": [
    "## Intervalli\n",
    "\n",
    "Spesso con variabili numeriche si vuole dividere in intervalli\n",
    "\n",
    "Per trovare a quale intervallo di `10` anni di età appartiene ciascuna persona, usiamo [pd.cut](https://pandas.pydata.org/docs/reference/api/pandas.cut.html) :"
   ]
  },
  {
   "cell_type": "code",
   "execution_count": 177,
   "id": "6937fc8f",
   "metadata": {},
   "outputs": [],
   "source": [
    "intervalli = pd.cut(df[\"età\"], np.arange(20, 100, 10), right=False)  # con right=False includiamo estremi sinistri ed escludiamo i destri"
   ]
  },
  {
   "cell_type": "code",
   "execution_count": 178,
   "id": "6a13cfa4",
   "metadata": {},
   "outputs": [
    {
     "data": {
      "text/plain": [
       "0      [50, 60)\n",
       "1      [30, 40)\n",
       "2      [30, 40)\n",
       "3      [50, 60)\n",
       "4      [30, 40)\n",
       "         ...   \n",
       "995    [30, 40)\n",
       "996    [40, 50)\n",
       "997    [40, 50)\n",
       "998    [40, 50)\n",
       "999    [40, 50)\n",
       "Name: età, Length: 1000, dtype: category\n",
       "Categories (7, interval[int64, left]): [[20, 30) < [30, 40) < [40, 50) < [50, 60) < [60, 70) < [70, 80) < [80, 90)]"
      ]
     },
     "execution_count": 178,
     "metadata": {},
     "output_type": "execute_result"
    }
   ],
   "source": [
    "intervalli"
   ]
  },
  {
   "cell_type": "code",
   "execution_count": 179,
   "id": "bcd1149c",
   "metadata": {
    "slideshow": {
     "slide_type": "subslide"
    }
   },
   "outputs": [
    {
     "data": {
      "text/plain": [
       "età\n",
       "[20, 30)     18\n",
       "[30, 40)    134\n",
       "[40, 50)    367\n",
       "[50, 60)    341\n",
       "[60, 70)    121\n",
       "[70, 80)     17\n",
       "[80, 90)      2\n",
       "dtype: int64"
      ]
     },
     "execution_count": 179,
     "metadata": {},
     "output_type": "execute_result"
    }
   ],
   "source": [
    "gi = df.groupby(intervalli).size()\n",
    "gi"
   ]
  },
  {
   "cell_type": "code",
   "execution_count": 180,
   "id": "09c7f41b",
   "metadata": {
    "slideshow": {
     "slide_type": "fragment"
    }
   },
   "outputs": [
    {
     "data": {
      "text/html": [
       "<div>\n",
       "<style scoped>\n",
       "    .dataframe tbody tr th:only-of-type {\n",
       "        vertical-align: middle;\n",
       "    }\n",
       "\n",
       "    .dataframe tbody tr th {\n",
       "        vertical-align: top;\n",
       "    }\n",
       "\n",
       "    .dataframe thead th {\n",
       "        text-align: right;\n",
       "    }\n",
       "</style>\n",
       "<table border=\"1\" class=\"dataframe\">\n",
       "  <thead>\n",
       "    <tr style=\"text-align: right;\">\n",
       "      <th></th>\n",
       "      <th>età</th>\n",
       "      <th>frequenza</th>\n",
       "    </tr>\n",
       "  </thead>\n",
       "  <tbody>\n",
       "    <tr>\n",
       "      <th>0</th>\n",
       "      <td>[20, 30)</td>\n",
       "      <td>18</td>\n",
       "    </tr>\n",
       "    <tr>\n",
       "      <th>1</th>\n",
       "      <td>[30, 40)</td>\n",
       "      <td>134</td>\n",
       "    </tr>\n",
       "    <tr>\n",
       "      <th>2</th>\n",
       "      <td>[40, 50)</td>\n",
       "      <td>367</td>\n",
       "    </tr>\n",
       "    <tr>\n",
       "      <th>3</th>\n",
       "      <td>[50, 60)</td>\n",
       "      <td>341</td>\n",
       "    </tr>\n",
       "    <tr>\n",
       "      <th>4</th>\n",
       "      <td>[60, 70)</td>\n",
       "      <td>121</td>\n",
       "    </tr>\n",
       "    <tr>\n",
       "      <th>5</th>\n",
       "      <td>[70, 80)</td>\n",
       "      <td>17</td>\n",
       "    </tr>\n",
       "    <tr>\n",
       "      <th>6</th>\n",
       "      <td>[80, 90)</td>\n",
       "      <td>2</td>\n",
       "    </tr>\n",
       "  </tbody>\n",
       "</table>\n",
       "</div>"
      ],
      "text/plain": [
       "        età  frequenza\n",
       "0  [20, 30)         18\n",
       "1  [30, 40)        134\n",
       "2  [40, 50)        367\n",
       "3  [50, 60)        341\n",
       "4  [60, 70)        121\n",
       "5  [70, 80)         17\n",
       "6  [80, 90)          2"
      ]
     },
     "execution_count": 180,
     "metadata": {},
     "output_type": "execute_result"
    }
   ],
   "source": [
    "gidf = gi.reset_index(name='frequenza')\n",
    "# plot si rifiuterà di stampare oggetti Interval, convertiamo manualmente a stringa con transform\n",
    "gidf['età'] = gidf['età'].transform(lambda x : str(x))\n",
    "gidf"
   ]
  },
  {
   "cell_type": "code",
   "execution_count": 181,
   "id": "8e4f138a",
   "metadata": {
    "slideshow": {
     "slide_type": "subslide"
    }
   },
   "outputs": [
    {
     "data": {
      "image/png": "[encoded data removed]",
      "text/plain": [
       "<Figure size 640x480 with 1 Axes>"
      ]
     },
     "metadata": {},
     "output_type": "display_data"
    }
   ],
   "source": [
    "plt.title(\"Frequenza d'età per intervalli di 10 anni\")\n",
    "plt.xlabel(\"intervalli età\")\n",
    "plt.ylabel('frequenza')\n",
    "plt.bar(gidf['età'], gidf['frequenza'])\n",
    "plt.show()"
   ]
  },
  {
   "attachments": {},
   "cell_type": "markdown",
   "id": "cafe6629",
   "metadata": {
    "slideshow": {
     "slide_type": "slide"
    }
   },
   "source": [
    "## Valore atteso\n",
    "\n",
    "* Variabile casuale $X$\n",
    "* valori $x$ in dominio $D$\n",
    "* $\\mu = E[X] = \\sum_{x\\in D}P(x) \\: x$"
   ]
  },
  {
   "attachments": {},
   "cell_type": "markdown",
   "id": "3ac2c62c",
   "metadata": {
    "slideshow": {
     "slide_type": "fragment"
    }
   },
   "source": [
    "* **Es.** Variabile casuale $X$: _età_\n",
    "* dominio $D$: 0-120\n",
    "* $N=1000$ clienti (assumiamoli tutti diversi)\n",
    "$$\n",
    "\\begin{align}\n",
    "\\mu = E[X] \n",
    "& = \\sum_{x\\in D} P(x)\\:x                 \\\\\n",
    "& =\\sum_{x\\in D} \\frac{f(x)}{N} \\: x        \\\\\n",
    "& = \\frac{1}{N}\\sum_{x\\in (D)} f(x) \\:  x   \\\\\n",
    "& = \\frac{1}{1000}\\sum_{\\text{età}\\in (0-120)} f(\\text{età}) \\: \\text{età}\n",
    "\\end{align}\n",
    "$$\n"
   ]
  },
  {
   "attachments": {},
   "cell_type": "markdown",
   "id": "3b9765f8",
   "metadata": {
    "slideshow": {
     "slide_type": "subslide"
    }
   },
   "source": [
    "Conto veloce:"
   ]
  },
  {
   "cell_type": "code",
   "execution_count": 182,
   "id": "158a6314",
   "metadata": {},
   "outputs": [
    {
     "data": {
      "text/plain": [
       "49.307"
      ]
     },
     "execution_count": 182,
     "metadata": {},
     "output_type": "execute_result"
    }
   ],
   "source": [
    "df['età'].mean()"
   ]
  },
  {
   "attachments": {},
   "cell_type": "markdown",
   "id": "240c87d0",
   "metadata": {
    "slideshow": {
     "slide_type": "fragment"
    }
   },
   "source": [
    "Verifichiamo facendo un conteggio manuale.\n",
    "\n",
    "Prima raggruppiamo:"
   ]
  },
  {
   "cell_type": "code",
   "execution_count": 183,
   "id": "428e38fa",
   "metadata": {},
   "outputs": [
    {
     "data": {
      "text/plain": [
       "età\n",
       "22    1\n",
       "23    1\n",
       "24    2\n",
       "26    1\n",
       "27    5\n",
       "28    4\n",
       "29    4\n",
       "30    6\n",
       "31    4\n",
       "32    8\n",
       "dtype: int64"
      ]
     },
     "execution_count": 183,
     "metadata": {},
     "output_type": "execute_result"
    }
   ],
   "source": [
    "g = df.groupby(['età']).size()\n",
    "g[:10]"
   ]
  },
  {
   "attachments": {},
   "cell_type": "markdown",
   "id": "5de26547",
   "metadata": {
    "slideshow": {
     "slide_type": "subslide"
    }
   },
   "source": [
    "Per comodità trasformiamo la `Series` in un `Dataframe`:"
   ]
  },
  {
   "cell_type": "code",
   "execution_count": 184,
   "id": "880affce",
   "metadata": {},
   "outputs": [
    {
     "data": {
      "text/html": [
       "<div>\n",
       "<style scoped>\n",
       "    .dataframe tbody tr th:only-of-type {\n",
       "        vertical-align: middle;\n",
       "    }\n",
       "\n",
       "    .dataframe tbody tr th {\n",
       "        vertical-align: top;\n",
       "    }\n",
       "\n",
       "    .dataframe thead th {\n",
       "        text-align: right;\n",
       "    }\n",
       "</style>\n",
       "<table border=\"1\" class=\"dataframe\">\n",
       "  <thead>\n",
       "    <tr style=\"text-align: right;\">\n",
       "      <th></th>\n",
       "      <th>età</th>\n",
       "      <th>frequenza</th>\n",
       "    </tr>\n",
       "  </thead>\n",
       "  <tbody>\n",
       "    <tr>\n",
       "      <th>0</th>\n",
       "      <td>22</td>\n",
       "      <td>1</td>\n",
       "    </tr>\n",
       "    <tr>\n",
       "      <th>1</th>\n",
       "      <td>23</td>\n",
       "      <td>1</td>\n",
       "    </tr>\n",
       "    <tr>\n",
       "      <th>2</th>\n",
       "      <td>24</td>\n",
       "      <td>2</td>\n",
       "    </tr>\n",
       "    <tr>\n",
       "      <th>3</th>\n",
       "      <td>26</td>\n",
       "      <td>1</td>\n",
       "    </tr>\n",
       "    <tr>\n",
       "      <th>4</th>\n",
       "      <td>27</td>\n",
       "      <td>5</td>\n",
       "    </tr>\n",
       "    <tr>\n",
       "      <th>5</th>\n",
       "      <td>28</td>\n",
       "      <td>4</td>\n",
       "    </tr>\n",
       "    <tr>\n",
       "      <th>6</th>\n",
       "      <td>29</td>\n",
       "      <td>4</td>\n",
       "    </tr>\n",
       "  </tbody>\n",
       "</table>\n",
       "</div>"
      ],
      "text/plain": [
       "   età  frequenza\n",
       "0   22          1\n",
       "1   23          1\n",
       "2   24          2\n",
       "3   26          1\n",
       "4   27          5\n",
       "5   28          4\n",
       "6   29          4"
      ]
     },
     "execution_count": 184,
     "metadata": {},
     "output_type": "execute_result"
    }
   ],
   "source": [
    "gdf = g.reset_index(name='frequenza')   #ci serve rinominare altrimenti lamenta nomi duplicati\n",
    "gdf[:7]"
   ]
  },
  {
   "attachments": {},
   "cell_type": "markdown",
   "id": "5637c82f",
   "metadata": {
    "slideshow": {
     "slide_type": "subslide"
    }
   },
   "source": [
    "Applichiamo la formula del valore atteso a variabile casuale $X$: _età_\n",
    "\n",
    "* dominio $D$: 0-120\n",
    "* $N=1000$ clienti \n",
    "\n",
    "$$\n",
    "\\begin{align}\n",
    "\\mu = E[X] \n",
    "& = \\sum_{x\\in D} P(x) \\: x                 \\\\\n",
    "& =\\sum_{x\\in D} \\frac{f(x)}{N} \\: x        \\\\\n",
    "& = \\frac{1}{N}\\sum_{x\\in (D)} f(x) \\: x  \\\\\n",
    "& = \\frac{1}{1000}\\sum_{\\text{età}\\in (0-120)} f(\\text{età}) \\: \\text{età}\n",
    "\\end{align}\n",
    "$$"
   ]
  },
  {
   "cell_type": "code",
   "execution_count": 185,
   "id": "2708e2c1",
   "metadata": {
    "slideshow": {
     "slide_type": "fragment"
    }
   },
   "outputs": [
    {
     "data": {
      "text/plain": [
       "49.307"
      ]
     },
     "execution_count": 185,
     "metadata": {},
     "output_type": "execute_result"
    }
   ],
   "source": [
    "(gdf['età'] * gdf['frequenza']).sum()/1000"
   ]
  },
  {
   "cell_type": "code",
   "execution_count": 186,
   "id": "7111402c",
   "metadata": {},
   "outputs": [
    {
     "data": {
      "text/plain": [
       "49.307"
      ]
     },
     "execution_count": 186,
     "metadata": {},
     "output_type": "execute_result"
    }
   ],
   "source": [
    "df['età'].mean()    # confermiamo"
   ]
  },
  {
   "attachments": {},
   "cell_type": "markdown",
   "id": "bd7eef89",
   "metadata": {
    "slideshow": {
     "slide_type": "subslide"
    }
   },
   "source": [
    "## Varianza\n",
    "\n",
    "simbolo: $\\sigma^2$"
   ]
  },
  {
   "attachments": {},
   "cell_type": "markdown",
   "id": "bcd0d286",
   "metadata": {
    "slideshow": {
     "slide_type": "fragment"
    }
   },
   "source": [
    "unità di misura: unità di misura variabile $X$ al quadrato"
   ]
  },
  {
   "attachments": {},
   "cell_type": "markdown",
   "id": "5237cfc8",
   "metadata": {
    "slideshow": {
     "slide_type": "fragment"
    }
   },
   "source": [
    "$Var[X] \\geq 0$"
   ]
  },
  {
   "attachments": {},
   "cell_type": "markdown",
   "id": "dfbf9767",
   "metadata": {
    "slideshow": {
     "slide_type": "fragment"
    }
   },
   "source": [
    "$Var[X] = E[(X-\\mu)^2] = \\sum_{x\\in D}(x-E[x])^2 P(x)$"
   ]
  },
  {
   "attachments": {},
   "cell_type": "markdown",
   "id": "2efb2b99",
   "metadata": {
    "slideshow": {
     "slide_type": "subslide"
    }
   },
   "source": [
    "## Deviazione standard\n",
    "\n",
    "* simbolo: $\\sigma$ \n",
    "* radice quadrata della varianza\n",
    "* unità di misura: unità di misura variabile $X$\n",
    "\n",
    "<img width=\"35%\" src=\"img/standard-deviation.png\">\n",
    "\n",
    "\n",
    "Assumendo che la distribuzione sia gaussiana di parametri $\\mu, \\sigma$, il 68% dei valori è compreso tra $\\mu - 1 \\sigma$ e $\\mu + 1 \\sigma$\n",
    "\n",
    "Fonte immagine: [Wikipedia](https://en.wikipedia.org/wiki/Standard_deviation)"
   ]
  },
  {
   "cell_type": "code",
   "execution_count": 187,
   "id": "c37f6a1d",
   "metadata": {
    "slideshow": {
     "slide_type": "subslide"
    }
   },
   "outputs": [
    {
     "data": {
      "text/plain": [
       "91.81056156156171"
      ]
     },
     "execution_count": 187,
     "metadata": {},
     "output_type": "execute_result"
    }
   ],
   "source": [
    "df['età'].var()"
   ]
  },
  {
   "cell_type": "code",
   "execution_count": 188,
   "id": "bf40de90",
   "metadata": {},
   "outputs": [
    {
     "data": {
      "text/plain": [
       "9.581782796617846"
      ]
     },
     "execution_count": 188,
     "metadata": {},
     "output_type": "execute_result"
    }
   ],
   "source": [
    "df['età'].std()"
   ]
  },
  {
   "attachments": {},
   "cell_type": "markdown",
   "id": "3e26255d",
   "metadata": {},
   "source": [
    "In parole: "
   ]
  },
  {
   "cell_type": "code",
   "execution_count": 189,
   "id": "89e988f0",
   "metadata": {},
   "outputs": [
    {
     "name": "stdout",
     "output_type": "stream",
     "text": [
      "Assumendo che la distribuzione sia gaussiana di parametri μ=49.31 e σ=9.58,\n",
      "il 68% dei clienti ha età compreso tra 39.73 e 58.89\n"
     ]
    }
   ],
   "source": [
    "print(f\"Assumendo che la distribuzione sia gaussiana di parametri μ={df['età'].mean():.2f} e σ={df['età'].std():.2f},\")\n",
    "print(f\"il 68% dei clienti ha età compreso tra {df['età'].mean() - df['età'].std():.2f} e {df['età'].mean() + df['età'].std():.2f}\")"
   ]
  },
  {
   "attachments": {},
   "cell_type": "markdown",
   "id": "c8a27097",
   "metadata": {
    "slideshow": {
     "slide_type": "subslide"
    }
   },
   "source": [
    "**SFIDA**: Prova a calcolare la varianza manualmente applicando la definizione e confronta coi valori di seguito\n",
    "\n",
    "**NOTA**: potrebbero venir fuori valori leggermente diversi a causa di errori di arrotondamento"
   ]
  },
  {
   "attachments": {},
   "cell_type": "markdown",
   "id": "b56468f3",
   "metadata": {
    "slideshow": {
     "slide_type": "slide"
    }
   },
   "source": [
    "\n",
    "## Mediana\n",
    "\n",
    "La mediana è il valore rispetto al quale il 50% della popolazione ha un valore inferiore e il 50% ha un valore superiore.\n",
    "\n",
    "Formalmente, se la mediana è $m$: $P(X < m) = \\frac{1}{2}$ \n",
    "\n",
    "E' detta anche quantile di ordine 1/2  "
   ]
  },
  {
   "cell_type": "code",
   "execution_count": 190,
   "id": "5d186c78",
   "metadata": {},
   "outputs": [
    {
     "data": {
      "text/plain": [
       "49.0"
      ]
     },
     "execution_count": 190,
     "metadata": {},
     "output_type": "execute_result"
    }
   ],
   "source": [
    "df['età'].median()"
   ]
  },
  {
   "cell_type": "code",
   "execution_count": 191,
   "id": "d75718f9",
   "metadata": {
    "slideshow": {
     "slide_type": "fragment"
    }
   },
   "outputs": [
    {
     "data": {
      "text/plain": [
       "49.307"
      ]
     },
     "execution_count": 191,
     "metadata": {},
     "output_type": "execute_result"
    }
   ],
   "source": [
    "df['età'].mean()"
   ]
  },
  {
   "attachments": {},
   "cell_type": "markdown",
   "id": "523caff1",
   "metadata": {},
   "source": [
    "Visto che la distribuzione della variabile `età` è gaussiana, moda e mediana risultano molto simili "
   ]
  },
  {
   "attachments": {},
   "cell_type": "markdown",
   "id": "42cfb87b",
   "metadata": {
    "slideshow": {
     "slide_type": "subslide"
    }
   },
   "source": [
    "Proviamo la variabile `confezioni`:"
   ]
  },
  {
   "cell_type": "code",
   "execution_count": 192,
   "id": "f746303d",
   "metadata": {},
   "outputs": [
    {
     "data": {
      "text/plain": [
       "2.0"
      ]
     },
     "execution_count": 192,
     "metadata": {},
     "output_type": "execute_result"
    }
   ],
   "source": [
    "df['confezioni'].median()"
   ]
  },
  {
   "cell_type": "code",
   "execution_count": 193,
   "id": "87fee6fe",
   "metadata": {},
   "outputs": [
    {
     "data": {
      "text/plain": [
       "5.29"
      ]
     },
     "execution_count": 193,
     "metadata": {},
     "output_type": "execute_result"
    }
   ],
   "source": [
    "df['confezioni'].mean()"
   ]
  },
  {
   "cell_type": "code",
   "execution_count": 194,
   "id": "dcc5ea4d",
   "metadata": {},
   "outputs": [
    {
     "data": {
      "text/plain": [
       "134"
      ]
     },
     "execution_count": 194,
     "metadata": {},
     "output_type": "execute_result"
    }
   ],
   "source": [
    "df['confezioni'].max()"
   ]
  },
  {
   "attachments": {},
   "cell_type": "markdown",
   "id": "4cc9e3ad",
   "metadata": {
    "slideshow": {
     "slide_type": "fragment"
    }
   },
   "source": [
    "Qua la differenza è più marcata, probabilmente abbiamo un altro tipo di distribuzione. Verifichiamo."
   ]
  },
  {
   "cell_type": "code",
   "execution_count": 195,
   "id": "ccfda79d",
   "metadata": {
    "slideshow": {
     "slide_type": "subslide"
    }
   },
   "outputs": [
    {
     "data": {
      "image/png": "[encoded data removed]",
      "text/plain": [
       "<Figure size 700x300 with 1 Axes>"
      ]
     },
     "metadata": {},
     "output_type": "display_data"
    }
   ],
   "source": [
    "plt.figure(figsize=(7,3))\n",
    "plt.title('Frequenza confezioni vendute per cliente')\n",
    "plt.xlabel('Confezioni')\n",
    "plt.ylabel('Frequenza')\n",
    "plt.xlim(0,40)\n",
    "plt.hist(df['confezioni'], bins=100)  # dividiamo in 100 intervalli\n",
    "mediana =  df['confezioni'].median() # aggiungiamo linee per mediana e media\n",
    "media = df['confezioni'].mean()\n",
    "# coordinate x1,x2 e y1,y2 per disegnare una singola linea tratteggiata\n",
    "plt.plot([media,media], [0,400], '--', label='media')  \n",
    "plt.plot([mediana,mediana], [0,400], '--', label='mediana', color='yellow')\n",
    "plt.legend()\n",
    "plt.show()"
   ]
  },
  {
   "attachments": {},
   "cell_type": "markdown",
   "id": "9541baee",
   "metadata": {},
   "source": [
    "Questa distribuzione non è gaussiana..."
   ]
  },
  {
   "attachments": {},
   "cell_type": "markdown",
   "metadata": {
    "slideshow": {
     "slide_type": "slide"
    }
   },
   "source": [
    "## Quartili\n",
    "\n",
    "I quartili ripartiscono la popolazione in quarti. \n",
    "\n",
    "La mediana che abbiamo già visto è il quartile di mezzo. "
   ]
  },
  {
   "attachments": {},
   "cell_type": "markdown",
   "id": "29e1481c",
   "metadata": {
    "slideshow": {
     "slide_type": "fragment"
    }
   },
   "source": [
    "Il primo quartile è il valore per cui il 25% della popolazione ha un valore inferiore e il 75% ha un valore superiori. "
   ]
  },
  {
   "attachments": {},
   "cell_type": "markdown",
   "id": "b9dfabad",
   "metadata": {
    "slideshow": {
     "slide_type": "fragment"
    }
   },
   "source": [
    "Il terzo quartile è il valore per cui il 75% della popolazione ha un valore inferiore e il 25% ha un valore superiore. "
   ]
  },
  {
   "attachments": {},
   "cell_type": "markdown",
   "id": "387dcace",
   "metadata": {
    "slideshow": {
     "slide_type": "fragment"
    }
   },
   "source": [
    "I quartili sono detti quantili di ordine 1/4, 2/4 o 3/4 (nota la _n_)"
   ]
  },
  {
   "attachments": {},
   "cell_type": "markdown",
   "metadata": {
    "slideshow": {
     "slide_type": "subslide"
    }
   },
   "source": [
    "**SFIDA**: Prova ad aggiungere al grafico precedente le linee tratteggiate del primo e terzo quartile - usa la funzione [quantile](https://pandas.pydata.org/docs/reference/api/pandas.DataFrame.quantile.html) \n",
    "\n",
    "![expected-quantiles.png](img/expected-quantiles.png)"
   ]
  }
 ],
 "metadata": {
  "kernelspec": {
   "display_name": "Python 3 (ipykernel)",
   "language": "python",
   "name": "python3"
  },
  "language_info": {
   "codemirror_mode": {
    "name": "ipython",
    "version": 3
   },
   "file_extension": ".py",
   "mimetype": "text/x-python",
   "name": "python",
   "nbconvert_exporter": "python",
   "pygments_lexer": "ipython3",
   "version": "3.10.9"
  },
  "toc": {
   "base_numbering": 1,
   "nav_menu": {},
   "number_sections": false,
   "sideBar": true,
   "skip_h1_title": false,
   "title_cell": "Table of Contents",
   "title_sidebar": "Contents",
   "toc_cell": false,
   "toc_position": {
    "height": "calc(100% - 180px)",
    "left": "10px",
    "top": "150px",
    "width": "373.2px"
   },
   "toc_section_display": true,
   "toc_window_display": true
  }
 },
 "nbformat": 4,
 "nbformat_minor": 5
}
