{
 "cells": [
  {
   "attachments": {},
   "cell_type": "markdown",
   "id": "0049100b",
   "metadata": {},
   "source": [
    "# Principi di statistica e tools digitali\n",
    "\n",
    "## 1c: Iterazione\n",
    "\n",
    "### GG Analisi dei dati @ Fidia\n",
    "\n",
    "**Speaker**: David Leoni info@davidleoni.it\n",
    "\n",
    "Repository github per questi tutorial: https://github.com/DavidLeoni/ggad\n",
    "\n",
    "Materiale tratto dal libro [SoftPython](https://it.softpython.org)\n",
    "\n",
    "(Per navigare nelle slide premi Esc)"
   ]
  },
  {
   "attachments": {},
   "cell_type": "markdown",
   "id": "3558b538",
   "metadata": {
    "slideshow": {
     "slide_type": "subslide"
    }
   },
   "source": [
    "## Scaletta\n",
    "\n",
    "- `if`\n",
    "- `for` \n",
    "- `while`\n",
    "- sequenze "
   ]
  },
  {
   "attachments": {},
   "cell_type": "markdown",
   "id": "9a663aad",
   "metadata": {
    "slideshow": {
     "slide_type": "slide"
    }
   },
   "source": [
    "## Controllo di flusso - `if`\n",
    "\n",
    "Come eseguire codice solo se una condizione è vera?\n",
    "\n",
    "**Riferimenti:** [SoftPython - if](https://it.softpython.org/if/if1-sol.html)"
   ]
  },
  {
   "cell_type": "code",
   "execution_count": 32,
   "id": "a6bde6e2",
   "metadata": {
    "slideshow": {
     "slide_type": "-"
    }
   },
   "outputs": [
    {
     "name": "stdout",
     "output_type": "stream",
     "text": [
      "fatto tutto !\n",
      "posso uscire di casa.\n",
      "Fine.\n"
     ]
    }
   ],
   "source": [
    "fatto_colazione, lavato_denti = True, True\n",
    "\n",
    "if fatto_colazione and lavato_denti:\n",
    "    print(\"fatto tutto !\")\n",
    "    print(\"posso uscire di casa.\")\n",
    "    \n",
    "print(\"Fine.\")    "
   ]
  },
  {
   "attachments": {},
   "cell_type": "markdown",
   "id": "2a7ecf1a",
   "metadata": {
    "slideshow": {
     "slide_type": "fragment"
    }
   },
   "source": [
    "```python\n",
    "if ESPRESSIONE_BOOLEANA:\n",
    "    BLOCCO ISTRUZIONI\n",
    "```    "
   ]
  },
  {
   "attachments": {},
   "cell_type": "markdown",
   "id": "343f23d4",
   "metadata": {
    "slideshow": {
     "slide_type": "subslide"
    }
   },
   "source": [
    "Cosa fare se la condizione è falsa?"
   ]
  },
  {
   "cell_type": "code",
   "execution_count": 33,
   "id": "d6e720cd",
   "metadata": {
    "slideshow": {
     "slide_type": "-"
    }
   },
   "outputs": [
    {
     "name": "stdout",
     "output_type": "stream",
     "text": [
      "NON posso uscire di casa.\n",
      "Fine.\n"
     ]
    }
   ],
   "source": [
    "fatto_colazione, lavato_denti = True, False\n",
    "\n",
    "if fatto_colazione and lavato_denti:\n",
    "    print(\"fatto tutto !\")\n",
    "    print(\"posso uscire di casa.\")\n",
    "else:\n",
    "    print(\"NON posso uscire di casa.\")\n",
    "\n",
    "print(\"Fine.\")"
   ]
  },
  {
   "attachments": {},
   "cell_type": "markdown",
   "id": "b5403966",
   "metadata": {
    "slideshow": {
     "slide_type": "fragment"
    }
   },
   "source": [
    "\n",
    "```python\n",
    "if ESPRESSIONE_BOOLEANA:\n",
    "    BLOCCO ISTRUZIONI\n",
    "else:\n",
    "    ALTRO BLOCCO ISTRUZIONI    \n",
    "```    "
   ]
  },
  {
   "attachments": {},
   "cell_type": "markdown",
   "id": "eb44b3ca",
   "metadata": {
    "slideshow": {
     "slide_type": "subslide"
    }
   },
   "source": [
    "### `if`: Attenzione\n",
    "\n",
    "<div class=\"alert alert-warning\">\n",
    "\n",
    "**RICORDATI I DUE PUNTI `:` ALLA FINE DELLA LINEA DEL FOR !!!**\n",
    "</div>"
   ]
  },
  {
   "attachments": {},
   "cell_type": "markdown",
   "id": "7f1079f2",
   "metadata": {
    "slideshow": {
     "slide_type": "fragment"
    }
   },
   "source": [
    "<div class=\"alert alert-warning\">\n",
    "\n",
    "**Per indentare, usa SEMPRE 4 spazi bianchi**\n",
    "    \n",
    "Sequenze di 2 soli spazi per quanto consentite non sono raccomandate. \n",
    "</div>"
   ]
  },
  {
   "attachments": {},
   "cell_type": "markdown",
   "id": "a7801fcb",
   "metadata": {
    "slideshow": {
     "slide_type": "fragment"
    }
   },
   "source": [
    "<div class=\"alert alert-warning\">\n",
    "\n",
    "**Il comportamento di TAB dipende dal tuo editor**\n",
    "\n",
    "A seconda dell'editor che usi, premendo TAB potresti ottenere:\n",
    "    \n",
    "- una sequenza di spazi bianchi (4 in Jupyter)\n",
    "- ...oppure un carattere speciale di tabulazione (da evitare)! \n",
    "    \n",
    "</div>"
   ]
  },
  {
   "attachments": {},
   "cell_type": "markdown",
   "id": "2dc3c5e5",
   "metadata": {
    "slideshow": {
     "slide_type": "skip"
    }
   },
   "source": [
    "Per quanto noiosa questa distinzione ti possa apparire, ricordatela perchè potrebbe generare errori molto difficili da scoprire. "
   ]
  },
  {
   "attachments": {},
   "cell_type": "markdown",
   "id": "e8dd6b60",
   "metadata": {
    "slideshow": {
     "slide_type": "skip"
    }
   },
   "source": [
    "**✪ ESERCIZIO**: prova a scrivere qui sotto a mano il programma di prima, ed eseguilo con Control+Invio. Prova a cambiare i valori da `True` a `False` e guarda che succede. \n",
    "\n",
    "Assicurati di provare tutti i casi:\n",
    "\n",
    "- True True\n",
    "- True False\n",
    "- False True\n",
    "- False False\n",
    "\n",
    "<div class=\"alert alert-warning\">\n",
    "\n",
    "**ATTENZIONE**: Ricordati i `:` alla fine della riga con `if` !!!!\n",
    "\n",
    "</div>"
   ]
  },
  {
   "cell_type": "code",
   "execution_count": 34,
   "id": "e3d500c9",
   "metadata": {
    "slideshow": {
     "slide_type": "skip"
    }
   },
   "outputs": [],
   "source": [
    "# scrivi qui\n",
    "\n"
   ]
  },
  {
   "attachments": {},
   "cell_type": "markdown",
   "id": "d8ca7e0d",
   "metadata": {
    "slideshow": {
     "slide_type": "subslide"
    }
   },
   "source": [
    "### `if` - valori logici\n",
    "\n",
    "\n",
    "In Python, gli oggetti 'vuoti' hanno valore logico `False`:\n",
    "    \n",
    "- numero `0`, oggetto `None`, la stringa vuota `\"\"`, lista vuota `[]`, ..."
   ]
  },
  {
   "attachments": {},
   "cell_type": "markdown",
   "id": "44355f8a",
   "metadata": {
    "slideshow": {
     "slide_type": "fragment"
    }
   },
   "source": [
    "Tutto ciò che non è 'vuoto' è considerato `True`: "
   ]
  },
  {
   "attachments": {},
   "cell_type": "markdown",
   "id": "f570a0c8",
   "metadata": {
    "slideshow": {
     "slide_type": "fragment"
    }
   },
   "source": [
    "```python\n",
    "if ['Che', 'tempo', 'farà', 'domani?']:    \n",
    "    print(\"Sole!\")\n",
    "else:\n",
    "    print(\"Pioggia\")\n",
    "```"
   ]
  },
  {
   "attachments": {},
   "cell_type": "markdown",
   "id": "9ea992d0",
   "metadata": {
    "colab": {
     "autoexec": {
      "startup": false,
      "wait_interval": 0
     }
    },
    "colab_type": "code",
    "id": "6GWu1jIUAFSd",
    "slideshow": {
     "slide_type": "fragment"
    }
   },
   "source": [
    "```bash\n",
    "Sole!\n",
    "```"
   ]
  },
  {
   "attachments": {},
   "cell_type": "markdown",
   "id": "d370c95a",
   "metadata": {
    "slideshow": {
     "slide_type": "fragment"
    }
   },
   "source": [
    "**Per altre cose 'strane', vedere:** [SoftPython - Booleani - Ordine di valutazione](https://it.softpython.org/basics/basics2-bools-sol.html#Ordine-di-valutazione)"
   ]
  },
  {
   "attachments": {},
   "cell_type": "markdown",
   "id": "1226ec52",
   "metadata": {
    "slideshow": {
     "slide_type": "subslide"
    }
   },
   "source": [
    "### `if` annidati\n",
    "\n",
    "Si può anche mettere un `if` dentro l'altro (_nested if_). "
   ]
  },
  {
   "attachments": {},
   "cell_type": "markdown",
   "id": "6639f365",
   "metadata": {
    "slideshow": {
     "slide_type": "fragment"
    }
   },
   "source": [
    "Esempio (funziona esattamente come il precedente):"
   ]
  },
  {
   "cell_type": "code",
   "execution_count": 35,
   "id": "6b309a22",
   "metadata": {
    "slideshow": {
     "slide_type": "-"
    }
   },
   "outputs": [
    {
     "name": "stdout",
     "output_type": "stream",
     "text": [
      "fatto tutto !\n",
      "posso uscire di casa!\n"
     ]
    }
   ],
   "source": [
    "fatto_colazione, lavato_denti = True,True\n",
    "\n",
    "if fatto_colazione:\n",
    "    if lavato_denti:                        # NOTA: Questo blocco è indentato\n",
    "        print(\"fatto tutto !\")              #       rispetto all'if esterno\n",
    "        print(\"posso uscire di casa!\")      #\n",
    "    else:\n",
    "        print(\"NON posso uscire di casa\")\n",
    "else:\n",
    "    print(\"NON posso uscire di casa\")"
   ]
  },
  {
   "attachments": {},
   "cell_type": "markdown",
   "id": "a2a31a4d",
   "metadata": {
    "slideshow": {
     "slide_type": "skip"
    }
   },
   "source": [
    "**✪ ESERCIZIO**: Prova a modificare il programma riportato nella cella precedente per fargli riportare lo stato delle varie azioni compiute. Elenchiamo qui i possibili casi e i risultati attesi:\n",
    "\n",
    "- True False\n",
    "\n",
    "```\n",
    "ho fatto colazione\n",
    "non ho lavato i denti\n",
    "NON posso uscire di casa\n",
    "```\n",
    "\n",
    "- False True\n",
    "- False False\n",
    "\n",
    "```\n",
    "non ho fatto colazione\n",
    "NON posso uscire di casa\n",
    "```\n",
    "\n",
    "- True True\n",
    "```\n",
    "ho fatto colazione\n",
    "ho lavato i denti\n",
    "fatto tutto !\n",
    "posso uscire di casa!\n",
    "```\n",
    "\n",
    "\n",
    "\n",
    "\n"
   ]
  },
  {
   "cell_type": "code",
   "execution_count": 36,
   "id": "caa0c187",
   "metadata": {
    "slideshow": {
     "slide_type": "skip"
    }
   },
   "outputs": [],
   "source": [
    "# scrivi qui\n"
   ]
  },
  {
   "attachments": {},
   "cell_type": "markdown",
   "id": "a26185b4",
   "metadata": {
    "slideshow": {
     "slide_type": "skip"
    }
   },
   "source": [
    "**✪✪ ESERCIZIO**: prova a fare un programma che ti dice se puoi uscire di casa solo se  hai fatto colazione (per cui devi avere hai almeno un tipo di latte) e lavato i denti"
   ]
  },
  {
   "cell_type": "code",
   "execution_count": 37,
   "id": "c5f4979b",
   "metadata": {
    "slideshow": {
     "slide_type": "skip"
    }
   },
   "outputs": [],
   "source": [
    "ho_latte_intero = False\n",
    "ho_latte_scremato = True\n",
    "lavato_denti = False\n",
    "\n",
    "\n",
    "# scrivi qui\n",
    "\n"
   ]
  },
  {
   "attachments": {},
   "cell_type": "markdown",
   "id": "abbcb1d9",
   "metadata": {
    "slideshow": {
     "slide_type": "skip"
    }
   },
   "source": [
    "✪✪ ESERCIZIO: prova a fare un programma che ti dice se puoi nuotare se NON hai fatto colazione E hai il salvagente\n",
    "\n",
    "Assicurati di provare tutti i casi:\n",
    "\n",
    "- True True\n",
    "- True False\n",
    "- False True\n",
    "- False False"
   ]
  },
  {
   "cell_type": "code",
   "execution_count": 38,
   "id": "c982b667",
   "metadata": {
    "slideshow": {
     "slide_type": "skip"
    }
   },
   "outputs": [],
   "source": [
    "\n",
    "hai_salvagente = True\n",
    "fatto_colazione = True\n",
    "\n",
    "# scrivi qui\n"
   ]
  },
  {
   "attachments": {},
   "cell_type": "markdown",
   "id": "8832afdc",
   "metadata": {
    "slideshow": {
     "slide_type": "subslide"
    }
   },
   "source": [
    "### if in cascata:  `elif`"
   ]
  },
  {
   "cell_type": "code",
   "execution_count": 39,
   "id": "d8c5b55d",
   "metadata": {
    "slideshow": {
     "slide_type": "-"
    }
   },
   "outputs": [
    {
     "name": "stdout",
     "output_type": "stream",
     "text": [
      "poche caramelle!\n"
     ]
    }
   ],
   "source": [
    "caramelle = 3\n",
    "\n",
    "if caramelle > 10:\n",
    "    print('tante caramelle!')\n",
    "elif caramelle > 5:\n",
    "    print('abbastanza caramelle!')\n",
    "elif caramelle > 0:\n",
    "    print('poche caramelle!')    \n",
    "else:\n",
    "    print('Non ci sono caramelle!')"
   ]
  },
  {
   "cell_type": "code",
   "execution_count": 40,
   "id": "9a931519",
   "metadata": {
    "slideshow": {
     "slide_type": "fragment"
    }
   },
   "outputs": [
    {
     "name": "stdout",
     "output_type": "stream",
     "text": [
      "Non ci sono caramelle!\n"
     ]
    }
   ],
   "source": [
    "caramelle = 0\n",
    "\n",
    "if caramelle > 10:\n",
    "    print('tante caramelle!')\n",
    "elif caramelle > 5:\n",
    "    print('abbastanza caramelle!')\n",
    "elif caramelle > 0:\n",
    "    print('poche caramelle!')    \n",
    "else:\n",
    "    print('Non ci sono caramelle!')"
   ]
  },
  {
   "attachments": {},
   "cell_type": "markdown",
   "id": "34c3b68f",
   "metadata": {
    "slideshow": {
     "slide_type": "subslide"
    }
   },
   "source": [
    "## Costrutto `match` (menzione)\n",
    "\n",
    "```python3\n",
    "oggetto = \"Voglio un caffè\"\n",
    "\n",
    "match oggetto:\n",
    "    case \"Voglio un caffè\":\n",
    "        print(\"Preparo la moka...\")\n",
    "    case \"Voglio una brioche\":\n",
    "        print(\"Scaldo la brioche..\")\n",
    "    case altro:\n",
    "        print(\"Non ho capito cos'è\", altro)\n",
    "```\n",
    "```bash\n",
    "Preparo la moka...\n",
    "```"
   ]
  },
  {
   "attachments": {},
   "cell_type": "markdown",
   "id": "091a0d85",
   "metadata": {
    "slideshow": {
     "slide_type": "fragment"
    }
   },
   "source": [
    "- per evitare di scrivere `if` complicati\n",
    "- molto flessibile e potente\n",
    "- **SOLO da Python** $\\geq$ 3.10"
   ]
  },
  {
   "attachments": {},
   "cell_type": "markdown",
   "id": "090bb847",
   "metadata": {
    "colab_type": "text",
    "id": "y1_ipl04AFYh",
    "slideshow": {
     "slide_type": "slide"
    }
   },
   "source": [
    "## Iterazione\n",
    "\n",
    "Come compiere azioni su ogni elemento di una sequenza?\n"
   ]
  },
  {
   "attachments": {},
   "cell_type": "markdown",
   "id": "9c5d620f",
   "metadata": {
    "slideshow": {
     "slide_type": "fragment"
    }
   },
   "source": [
    "Cicli `for` \n",
    "- list comprehension\n",
    "\n",
    "Cicli `while`\n",
    "\n",
    "**Riferimenti**: [SoftPython - controllo di flusso](https://it.softpython.org/#for)"
   ]
  },
  {
   "attachments": {},
   "cell_type": "markdown",
   "id": "9d8f9145",
   "metadata": {
    "slideshow": {
     "slide_type": "subslide"
    }
   },
   "source": [
    "## Iterazione - Cicli for"
   ]
  },
  {
   "cell_type": "code",
   "execution_count": 41,
   "id": "6e727286",
   "metadata": {
    "colab": {
     "autoexec": {
      "startup": false,
      "wait_interval": 0
     },
     "output_extras": [
      {}
     ]
    },
    "colab_type": "code",
    "id": "dvT2rnbBAFYi",
    "outputId": "e5deee14-f728-4236-9a21-0cb13531897e",
    "slideshow": {
     "slide_type": "-"
    }
   },
   "outputs": [
    {
     "name": "stdout",
     "output_type": "stream",
     "text": [
      "Nella lista ci sono:\n",
      "cani\n",
      "Nella lista ci sono:\n",
      "gatti\n",
      "Nella lista ci sono:\n",
      "scoiattoli\n"
     ]
    }
   ],
   "source": [
    "animali = ['cani', 'gatti', 'scoiattoli']\n",
    "\n",
    "for animale in animali:\n",
    "    print(\"Nella lista ci sono:\")\n",
    "    print(animale)"
   ]
  },
  {
   "attachments": {},
   "cell_type": "markdown",
   "id": "f46f77cb",
   "metadata": {
    "colab_type": "text",
    "id": "aYoeEiXoAFYn",
    "slideshow": {
     "slide_type": "fragment"
    }
   },
   "source": [
    "- abbiamo definito la variabile `animale` "
   ]
  },
  {
   "attachments": {},
   "cell_type": "markdown",
   "id": "613a8813",
   "metadata": {
    "slideshow": {
     "slide_type": "fragment"
    }
   },
   "source": [
    "- per ogni elemento nella lista `animali`: \n",
    "\n",
    "    - la variabile `animale` assume il valore dell'elemento\n",
    "    - vengono eseguite le istruzioni dentro il blocco"
   ]
  },
  {
   "attachments": {},
   "cell_type": "markdown",
   "id": "52e59f1c",
   "metadata": {
    "colab_type": "text",
    "id": "wnbHtwz7AFYo",
    "slideshow": {
     "slide_type": "skip"
    }
   },
   "source": [
    "**✪ ESERCIZIO**: Proviamo a capire meglio tutti gli _Attenzione_ qua sopra. Scrivi qui sotto il `for` con gli animali di prima (niente copia e incolla!), vedi se funziona. Ricordati di usare 4 spazi per le indentazioni. \n",
    "\n",
    "- Poi prova a togliere i due punti alla fine e vedi che errore ti da Python\n",
    "- Riaggiungi i due punti, e adesso prova a variare l'indentazione. Prova a mettere due spazi all'inizio di entrambi i print, vedi se esegue\n",
    "- Adesso prova a mettere due spazi prima del primo print e 4 spazi prima del secondo, e vedi se esegue"
   ]
  },
  {
   "cell_type": "code",
   "execution_count": 42,
   "id": "9eaefba8",
   "metadata": {
    "colab": {
     "autoexec": {
      "startup": false,
      "wait_interval": 0
     }
    },
    "colab_type": "code",
    "id": "STgILuUEAFYr",
    "slideshow": {
     "slide_type": "skip"
    }
   },
   "outputs": [],
   "source": [
    "# scrivi qui - copia il for di sopra\n"
   ]
  },
  {
   "attachments": {},
   "cell_type": "markdown",
   "id": "8a726197",
   "metadata": {
    "colab_type": "text",
    "id": "4JM8nJYtAFYx",
    "slideshow": {
     "slide_type": "subslide"
    }
   },
   "source": [
    "### Sequenza `range`"
   ]
  },
  {
   "cell_type": "code",
   "execution_count": 43,
   "id": "33830426",
   "metadata": {
    "slideshow": {
     "slide_type": "-"
    }
   },
   "outputs": [
    {
     "data": {
      "text/plain": [
       "range(0, 5)"
      ]
     },
     "execution_count": 43,
     "metadata": {},
     "output_type": "execute_result"
    }
   ],
   "source": [
    "range(5)"
   ]
  },
  {
   "attachments": {},
   "cell_type": "markdown",
   "id": "f2ab0aea",
   "metadata": {
    "slideshow": {
     "slide_type": "fragment"
    }
   },
   "source": [
    "`range(n)` rappresenta una sequenza con i primi numeri da `0` incluso a `n` _escluso_"
   ]
  },
  {
   "attachments": {},
   "cell_type": "markdown",
   "id": "888e7f35",
   "metadata": {
    "slideshow": {
     "slide_type": "fragment"
    }
   },
   "source": [
    "la sequenza è 'congelata'"
   ]
  },
  {
   "attachments": {},
   "cell_type": "markdown",
   "id": "122ad12b",
   "metadata": {
    "slideshow": {
     "slide_type": "fragment"
    }
   },
   "source": [
    "Per materializzare i numeri, convertire esplicitamente a `list`:"
   ]
  },
  {
   "cell_type": "code",
   "execution_count": 44,
   "id": "4265e2b7",
   "metadata": {
    "slideshow": {
     "slide_type": "-"
    }
   },
   "outputs": [
    {
     "data": {
      "text/plain": [
       "[0, 1, 2, 3, 4]"
      ]
     },
     "execution_count": 44,
     "metadata": {},
     "output_type": "execute_result"
    }
   ],
   "source": [
    "list(range(5))"
   ]
  },
  {
   "attachments": {},
   "cell_type": "markdown",
   "id": "65c752e7",
   "metadata": {
    "slideshow": {
     "slide_type": "subslide"
    }
   },
   "source": [
    "### for in range\n",
    "\n",
    "Come incrementare un contatore ad ogni ciclo?\n",
    "\n",
    "Possiamo usare `range`\n",
    "\n",
    "Il `for` scorre automaticamente la sequenza:"
   ]
  },
  {
   "cell_type": "code",
   "execution_count": 45,
   "id": "8bc42863",
   "metadata": {
    "colab": {
     "autoexec": {
      "startup": false,
      "wait_interval": 0
     },
     "output_extras": [
      {}
     ]
    },
    "colab_type": "code",
    "id": "AKaswfGQAFYy",
    "outputId": "7110d199-e29a-4c79-9ff6-c04a1b64bb63",
    "slideshow": {
     "slide_type": "-"
    }
   },
   "outputs": [
    {
     "name": "stdout",
     "output_type": "stream",
     "text": [
      "0\n",
      "1\n",
      "2\n",
      "3\n",
      "4\n"
     ]
    }
   ],
   "source": [
    "for indice in range(5):\n",
    "    print(indice)"
   ]
  },
  {
   "attachments": {},
   "cell_type": "markdown",
   "id": "10e1e426",
   "metadata": {
    "slideshow": {
     "slide_type": "subslide"
    }
   },
   "source": [
    "### A cosa serve `for in range`? 1/2\n",
    "\n",
    "Per leggere da una lista possiamo usare gli indici:"
   ]
  },
  {
   "cell_type": "code",
   "execution_count": 46,
   "id": "8ab019e7",
   "metadata": {
    "slideshow": {
     "slide_type": "-"
    }
   },
   "outputs": [
    {
     "name": "stdout",
     "output_type": "stream",
     "text": [
      "cani\n",
      "gatti\n",
      "scoiattoli\n"
     ]
    }
   ],
   "source": [
    "animali = ['cani', 'gatti', 'scoiattoli']\n",
    "\n",
    "for indice in range(len(animali)):        \n",
    "    print(animali[indice])"
   ]
  },
  {
   "attachments": {},
   "cell_type": "markdown",
   "id": "9245c08d",
   "metadata": {
    "colab_type": "text",
    "id": "Z5jrBwStAFZQ",
    "slideshow": {
     "slide_type": "subslide"
    }
   },
   "source": [
    "### A cosa serve `for in range`? 2/2\n",
    "\n",
    "Per MODIFICARE celle esistenti di una lista, **dobbiamo** usare gli indici:"
   ]
  },
  {
   "cell_type": "code",
   "execution_count": 47,
   "id": "ecf802ff",
   "metadata": {
    "slideshow": {
     "slide_type": "-"
    }
   },
   "outputs": [
    {
     "name": "stdout",
     "output_type": "stream",
     "text": [
      "['CANI', 'GATTI', 'SCOIATTOLI']\n"
     ]
    }
   ],
   "source": [
    "animali = ['cani', 'gatti', 'scoiattoli']\n",
    "\n",
    "for indice in range(len(animali)):    \n",
    "    animali[indice] = animali[indice].upper()  \n",
    "    \n",
    "print(animali)    "
   ]
  },
  {
   "attachments": {},
   "cell_type": "markdown",
   "id": "662b3c15",
   "metadata": {
    "slideshow": {
     "slide_type": "fragment"
    }
   },
   "source": [
    "Senza indici, non funziona:"
   ]
  },
  {
   "cell_type": "code",
   "execution_count": 48,
   "id": "dc58bc12",
   "metadata": {
    "slideshow": {
     "slide_type": "-"
    }
   },
   "outputs": [
    {
     "name": "stdout",
     "output_type": "stream",
     "text": [
      "['cani', 'gatti', 'scoiattoli']\n"
     ]
    }
   ],
   "source": [
    "animali = ['cani', 'gatti', 'scoiattoli']\n",
    "\n",
    "for animale in animali:\n",
    "    animale = animale.upper()  # SBAGLIATO, NON FA NULLA\n",
    "print(animali)    "
   ]
  },
  {
   "attachments": {},
   "cell_type": "markdown",
   "id": "43403dcb",
   "metadata": {
    "slideshow": {
     "slide_type": "subslide"
    }
   },
   "source": [
    "<div class=\"alert alert-info\" >\n",
    "\n",
    "**COMANDAMENTO: Non aggiungerai o toglierai mai elementi da una sequenza che iteri con un** `for` **!**\n",
    "</div>"
   ]
  },
  {
   "cell_type": "code",
   "execution_count": 49,
   "id": "e3bf216d",
   "metadata": {
    "slideshow": {
     "slide_type": "-"
    }
   },
   "outputs": [
    {
     "data": {
      "text/plain": [
       "['b', 'd']"
      ]
     },
     "execution_count": 49,
     "metadata": {},
     "output_type": "execute_result"
    }
   ],
   "source": [
    "lista = ['a','b','c','d','e']\n",
    "\n",
    "for el in lista:\n",
    "    lista.remove(el)   # PESSIMA IDEA\n",
    "\n",
    "lista  # RISULTATO IMPREVEDIBILE  !!!!"
   ]
  },
  {
   "attachments": {},
   "cell_type": "markdown",
   "id": "fb8e091c",
   "metadata": {
    "slideshow": {
     "slide_type": "-"
    }
   },
   "source": [
    "**Per saperne di più**: [SoftPython - Modificare durante l'iterazione](https://it.softpython.org/for/for1-intro-sol.html#Modificare-durante-l'iterazione)"
   ]
  },
  {
   "attachments": {},
   "cell_type": "markdown",
   "id": "31807c88",
   "metadata": {
    "colab_type": "text",
    "id": "BbNGWT5PeX_x",
    "slideshow": {
     "slide_type": "subslide"
    }
   },
   "source": [
    "### List comprehension\n",
    "\n",
    "Espressione per generare una NUOVA lista a partire da una sequenza"
   ]
  },
  {
   "cell_type": "code",
   "execution_count": 50,
   "id": "721d2532",
   "metadata": {
    "colab": {
     "autoexec": {
      "startup": false,
      "wait_interval": 0
     }
    },
    "colab_type": "code",
    "id": "I7fl60rudyTU",
    "slideshow": {
     "slide_type": "-"
    }
   },
   "outputs": [
    {
     "data": {
      "text/plain": [
       "['CANI', 'GATTI', 'SCOIATTOLI', 'ALCI']"
      ]
     },
     "execution_count": 50,
     "metadata": {},
     "output_type": "execute_result"
    }
   ],
   "source": [
    "animali = ['cani', 'gatti', 'scoiattoli', 'alci']\n",
    "\n",
    "nuova_lista = [animale.upper() for animale in animali  ]\n",
    "\n",
    "nuova_lista"
   ]
  },
  {
   "cell_type": "code",
   "execution_count": 51,
   "id": "260d3a22",
   "metadata": {
    "slideshow": {
     "slide_type": "fragment"
    }
   },
   "outputs": [
    {
     "data": {
      "text/plain": [
       "['cani', 'gatti', 'scoiattoli', 'alci']"
      ]
     },
     "execution_count": 51,
     "metadata": {},
     "output_type": "execute_result"
    }
   ],
   "source": [
    "animali"
   ]
  },
  {
   "attachments": {},
   "cell_type": "markdown",
   "id": "0cffc97e",
   "metadata": {
    "slideshow": {
     "slide_type": "fragment"
    }
   },
   "source": [
    "```python\n",
    "[ ESPRESSIONE for VARIABILE in SEQUENZA ] \n",
    "```\n",
    "\n",
    "- Sintassi imita le liste\n",
    "- esegue la stessa operazione su tutti gli elementi di una sequenza\n",
    "\n",
    "**Riferimenti**: [SoftPython - Sequenze](https://it.softpython.org/sequences/sequences1-sol.html#List-comprehensions)"
   ]
  },
  {
   "attachments": {},
   "cell_type": "markdown",
   "id": "407491af",
   "metadata": {
    "colab_type": "text",
    "id": "wJkXW0NulL8I",
    "slideshow": {
     "slide_type": "subslide"
    }
   },
   "source": [
    "**Per filtrare con le comprehension**: "
   ]
  },
  {
   "cell_type": "code",
   "execution_count": 52,
   "id": "24f72c6d",
   "metadata": {
    "colab": {
     "autoexec": {
      "startup": false,
      "wait_interval": 0
     },
     "base_uri": "https://localhost:8080/",
     "height": 34,
     "output_extras": [
      {
       "item_id": 1
      }
     ]
    },
    "colab_type": "code",
    "executionInfo": {
     "elapsed": 562,
     "status": "ok",
     "timestamp": 1519052514136,
     "user": {
      "displayName": "David Leoni",
      "photoUrl": "https://lh3.googleusercontent.com/a/default-user=s128",
      "userId": "102920557909426557439"
     },
     "user_tz": -60
    },
    "id": "3j3N8Z16lKDW",
    "outputId": "ee544608-9e3a-4918-f6a3-716081ad8b8a",
    "slideshow": {
     "slide_type": "-"
    }
   },
   "outputs": [
    {
     "data": {
      "text/plain": [
       "['CANI', 'ALCI']"
      ]
     },
     "execution_count": 52,
     "metadata": {},
     "output_type": "execute_result"
    }
   ],
   "source": [
    "animali = ['cani', 'gatti', 'scoiattoli', 'alci']\n",
    "\n",
    "[animale.upper() for animale in animali if len(animale) == 4]"
   ]
  },
  {
   "attachments": {},
   "cell_type": "markdown",
   "id": "91440c9e",
   "metadata": {
    "slideshow": {
     "slide_type": "-"
    }
   },
   "source": [
    "- aggiungere un `if ESPRESSIONE_BOOLEANA` speciale alla fine"
   ]
  },
  {
   "attachments": {},
   "cell_type": "markdown",
   "id": "a3f6cd51",
   "metadata": {
    "slideshow": {
     "slide_type": "slide"
    }
   },
   "source": [
    "## Iterazione - Ciclo while"
   ]
  },
  {
   "cell_type": "code",
   "execution_count": 53,
   "id": "39e53c03",
   "metadata": {
    "scrolled": true,
    "slideshow": {
     "slide_type": "-"
    }
   },
   "outputs": [
    {
     "name": "stdout",
     "output_type": "stream",
     "text": [
      "Ho contato fino a 1\n",
      "Ho contato fino a 2\n",
      "Ho contato fino a 3\n",
      "Ciclo finito !\n"
     ]
    }
   ],
   "source": [
    "i = 1\n",
    "\n",
    "while i < 4:\n",
    "    print('Ho contato fino a', i)\n",
    "    i += 1\n",
    "    \n",
    "print('Ciclo finito !')"
   ]
  },
  {
   "attachments": {},
   "cell_type": "markdown",
   "id": "cead90d4",
   "metadata": {
    "slideshow": {
     "slide_type": "fragment"
    }
   },
   "source": [
    "Blocco di codice eseguito ripetutamente fintantochè una condizione booleana è vera\n",
    "\n",
    "**Riferimenti**: [SoftPython - cicli while](https://it.softpython.org/while/while1-sol.html)"
   ]
  },
  {
   "attachments": {},
   "cell_type": "markdown",
   "id": "c009d6c2",
   "metadata": {
    "slideshow": {
     "slide_type": "subslide"
    }
   },
   "source": [
    "### Quando usare `while`?\n",
    "\n",
    "Tipicamente per\n",
    "\n",
    "- effettuare ricerche in una sequenza"
   ]
  },
  {
   "attachments": {},
   "cell_type": "markdown",
   "id": "aa38d843",
   "metadata": {
    "slideshow": {
     "slide_type": "fragment"
    }
   },
   "source": [
    "- aggiungere/togliere elementi dalla sequenza che si sta iterando"
   ]
  },
  {
   "attachments": {},
   "cell_type": "markdown",
   "id": "4c84e343",
   "metadata": {
    "slideshow": {
     "slide_type": "fragment"
    }
   },
   "source": [
    "- cicli infiniti"
   ]
  },
  {
   "attachments": {},
   "cell_type": "markdown",
   "id": "b164cdc3",
   "metadata": {
    "slideshow": {
     "slide_type": "fragment"
    }
   },
   "source": [
    "Altrimenti, consigliamo il `for`\n",
    "\n",
    "Riferimenti: [SoftPython - while - Modificare sequenze](https://it.softpython.org/while/while1-sol.html#Modificare-sequenze)"
   ]
  },
  {
   "attachments": {},
   "cell_type": "markdown",
   "id": "8146645f",
   "metadata": {
    "slideshow": {
     "slide_type": "subslide"
    }
   },
   "source": [
    "### Esempio `while` - cerca e togli in sequenza\n",
    "\n",
    "Pesca carte da `mazzo` (da destra) finchè trova cuori"
   ]
  },
  {
   "cell_type": "code",
   "execution_count": 54,
   "id": "f572b124",
   "metadata": {
    "slideshow": {
     "slide_type": "-"
    }
   },
   "outputs": [],
   "source": [
    "mazzo = ['3 di cuori','2 di picche','9 di cuori','5 di quadri','8 di fiori']\n",
    "carta = ''"
   ]
  },
  {
   "cell_type": "code",
   "execution_count": 55,
   "id": "8b9119a7",
   "metadata": {
    "slideshow": {
     "slide_type": "fragment"
    }
   },
   "outputs": [
    {
     "name": "stdout",
     "output_type": "stream",
     "text": [
      "mazzo: ['3 di cuori', '2 di picche', '9 di cuori', '5 di quadri', '8 di fiori']\n",
      "pescato 8 di fiori\n",
      "mazzo: ['3 di cuori', '2 di picche', '9 di cuori', '5 di quadri']\n",
      "pescato 5 di quadri\n",
      "mazzo: ['3 di cuori', '2 di picche', '9 di cuori']\n",
      "pescato 9 di cuori\n",
      "mazzo: ['3 di cuori', '2 di picche']\n",
      "Uscito dal ciclo!\n"
     ]
    }
   ],
   "source": [
    "print(\"mazzo:\", mazzo)\n",
    "while len(mazzo) > 0 and 'cuori' not in carta:\n",
    "    carta = mazzo.pop()  # rimuove ultima carta dal mazzo        \n",
    "    print(\"pescato\", carta)\n",
    "    print(\"mazzo:\", mazzo)\n",
    "    \n",
    "print(\"Uscito dal ciclo!\")"
   ]
  },
  {
   "attachments": {},
   "cell_type": "markdown",
   "id": "a6853e61",
   "metadata": {
    "slideshow": {
     "slide_type": "subslide"
    }
   },
   "source": [
    "## Iterazione - Performance\n",
    "\n",
    "Python è un linguaggio intepretato -> lento.."
   ]
  },
  {
   "attachments": {},
   "cell_type": "markdown",
   "id": "84f3ca5d",
   "metadata": {
    "slideshow": {
     "slide_type": "fragment"
    }
   },
   "source": [
    "\n",
    "Solo _dove serve_ ottimizzare:\n",
    "\n",
    "- evitare cicli e usare librerie specializzate\n",
    "  \n",
    "    (vedi tutorial [numpy](https://it.softpython.org/matrices-numpy/matrices-numpy1-sol.html), [pandas](https://it.softpython.org/pandas/pandas1-sol.html), ..)"
   ]
  },
  {
   "attachments": {},
   "cell_type": "markdown",
   "id": "1ef0666f",
   "metadata": {
    "slideshow": {
     "slide_type": "fragment"
    }
   },
   "source": [
    "- oppure compilare Python 'ristretto' in C  ([Cython](https://cython.org/), [Mypyc](https://github.com/mypyc/mypyc), ...)"
   ]
  },
  {
   "attachments": {},
   "cell_type": "markdown",
   "id": "fd9ce44a",
   "metadata": {
    "slideshow": {
     "slide_type": "slide"
    }
   },
   "source": [
    "## CHALLENGE - Ascensore a due piani\n",
    "\n",
    "✪ Requisiti: [if annidati](https://it.softpython.org/if/if1-sol.html)\n",
    "\n",
    "Dobbiamo installare l'ascensore in un palazzo di due piani. Esistono il piano `'terra'` e il piano `'rialzato'`.\n",
    "Il nostro compito è quello di programmare la centralina dell'ascensore, affinche mostri sul display al piano dell'utente dove si trova l'ascensore\n",
    "\n",
    "Gli input che abbiamo sono:\n",
    "\n",
    "- `piano_utente`, il piano a cui l'utente ha appena chiamato l'ascensore\n",
    "- `piano_ascensore`, il piano a cui si trova l'ascensore\n",
    "\n",
    "Se l'ascensore si trova allo stesso piano dell'utente si dovranno aprire le \n",
    "porte, e stamperemo sul display l'output `'DING!'` per simulare il suono che farebbe un ascensore che è appena arrivato.\n",
    "\n",
    "L'output della centralina deve essere l'ordine di azioni da effettuare per \n",
    "portare l'ascensore al piano dell'utente."
   ]
  },
  {
   "attachments": {},
   "cell_type": "markdown",
   "id": "a11cee97",
   "metadata": {
    "slideshow": {
     "slide_type": "subslide"
    }
   },
   "source": [
    "Esempio 1 - dati:\n",
    "\n",
    "```python\n",
    "piano_utente = 'terra'; \n",
    "piano_ascensore = 'rialzato'    \n",
    "```\n",
    "\n",
    "stampa:\n",
    "\n",
    "```\n",
    "rialzato\n",
    "terra\n",
    "DING!\n",
    "```\n",
    "\n",
    "perchè l'utente mentre aspetta al piano terra che arrivi l'ascensore vedrà sul display la scritta `rialzato`, poi `terra` e infine sentirà il suono `DING!` (non devi far produrre nessun suono a python, semplicemente stampa la scritta!)"
   ]
  },
  {
   "attachments": {},
   "cell_type": "markdown",
   "id": "1b5c3f55",
   "metadata": {
    "slideshow": {
     "slide_type": "subslide"
    }
   },
   "source": [
    "Esempio 2 - dati:\n",
    "\n",
    "```python\n",
    "piano_utente = 'rialzato'\n",
    "piano_ascensore = 'rialzato'\n",
    "```\n",
    "\n",
    "stampa:\n",
    "\n",
    "```\n",
    "DING!\n",
    "```  \n",
    "\n",
    "perchè l'ascensore è allo stesso piano dell'utente e produce direttamente il suono per invitare l'utente ad entrare nell'ascensore."
   ]
  },
  {
   "cell_type": "code",
   "execution_count": 56,
   "id": "6f5c4367",
   "metadata": {},
   "outputs": [],
   "source": [
    "\n",
    "piano_utente = 'terra'; piano_ascensore = 'rialzato'     # rialzato, terra, DING!\n",
    "#piano_utente = 'rialzato'; piano_ascensore = 'terra'    # terra, rialzato, DING!\n",
    "#piano_utente = 'terra'; piano_ascensore = 'terra'       # DING!\n",
    "#piano_utente = 'rialzato'; piano_ascensore = 'rialzato' # DING!\n",
    "\n",
    "# scrivi qui\n",
    "\n"
   ]
  },
  {
   "attachments": {},
   "cell_type": "markdown",
   "id": "7960fde1",
   "metadata": {
    "slideshow": {
     "slide_type": "subslide"
    }
   },
   "source": [
    "## CHALLENGE - ascensore a 10 piani\n",
    "\n",
    "✪✪ Requisiti: [if annidati](https://it.softpython.org/if/if1-sol.html), [cicli for](https://it.softpython.org/for/for1-intro-sol.html), range negativi\n",
    "\n",
    "Questa sfida è come l'ascensore a 2 piani, ma in questo caso le posizioni dell'ascensore e dell'utente sono memorizzate come interi da `0` a `10`. \n",
    "\n",
    "Esempio - dati:\n",
    "\n",
    "```python\n",
    "piano_utente = 3; piano_ascensore = 7\n",
    "```\n",
    "\n",
    "STAMPA:\n",
    "\n",
    "```python    \n",
    "7\n",
    "6\n",
    "5\n",
    "4\n",
    "3\n",
    "DING!\n",
    "```"
   ]
  },
  {
   "cell_type": "code",
   "execution_count": 60,
   "id": "3e1aa79f",
   "metadata": {},
   "outputs": [],
   "source": [
    "piano_utente = 3; piano_ascensore = 7    # 7,6,5,4,3,DING!\n",
    "#piano_utente = 5; piano_ascensore = 0   # 0,1,2,3,4,5,DING!\n",
    "#piano_utente = 3; piano_ascensore = 3   # DING!\n",
    "#piano_utente = 4; piano_ascensore = 6   # 6,5,4,DING!\n",
    "#piano_utente = 6; piano_ascensore = 4   # 4,5,6,DING!\n",
    "\n",
    "# scrivi qui"
   ]
  },
  {
   "attachments": {},
   "cell_type": "markdown",
   "id": "159251ee",
   "metadata": {
    "slideshow": {
     "slide_type": "subslide"
    }
   },
   "source": [
    "\n",
    "## CHALLENGE - Il Dungeon\n",
    "\n",
    "✪✪✪ Requisiti: `while`, `if`, `liste`\n",
    "\n",
    "Un cavaliere si inoltra in una caverna alla ricerca di oggetti preziosi. Appena trova quello che sta cercando, esulta e torna indietro. \n",
    "\n",
    "Rappresentiamo la `caverna` come una lista di stringhe. L'oggetto da cercare è indicato nella variabile `cerco`. \n",
    "\n",
    "Scrivi del codice che date le voci STAMPA il percorso.\n",
    "\n",
    "- **USA** un  `while`\n",
    "- **NON USARE** `break` !!\n",
    "- **NON USARE** metodi di ricerca come `.index` o `count`"
   ]
  },
  {
   "attachments": {},
   "cell_type": "markdown",
   "id": "4449b5d7",
   "metadata": {
    "slideshow": {
     "slide_type": "subslide"
    }
   },
   "source": [
    "**Esempio 1** - Dati:\n",
    "\n",
    "```python\n",
    "cerco = 'il tesoro'\n",
    "caverna = ['un masso','una trappola','delle spade',\n",
    "           'il tesoro','una ragnatela', 'un boleto delle tombe']\n",
    "\n",
    "```\n",
    "\n",
    "stampa:\n",
    "\n",
    "```bash    \n",
    "Entro\n",
    "Vedo un masso\n",
    "Vedo una trappola\n",
    "Vedo delle spade\n",
    "Che fortuna! Ho trovato il tesoro\n",
    "Torno indietro!\n",
    "Vedo delle spade\n",
    "Vedo una trappola\n",
    "Vedo un masso\n",
    "Esco\n",
    "```"
   ]
  },
  {
   "attachments": {},
   "cell_type": "markdown",
   "id": "5a3b035f",
   "metadata": {
    "slideshow": {
     "slide_type": "subslide"
    }
   },
   "source": [
    "**Esempio 2:** Una lista può anche *non* contenere l'oggetto cercato, in tal caso bisognerà  mostrare un messaggio apposito. Per es, dati:\n",
    "\n",
    "```python    \n",
    "cerco = 'il talismano del potere'\n",
    "caverna = ['una trappola','un boleto delle tombe','una ragnatela']\n",
    "```    \n",
    "\n",
    "stampa:\n",
    "\n",
    "```bash   \n",
    "Entro\n",
    "Vedo una trappola\n",
    "Vedo un boleto delle tombe\n",
    "Vedo una ragnatela\n",
    "Purtroppo il talismano del potere non c'è\n",
    "Torno indietro!\n",
    "Vedo una ragnatela\n",
    "Vedo un boleto delle tombe\n",
    "Vedo una trappola\n",
    "Esco\n",
    "```"
   ]
  },
  {
   "cell_type": "code",
   "execution_count": 58,
   "id": "4a4c1901",
   "metadata": {
    "slideshow": {
     "slide_type": "subslide"
    }
   },
   "outputs": [],
   "source": [
    "\n",
    "cerco,caverna='il tesoro', ['un masso','una trappola','delle spade','il tesoro','una ragnatela','un boleto delle tombe']\n",
    "\n",
    "#cerco,caverna = 'il talismano del potere', ['una trappola','un boleto delle tombe','una ragnatela']\n",
    "#cerco, caverna = 'la corona di rubini', []                         # funziona anche in questi casi particolari?\n",
    "#cerco, caverna = 'la corona di rubini', ['la corona di rubini']    # \n",
    "#cerco, caverna = 'la corona di rubini', ['il martello di granito'] # \n",
    "\n",
    "# scrivi qui\n",
    "\n"
   ]
  },
  {
   "attachments": {},
   "cell_type": "markdown",
   "id": "2b452fa6",
   "metadata": {
    "slideshow": {
     "slide_type": "subslide"
    }
   },
   "source": [
    "## CHALLENGE - Trivellum\n",
    "\n",
    "✪✪ La compagnia mineraria Trivellum ha scoperto un `pozzo` di cobalto<!--,un minerale raro e indispensabile nella produzione di batterie al litio che si trovano ormai in ogni dispositivo portatile-->. Nel pozzo si trovano diversi strati, ognuno contenente una lega di diversa composizione: una volta trivellato, lo strato viene suddiviso in blocchi che vengono poi issati su un `carrello` per il successivo trasporto.\n",
    "\n",
    "Scrivi del codice che **MODIFICA** la variabile `pozzo` togliendo gli strati, e **MODIFICA** la variabile `carrello` aggiungendo i vari blocchi scavati.\n",
    "\n",
    "* **USA** un ciclo `while`\n",
    "* **STAMPA** i vari passaggi\n",
    "* **NON** riassegnare `pozzo` nè `carrello` (quindi niente `pozzo = ...` o `carrello = ...`)"
   ]
  },
  {
   "attachments": {},
   "cell_type": "markdown",
   "id": "28a7ba43",
   "metadata": {
    "slideshow": {
     "slide_type": "subslide"
    }
   },
   "source": [
    "Esempio - dati:\n",
    "\n",
    "```python\n",
    "pozzo = ['███','▓▓▓','▒▒▒', '░░░']    # <-- cima del pozzo\n",
    "carrello = []\n",
    "```\n",
    "\n",
    "Il tuo programma deve stampare:\n",
    "\n",
    "```python\n",
    "il pozzo è: ['███', '▓▓▓', '▒▒▒', '░░░']\n",
    "Trivello lo strato ░░░ e lo divido nei blocchi ['░', '░', '░']\n",
    "\n",
    "il pozzo è: ['███', '▓▓▓', '▒▒▒']\n",
    "Trivello lo strato ▒▒▒ e lo divido nei blocchi ['▒', '▒', '▒']\n",
    "\n",
    "il pozzo è: ['███', '▓▓▓']\n",
    "Trivello lo strato ▓▓▓ e lo divido nei blocchi ['▓', '▓', '▓']\n",
    "\n",
    "il pozzo è: ['███']\n",
    "Trivello lo strato ███ e lo divido nei blocchi ['█', '█', '█']\n",
    "\n",
    "Il pozzo finale è   : []\n",
    "Il carrello finale è: ['░', '░', '░', '▒', '▒', '▒', '▓', '▓', '▓', '█', '█', '█']\n",
    "```"
   ]
  },
  {
   "cell_type": "code",
   "execution_count": 61,
   "id": "a40cf589",
   "metadata": {
    "slideshow": {
     "slide_type": "subslide"
    }
   },
   "outputs": [],
   "source": [
    "\n",
    "carrello = []\n",
    "pozzo = ['███','▓▓▓','▒▒▒', '░░░']  # <-- cima del pozzo\n",
    "\n",
    "#pozzo = ['┼┼','┤├','┐┌','╗╔','║║']  # ['║','║','╗','╔','┐','┌','┤','├','┼','┼']\n",
    "\n",
    "# scrivi qui\n",
    "\n",
    "\n",
    "\n"
   ]
  }
 ],
 "metadata": {
  "kernelspec": {
   "display_name": "Python 3 (ipykernel)",
   "language": "python",
   "name": "python3"
  },
  "language_info": {
   "codemirror_mode": {
    "name": "ipython",
    "version": 3
   },
   "file_extension": ".py",
   "mimetype": "text/x-python",
   "name": "python",
   "nbconvert_exporter": "python",
   "pygments_lexer": "ipython3",
   "version": "3.10.9"
  },
  "toc": {
   "base_numbering": 1,
   "nav_menu": {},
   "number_sections": false,
   "sideBar": true,
   "skip_h1_title": false,
   "title_cell": "Table of Contents",
   "title_sidebar": "Contents",
   "toc_cell": false,
   "toc_position": {
    "height": "calc(100% - 180px)",
    "left": "10px",
    "top": "150px",
    "width": "373.2px"
   },
   "toc_section_display": true,
   "toc_window_display": true
  }
 },
 "nbformat": 4,
 "nbformat_minor": 5
}
