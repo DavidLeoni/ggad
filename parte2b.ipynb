{
 "cells": [
  {
   "attachments": {},
   "cell_type": "markdown",
   "id": "b10a075c",
   "metadata": {
    "slideshow": {
     "slide_type": "slide"
    }
   },
   "source": [
    "# Principi di statistica e tools digitali\n",
    "\n",
    "## 2b: Formati file\n",
    "\n",
    "### GG Analisi dei dati @ Fidia\n",
    "\n",
    "**Speaker**: David Leoni info@davidleoni.it\n",
    "\n",
    "Repository github per questi tutorial: https://github.com/DavidLeoni/ggad\n",
    "\n",
    "Materiale tratto dal libro [SoftPython](https://it.softpython.org)\n",
    "\n",
    "(Per navigare nelle slide premi Esc)"
   ]
  },
  {
   "attachments": {},
   "cell_type": "markdown",
   "id": "08d46d83",
   "metadata": {
    "slideshow": {
     "slide_type": "subslide"
    }
   },
   "source": [
    "## Scaletta\n",
    "\n",
    "2b - formati file\n",
    "\n",
    "- binari\n",
    "- a linee\n",
    "- CSV\n",
    "- JSON\n",
    "- XML"
   ]
  },
  {
   "attachments": {},
   "cell_type": "markdown",
   "id": "9eba9c53",
   "metadata": {
    "slideshow": {
     "slide_type": "subslide"
    }
   },
   "source": [
    "## File \n",
    "\n",
    "**binari:** Sequenze di 0 e 1"
   ]
  },
  {
   "attachments": {},
   "cell_type": "markdown",
   "id": "fe860a4d",
   "metadata": {
    "slideshow": {
     "slide_type": "fragment"
    }
   },
   "source": [
    "- Excel (`.xls`, `.xlsx`)\n",
    "- LibreOffice Calc (`.ods`)\n",
    "- Adobe PDF (`.pdf`)\n",
    "- Immagini (`.jpg`, `.jpeg`, `.png`, `.gif`, `.webp`)\n",
    "- ..."
   ]
  },
  {
   "attachments": {},
   "cell_type": "markdown",
   "id": "5d376b40",
   "metadata": {
    "slideshow": {
     "slide_type": "fragment"
    }
   },
   "source": [
    "per essere aperti richiedono librerie specializzate "
   ]
  },
  {
   "attachments": {},
   "cell_type": "markdown",
   "id": "f97697de",
   "metadata": {
    "slideshow": {
     "slide_type": "fragment"
    }
   },
   "source": [
    "**di testo:**\n",
    "\n",
    "- `.txt`\n",
    "- `.csv`, `.tsv`\n",
    "- `.json`\n",
    "- `.xml`, `.html`\n",
    "- ..."
   ]
  },
  {
   "attachments": {},
   "cell_type": "markdown",
   "id": "e7d78df1",
   "metadata": {
    "slideshow": {
     "slide_type": "fragment"
    }
   },
   "source": [
    "Apribili anche con Blocco note!"
   ]
  },
  {
   "attachments": {},
   "cell_type": "markdown",
   "id": "d4783f53",
   "metadata": {
    "slideshow": {
     "slide_type": "slide"
    }
   },
   "source": [
    "## File a linee\n",
    "\n",
    "- file di testo\n",
    "- informazioni raggruppate per linee\n",
    "\n",
    "**Riferimenti**: [SoftPython Formati 1 - File a linee](https://it.softpython.org/formats/formats1-lines-sol.html)\n",
    "\n",
    "[people-simple.txt](people-simple.txt):\n",
    "\n",
    "```text\n",
    "Leonardo\n",
    "da Vinci\n",
    "Sandro\n",
    "Botticelli\n",
    "Niccolò \n",
    "Macchiavelli\n",
    "```"
   ]
  },
  {
   "attachments": {},
   "cell_type": "markdown",
   "id": "63687b90",
   "metadata": {
    "slideshow": {
     "slide_type": "subslide"
    }
   },
   "source": [
    "## Serve leggere 'per linea'?\n",
    "\n",
    "Quando capitano file:\n",
    "\n",
    "* in formati strani"
   ]
  },
  {
   "attachments": {},
   "cell_type": "markdown",
   "id": "86fa5f6e",
   "metadata": {
    "slideshow": {
     "slide_type": "fragment"
    }
   },
   "source": [
    "* enormi"
   ]
  },
  {
   "attachments": {},
   "cell_type": "markdown",
   "id": "bb0f2903",
   "metadata": {
    "slideshow": {
     "slide_type": "fragment"
    }
   },
   "source": [
    "* corrotti"
   ]
  },
  {
   "attachments": {},
   "cell_type": "markdown",
   "id": "4fe2f52d",
   "metadata": {
    "slideshow": {
     "slide_type": "subslide"
    }
   },
   "source": [
    "## Esempio lettura"
   ]
  },
  {
   "cell_type": "code",
   "execution_count": 17,
   "id": "705779cb",
   "metadata": {},
   "outputs": [
    {
     "name": "stdout",
     "output_type": "stream",
     "text": [
      "Leonardo\n",
      "\n"
     ]
    }
   ],
   "source": [
    "with open('people-simple.txt', encoding='utf-8') as f:\n",
    "    linea=f.readline()\n",
    "    print(linea)"
   ]
  },
  {
   "attachments": {},
   "cell_type": "markdown",
   "id": "a8292761",
   "metadata": {
    "slideshow": {
     "slide_type": "subslide"
    }
   },
   "source": [
    "\n",
    "### La codifica `encoding`\n",
    "\n",
    "dipende da sistema operativo, editor "
   ]
  },
  {
   "attachments": {},
   "cell_type": "markdown",
   "id": "31cfd6ce",
   "metadata": {
    "slideshow": {
     "slide_type": "fragment"
    }
   },
   "source": [
    "se non specifichi la codifica, Python prova a indovinare..."
   ]
  },
  {
   "attachments": {},
   "cell_type": "markdown",
   "id": "53a05456",
   "metadata": {
    "slideshow": {
     "slide_type": "fragment"
    }
   },
   "source": [
    "...se sbaglia -> vedrai caratteri strani (es. quadratini) "
   ]
  },
  {
   "attachments": {},
   "cell_type": "markdown",
   "id": "893238d3",
   "metadata": {
    "slideshow": {
     "slide_type": "fragment"
    }
   },
   "source": [
    "Meglio specificare!\n",
    "\n",
    "- il più comune: `utf-8` \n",
    "- altrimenti, qui in Italia: `encoding='latin-1'` \n",
    "- Per fare la detection: Charset Normalizer [tool online](https://charsetnormalizerweb-ousret.vercel.app/) | [libreria](https://github.com/Ousret/charset_normalizer)\n",
    "\n",
    "- Approfondimenti: [SoftPython - capitolo Stringhe - encodings](https://it.softpython.org/strings/strings1-sol.html#Encodings)\n"
   ]
  },
  {
   "attachments": {},
   "cell_type": "markdown",
   "id": "446d7be6",
   "metadata": {
    "slideshow": {
     "slide_type": "subslide"
    }
   },
   "source": [
    "##  Aprire e chiudere un file 1/3\n",
    "\n",
    "```python\n",
    "with open('people-simple.txt', encoding='utf-8') as f:\n",
    "    linea=f.readline()\n",
    "    print(linea)\n",
    "```\n",
    "\n",
    "Se non si chiude propriamente un file, si rischiano:\n",
    "\n",
    "- spreco di risorse\n",
    "- errori strani"
   ]
  },
  {
   "attachments": {},
   "cell_type": "markdown",
   "id": "33002970",
   "metadata": {
    "slideshow": {
     "slide_type": "fragment"
    }
   },
   "source": [
    "`with` _CONTESTO_ \n",
    "\n",
    "- definisce un blocco di codice con degli automatismi"
   ]
  },
  {
   "attachments": {},
   "cell_type": "markdown",
   "id": "be282487",
   "metadata": {
    "slideshow": {
     "slide_type": "fragment"
    }
   },
   "source": [
    "`with open` \n",
    "\n",
    "- **anche se accadono errori** nel corpo del `with`...\n",
    "- ... alla fine Python chiuderà automaticamente il file"
   ]
  },
  {
   "attachments": {},
   "cell_type": "markdown",
   "id": "700240a5",
   "metadata": {
    "slideshow": {
     "slide_type": "subslide"
    }
   },
   "source": [
    "##  Aprire e chiudere un file 2/3\n",
    "\n",
    "```python\n",
    "with open('people-simple.txt', encoding='utf-8') as f:\n",
    "    linea=f.readline()\n",
    "    print(linea)\n",
    "```\n",
    "\n",
    "Nella parte `as f:` \n",
    "\n",
    "- abbiamo assegnato il file ad una variabile chiamata qui `f`\n",
    "- ma potevamo usare un qualunque altro nome"
   ]
  },
  {
   "attachments": {},
   "cell_type": "markdown",
   "id": "ba529a69",
   "metadata": {
    "slideshow": {
     "slide_type": "fragment"
    }
   },
   "source": [
    "\n",
    "<div class=\"alert alert-warning\">\n",
    "\n",
    "**ATTENZIONE**:  ricordati di mettere sempre il carattere dei doppi punti `:` alla fine della linea del `with` !\n",
    "</div>"
   ]
  },
  {
   "attachments": {},
   "cell_type": "markdown",
   "id": "d29b2e9d",
   "metadata": {
    "slideshow": {
     "slide_type": "subslide"
    }
   },
   "source": [
    "##  Aprire e chiudere un file 3/3"
   ]
  },
  {
   "cell_type": "code",
   "execution_count": 18,
   "id": "f6f6f8aa",
   "metadata": {},
   "outputs": [
    {
     "name": "stdout",
     "output_type": "stream",
     "text": [
      "Leonardo\n",
      " da Vinci\n",
      "\n"
     ]
    }
   ],
   "source": [
    "with open('people-simple.txt', encoding='utf-8') as f:\n",
    "    nome=f.readline()      # sposta in avanti il cursore di lettura\n",
    "    cognome=f.readline()   # legge dalla *nuova* posizione del cursore!\n",
    "    print(nome + ' ' + cognome)\n"
   ]
  },
  {
   "attachments": {},
   "cell_type": "markdown",
   "id": "2c6335dd",
   "metadata": {},
   "source": [
    "`nome=f.readline()` mette in `nome` l'intera linea: **vedi problemi?** "
   ]
  },
  {
   "attachments": {},
   "cell_type": "markdown",
   "id": "c57cccfd",
   "metadata": {
    "slideshow": {
     "slide_type": "fragment"
    }
   },
   "source": [
    "<div class=\"alert alert-warning\">\n",
    "\n",
    "**ATTENZIONE**: `f.readline()` metterà alla fine il carattere di ritorno a capo `\\n`\n",
    "</div>"
   ]
  },
  {
   "cell_type": "code",
   "execution_count": 19,
   "id": "5d9689a1",
   "metadata": {
    "slideshow": {
     "slide_type": "fragment"
    }
   },
   "outputs": [
    {
     "name": "stdout",
     "output_type": "stream",
     "text": [
      "Leonardo da Vinci\n"
     ]
    }
   ],
   "source": [
    "with open('people-simple.txt', encoding='utf-8') as f:\n",
    "    nome=f.readline().rstrip()    # meglio...\n",
    "    cognome=f.readline().rstrip()\n",
    "    print(nome + ' ' + cognome)"
   ]
  },
  {
   "attachments": {},
   "cell_type": "markdown",
   "id": "12704b13",
   "metadata": {
    "slideshow": {
     "slide_type": "subslide"
    }
   },
   "source": [
    "## Leggere tutto il file con `while`"
   ]
  },
  {
   "cell_type": "code",
   "execution_count": 20,
   "id": "0a2d0f05",
   "metadata": {},
   "outputs": [
    {
     "name": "stdout",
     "output_type": "stream",
     "text": [
      "Leonardo da Vinci\n",
      "Sandro Botticelli\n",
      "Niccolò Macchiavelli\n"
     ]
    }
   ],
   "source": [
    "with open('people-simple.txt', encoding='utf-8') as f:\n",
    "    linea=f.readline()\n",
    "    while linea != \"\":                \n",
    "        nome = linea.rstrip()\n",
    "        cognome=f.readline().rstrip()\n",
    "        print(nome + ' ' + cognome)\n",
    "        linea=f.readline()"
   ]
  },
  {
   "attachments": {},
   "cell_type": "markdown",
   "id": "972296b7",
   "metadata": {
    "slideshow": {
     "slide_type": "fragment"
    }
   },
   "source": [
    "Se siamo alla fine del file (o il file è vuoto):\n",
    "\n",
    "-  la chiamata a  `f.readline()` ritorna una stringa vuota"
   ]
  },
  {
   "attachments": {},
   "cell_type": "markdown",
   "id": "104633e8",
   "metadata": {
    "slideshow": {
     "slide_type": "subslide"
    }
   },
   "source": [
    "## Leggere con un `for`"
   ]
  },
  {
   "cell_type": "code",
   "execution_count": 21,
   "id": "9ac2bc00",
   "metadata": {},
   "outputs": [
    {
     "name": "stdout",
     "output_type": "stream",
     "text": [
      "Leonardo\n",
      "\n",
      "da Vinci\n",
      "\n",
      "Sandro\n",
      "\n",
      "Botticelli\n",
      "\n",
      "Niccolò \n",
      "\n",
      "Macchiavelli\n"
     ]
    }
   ],
   "source": [
    "with open('people-simple.txt', encoding='utf-8') as f:    \n",
    "    for linea in f:\n",
    "        print(linea)"
   ]
  },
  {
   "attachments": {},
   "cell_type": "markdown",
   "id": "c93b6ca6",
   "metadata": {
    "slideshow": {
     "slide_type": "fragment"
    }
   },
   "source": [
    "non abbiamo più chiamate a `f.readline()`"
   ]
  },
  {
   "attachments": {},
   "cell_type": "markdown",
   "id": "dfd923e6",
   "metadata": {
    "slideshow": {
     "slide_type": "fragment"
    }
   },
   "source": [
    "Quando incontra il ciclo, Python automagicamente fa un sacco di cose!\n",
    "\n",
    "- solo per i file di testo!"
   ]
  },
  {
   "attachments": {},
   "cell_type": "markdown",
   "id": "155fb673",
   "metadata": {
    "slideshow": {
     "slide_type": "subslide"
    }
   },
   "source": [
    "## `for` vs `while`\n",
    "\n",
    "`for`: tipicamente  per iterare _tutto_ il file"
   ]
  },
  {
   "attachments": {},
   "cell_type": "markdown",
   "id": "47b6cd0e",
   "metadata": {
    "slideshow": {
     "slide_type": "fragment"
    }
   },
   "source": [
    "`while`: per maggior controllo\n",
    "    \n",
    "- es stai cercando qualcosa in un file enorme e vuoi fermarti appena lo trovi"
   ]
  },
  {
   "attachments": {},
   "cell_type": "markdown",
   "id": "f28fdac0",
   "metadata": {
    "slideshow": {
     "slide_type": "fragment"
    }
   },
   "source": [
    "Per esempi di ricerca: [Cicli while - ricercare in una sequenza](https://it.softpython.org/while/while1-sol.html#Ricercare-in-una-sequenza) \n",
    "\n",
    "- su liste invece che file, ma stesso concetto"
   ]
  },
  {
   "attachments": {},
   "cell_type": "markdown",
   "id": "debbe29e",
   "metadata": {
    "slideshow": {
     "slide_type": "subslide"
    }
   },
   "source": [
    "### Cos'è esattamente `f` ?"
   ]
  },
  {
   "cell_type": "code",
   "execution_count": 22,
   "id": "9adb56dd",
   "metadata": {},
   "outputs": [
    {
     "name": "stdout",
     "output_type": "stream",
     "text": [
      "<_io.TextIOWrapper name='people-simple.txt' mode='r' encoding='utf-8'>\n"
     ]
    }
   ],
   "source": [
    "import csv\n",
    "with open('people-simple.txt', encoding='utf-8', newline='') as f:        \n",
    "    print(f)"
   ]
  },
  {
   "attachments": {},
   "cell_type": "markdown",
   "id": "d6cb193b",
   "metadata": {
    "slideshow": {
     "slide_type": "fragment"
    }
   },
   "source": [
    "Come materializzare?"
   ]
  },
  {
   "cell_type": "code",
   "execution_count": 23,
   "id": "e0a1d938",
   "metadata": {
    "slideshow": {
     "slide_type": "fragment"
    }
   },
   "outputs": [
    {
     "name": "stdout",
     "output_type": "stream",
     "text": [
      "['Leonardo\\n', 'da Vinci\\n', 'Sandro\\n', 'Botticelli\\n', 'Niccolò \\n', 'Macchiavelli']\n"
     ]
    }
   ],
   "source": [
    "\n",
    "with open('people-simple.txt', encoding='utf-8', newline='') as f:    \n",
    "    print(list(f))"
   ]
  },
  {
   "attachments": {},
   "cell_type": "markdown",
   "id": "adf58981",
   "metadata": {
    "slideshow": {
     "slide_type": "subslide"
    }
   },
   "source": [
    "## NON consumare due volte nel `with`"
   ]
  },
  {
   "attachments": {},
   "cell_type": "markdown",
   "id": "ebc17635",
   "metadata": {},
   "source": [
    "\n",
    "```python\n",
    "with open('people-simple.txt', encoding='utf-8', newline='') as f:            \n",
    "    print(list(f))\n",
    "    print(list(f)) \n",
    "```"
   ]
  },
  {
   "attachments": {},
   "cell_type": "markdown",
   "id": "948c77df",
   "metadata": {
    "slideshow": {
     "slide_type": "fragment"
    }
   },
   "source": [
    "```text\n",
    "['Leonardo\\n', 'da Vinci\\n', 'Sandro\\n', 'Botticelli\\n', 'Niccolò \\n', 'Macchiavelli']\n",
    "[]\n",
    "```"
   ]
  },
  {
   "attachments": {},
   "cell_type": "markdown",
   "id": "1c89fce4",
   "metadata": {
    "slideshow": {
     "slide_type": "fragment"
    }
   },
   "source": [
    "<div class=\"alert alert-warning\">\n",
    "\n",
    "**ATTENZIONE:** qualunque lettura muove in avanti il cursore di lettura!\n",
    "\n",
    "</div>"
   ]
  },
  {
   "attachments": {},
   "cell_type": "markdown",
   "id": "8722b475",
   "metadata": {},
   "source": [
    "Alla seconda chiamata il file è ormai 'consumato' e stampa `[]`"
   ]
  },
  {
   "attachments": {},
   "cell_type": "markdown",
   "id": "6e6cda28",
   "metadata": {
    "slideshow": {
     "slide_type": "subslide"
    }
   },
   "source": [
    "## NON consumare `f` fuori dal `with`"
   ]
  },
  {
   "attachments": {},
   "cell_type": "markdown",
   "id": "60560afb",
   "metadata": {},
   "source": [
    "```python\n",
    "with open('people-simple.txt', encoding='utf-8') as f:        \n",
    "    print(\"Occhio all'indentazione..\")\n",
    "\n",
    "print(list(f))   \n",
    "```"
   ]
  },
  {
   "attachments": {},
   "cell_type": "markdown",
   "id": "8a505315",
   "metadata": {
    "slideshow": {
     "slide_type": "fragment"
    }
   },
   "source": [
    "```python\n",
    "---------------------------------------------------------------------------\n",
    "ValueError                                Traceback (most recent call last)\n",
    "Cell In[16], line 6\n",
    "      4 with open('people-simple.txt', encoding='utf-8', newline='') as f:        \n",
    "      5     print(\"Occhio all'indentazione..\")\n",
    "      6\n",
    "----> 7 print(list(f))   # BOOM!\n",
    "\n",
    "ValueError: I/O operation on closed file.\n",
    "```"
   ]
  },
  {
   "attachments": {},
   "cell_type": "markdown",
   "id": "6acce44c",
   "metadata": {
    "slideshow": {
     "slide_type": "subslide"
    }
   },
   "source": [
    "## Se proprio vuoi consumare due volte..."
   ]
  },
  {
   "cell_type": "code",
   "execution_count": 24,
   "id": "97059297",
   "metadata": {},
   "outputs": [
    {
     "name": "stdout",
     "output_type": "stream",
     "text": [
      "['Leonardo\\n', 'da Vinci\\n', 'Sandro\\n', 'Botticelli\\n', 'Niccolò \\n', 'Macchiavelli']\n",
      "['Leonardo\\n', 'da Vinci\\n', 'Sandro\\n', 'Botticelli\\n', 'Niccolò \\n', 'Macchiavelli']\n"
     ]
    }
   ],
   "source": [
    "with open('people-simple.txt', encoding='utf-8', newline='') as f:            \n",
    "    print(list(f))\n",
    "    \n",
    "with open('people-simple.txt', encoding='utf-8', newline='') as f:      \n",
    "    print(list(f)) "
   ]
  },
  {
   "attachments": {},
   "cell_type": "markdown",
   "id": "d3b3716a",
   "metadata": {
    "slideshow": {
     "slide_type": "slide"
    }
   },
   "source": [
    "## CSV\n",
    "\n",
    "**Riferimenti**\n",
    "\n",
    "* [SoftPython Formati 2 - CSV](https://it.softpython.org/formats/formats2-csv-sol.html)\n",
    "\n",
    "[esempio-1.csv](esempio-1.csv) \n",
    "\n",
    "```text\n",
    "animale,anni\n",
    "cane,12\n",
    "gatto,14\n",
    "pellicano,30\n",
    "scoiattolo,6\n",
    "aquila,25\n",
    "```"
   ]
  },
  {
   "attachments": {},
   "cell_type": "markdown",
   "id": "48740a30",
   "metadata": {
    "slideshow": {
     "slide_type": "fragment"
    }
   },
   "source": [
    "file di testo"
   ]
  },
  {
   "attachments": {},
   "cell_type": "markdown",
   "id": "0c8fef3e",
   "metadata": {
    "slideshow": {
     "slide_type": "fragment"
    }
   },
   "source": [
    "dati tabulari"
   ]
  },
  {
   "attachments": {},
   "cell_type": "markdown",
   "id": "37850447",
   "metadata": {
    "slideshow": {
     "slide_type": "fragment"
    }
   },
   "source": [
    "'Comma Separated Value'\n",
    "\n",
    "- anche altri separatori (`;`, `tab`, `|`, ...)"
   ]
  },
  {
   "attachments": {},
   "cell_type": "markdown",
   "id": "9aff53c5",
   "metadata": {
    "slideshow": {
     "slide_type": "subslide"
    }
   },
   "source": [
    "## Perchè usare CSV?\n",
    "\n",
    "[esempio-1.csv](esempio-1.csv) \n",
    "\n",
    "```text\n",
    "animale,anni\n",
    "cane,12\n",
    "gatto,14\n",
    "pellicano,30\n",
    "scoiattolo,6\n",
    "aquila,25\n",
    "```"
   ]
  },
  {
   "attachments": {},
   "cell_type": "markdown",
   "id": "0c45aa14",
   "metadata": {
    "slideshow": {
     "slide_type": "fragment"
    }
   },
   "source": [
    "formato molto semplice"
   ]
  },
  {
   "attachments": {},
   "cell_type": "markdown",
   "id": "3d201a90",
   "metadata": {
    "slideshow": {
     "slide_type": "fragment"
    }
   },
   "source": [
    "maggiore controllo in lettura\n",
    "\n",
    "- es. non scambiano giorni con mesi nelle date.."
   ]
  },
  {
   "attachments": {},
   "cell_type": "markdown",
   "id": "1cfd2214",
   "metadata": {
    "slideshow": {
     "slide_type": "subslide"
    }
   },
   "source": [
    "## Come leggere un CSV?"
   ]
  },
  {
   "attachments": {},
   "cell_type": "markdown",
   "id": "a32e7578",
   "metadata": {
    "slideshow": {
     "slide_type": "fragment"
    }
   },
   "source": [
    "a) una riga alla volta\n",
    "\n",
    "- utile per CSV enormi\n"
   ]
  },
  {
   "attachments": {},
   "cell_type": "markdown",
   "id": "6b271593",
   "metadata": {
    "slideshow": {
     "slide_type": "fragment"
    }
   },
   "source": [
    "b) caricare tutto in RAM (es. con Pandas)"
   ]
  },
  {
   "attachments": {},
   "cell_type": "markdown",
   "id": "aea5b85f",
   "metadata": {
    "slideshow": {
     "slide_type": "fragment"
    }
   },
   "source": [
    "**DOMANDA**: se vogliamo sapere se un certo file da 100 terabyte contiene almeno 3 milioni di righe in cui è presente la parola 'pippo'...\n",
    "\n",
    "Dobbiamo mettere in RAM contemporaneamente tutte le righe?"
   ]
  },
  {
   "attachments": {},
   "cell_type": "markdown",
   "id": "17164597",
   "metadata": {
    "slideshow": {
     "slide_type": "fragment"
    }
   },
   "source": [
    "**DOMANDA**: E se volessimo partendo da un file da 100 terabyte crearne un'altro con gli stessi contenuti del primo file a cui a tutte le righe è aggiunta la parola 'pippo' alla fine...\n",
    "\n",
    "Dovremmo mettere in RAM contemporaneamente tutte le righe del primo file? "
   ]
  },
  {
   "attachments": {},
   "cell_type": "markdown",
   "id": "636f0b8c",
   "metadata": {
    "slideshow": {
     "slide_type": "fragment"
    }
   },
   "source": [
    "E quelle del secondo ?"
   ]
  },
  {
   "attachments": {},
   "cell_type": "markdown",
   "id": "5bc66e10",
   "metadata": {
    "slideshow": {
     "slide_type": "subslide"
    }
   },
   "source": [
    "## Come è fatto un CSV?\n",
    "\n",
    "File [esempio-1.csv](esempio-1.csv) \n",
    "\n",
    "```text\n",
    "animale,anni\n",
    "cane,12\n",
    "gatto,14\n",
    "pellicano,30\n",
    "scoiattolo,6\n",
    "aquila,25\n",
    "```"
   ]
  },
  {
   "attachments": {},
   "cell_type": "markdown",
   "id": "b9cb5d00",
   "metadata": {
    "slideshow": {
     "slide_type": "fragment"
    }
   },
   "source": [
    "prima linea:  nomi delle colonne, separati da virgole es. `animale, anni`"
   ]
  },
  {
   "attachments": {},
   "cell_type": "markdown",
   "id": "3c1910bd",
   "metadata": {
    "slideshow": {
     "slide_type": "fragment"
    }
   },
   "source": [
    "corpo: campi separati da virgole `,` es. `cane, 12`"
   ]
  },
  {
   "attachments": {},
   "cell_type": "markdown",
   "id": "3c93e061",
   "metadata": {
    "slideshow": {
     "slide_type": "fragment"
    }
   },
   "source": [
    "non ci sono spazi dopo le virgole"
   ]
  },
  {
   "attachments": {},
   "cell_type": "markdown",
   "id": "deb67cdf",
   "metadata": {
    "slideshow": {
     "slide_type": "subslide"
    }
   },
   "source": [
    "<table>\n",
    "<tr>\n",
    "<td colspan=\"2\">\n",
    "\n",
    "```python\n",
    "import csv\n",
    "\n",
    "with open('esempio-1.csv', encoding='utf-8', newline='') as f:\n",
    "    \n",
    "    lettore = csv.reader(f, delimiter=',') \n",
    "    \n",
    "    for riga in lettore:     \n",
    "        print(riga) \n",
    "```\n",
    "</td>\n",
    "</tr>\n",
    "<tr>\n",
    "<td width=\"40%\">\n",
    "\n",
    "**Output**\n",
    "\n",
    "```text\n",
    "['animale', 'anni']\n",
    "['cane', '12']\n",
    "['gatto', '14']\n",
    "['pellicano', '30']\n",
    "['scoiattolo', '6']\n",
    "['aquila', '25']        \n",
    "```       \n",
    "</td>\n",
    "<td>\n",
    "\n",
    "Modulo `csv` nativo\n",
    "\n",
    "apertura file testuale,  con parametro `newline=''` \n",
    "\n",
    "creazione oggetto `lettore`\n",
    "\n",
    "iterazione `for` su oggetto `lettore`\n",
    "\n",
    "`riga` è una lista\n",
    "\n",
    "</td>\n",
    "</tr>\n",
    "</table>"
   ]
  },
  {
   "attachments": {},
   "cell_type": "markdown",
   "id": "90b63502",
   "metadata": {
    "slideshow": {
     "slide_type": "subslide"
    }
   },
   "source": [
    "## Cos'è esattamente `lettore` ?"
   ]
  },
  {
   "cell_type": "code",
   "execution_count": 25,
   "id": "f3c3dea4",
   "metadata": {},
   "outputs": [
    {
     "name": "stdout",
     "output_type": "stream",
     "text": [
      "<_csv.reader object at 0x0000022A748A8F40>\n"
     ]
    }
   ],
   "source": [
    "import csv\n",
    "with open('esempio-1.csv', encoding='utf-8', newline='') as f:    \n",
    "    lettore = csv.reader(f, delimiter=',')     \n",
    "    print(lettore)"
   ]
  },
  {
   "attachments": {},
   "cell_type": "markdown",
   "id": "294f7c49",
   "metadata": {
    "slideshow": {
     "slide_type": "fragment"
    }
   },
   "source": [
    "`lettore` è una specie di macchinetta ferma"
   ]
  },
  {
   "attachments": {},
   "cell_type": "markdown",
   "id": "f7ffe1d2",
   "metadata": {
    "slideshow": {
     "slide_type": "fragment"
    }
   },
   "source": [
    "conosce solo la posizione in cui sta guardando all'interno del file"
   ]
  },
  {
   "attachments": {},
   "cell_type": "markdown",
   "id": "816f5cd6",
   "metadata": {
    "slideshow": {
     "slide_type": "fragment"
    }
   },
   "source": [
    "Come attivarla?"
   ]
  },
  {
   "attachments": {},
   "cell_type": "markdown",
   "id": "19915791",
   "metadata": {
    "slideshow": {
     "slide_type": "subslide"
    }
   },
   "source": [
    "### Come materializzare una sequenza?"
   ]
  },
  {
   "cell_type": "code",
   "execution_count": 26,
   "id": "42077891",
   "metadata": {
    "slideshow": {
     "slide_type": "fragment"
    }
   },
   "outputs": [
    {
     "name": "stdout",
     "output_type": "stream",
     "text": [
      "[['animale', 'anni'], ['cane', '12'], ['gatto', '14'], ['pellicano', '30'], ['scoiattolo', '6'], ['aquila', '25']]\n"
     ]
    }
   ],
   "source": [
    "\n",
    "import csv\n",
    "with open('esempio-1.csv', encoding='utf-8', newline='') as f:    \n",
    "    lettore = csv.reader(f, delimiter=',')     \n",
    "    print(list(lettore))"
   ]
  },
  {
   "attachments": {},
   "cell_type": "markdown",
   "id": "62c435fb",
   "metadata": {
    "slideshow": {
     "slide_type": "subslide"
    }
   },
   "source": [
    "### Consumerai due volte nel `with`?\n",
    "\n",
    "```python\n",
    "import csv\n",
    "with open('esempio-1.csv', encoding='utf-8', newline='') as f:    \n",
    "    lettore = csv.reader(f, delimiter=',')     \n",
    "    print(list(lettore))\n",
    "    print(list(lettore))\n",
    "```\n"
   ]
  },
  {
   "attachments": {},
   "cell_type": "markdown",
   "id": "9ebde2f9",
   "metadata": {
    "slideshow": {
     "slide_type": "fragment"
    }
   },
   "source": [
    "```python\n",
    "[['animale', 'anni'], ['cane', '12'], ['gatto', '14'], ['pellicano', '30'], ['scoiattolo', '6'], ['aquila', '25']]\n",
    "[]\n",
    "```"
   ]
  },
  {
   "attachments": {},
   "cell_type": "markdown",
   "id": "dca48191",
   "metadata": {
    "slideshow": {
     "slide_type": "subslide"
    }
   },
   "source": [
    "### Consumerai fuori dal `with` ?\n",
    "\n",
    "```python\n",
    "import csv\n",
    "with open('esempio-1.csv', encoding='utf-8', newline='') as f:    \n",
    "    lettore = csv.reader(f, delimiter=',')      \n",
    "       \n",
    "print(list(lettore))   \n",
    "```"
   ]
  },
  {
   "attachments": {},
   "cell_type": "markdown",
   "id": "9d930722",
   "metadata": {
    "slideshow": {
     "slide_type": "fragment"
    }
   },
   "source": [
    "```python\n",
    "---------------------------------------------------------------------------\n",
    "ValueError                                Traceback (most recent call last)\n",
    "Cell In[30], line 6\n",
    "      4 with open('esempio-1.csv', encoding='utf-8', newline='') as f:    \n",
    "      5     lettore = csv.reader(f, delimiter=',')       \n",
    "      6  \n",
    "----> 7 print(list(lettore))\n",
    "\n",
    "ValueError: I/O operation on closed file.\n",
    "```"
   ]
  },
  {
   "attachments": {},
   "cell_type": "markdown",
   "id": "2f06c1f8",
   "metadata": {
    "slideshow": {
     "slide_type": "subslide"
    }
   },
   "source": [
    "## Leggere come dizionari\n",
    "\n",
    "Tramite l'oggetto [csv.DictReader](https://docs.python.org/3/library/csv.html#csv.DictReader) sarai in grado di recuperare dizionari\n",
    "\n",
    "le chiavi saranno i nomi dei campi presi dall'intestazione "
   ]
  },
  {
   "cell_type": "code",
   "execution_count": 27,
   "id": "aacc5d97",
   "metadata": {},
   "outputs": [
    {
     "name": "stdout",
     "output_type": "stream",
     "text": [
      "{'animale': 'cane', 'anni': '12'}\n",
      "{'animale': 'gatto', 'anni': '14'}\n",
      "{'animale': 'pellicano', 'anni': '30'}\n",
      "{'animale': 'scoiattolo', 'anni': '6'}\n",
      "{'animale': 'aquila', 'anni': '25'}\n"
     ]
    }
   ],
   "source": [
    "import csv\n",
    "with open('esempio-1.csv', encoding='utf-8', newline='') as f:    \n",
    "    lettore = csv.DictReader(f, delimiter=',')   # Notice we now used DictReader\n",
    "    for diz in lettore:\n",
    "        print(diz)"
   ]
  },
  {
   "attachments": {},
   "cell_type": "markdown",
   "id": "48331d3d",
   "metadata": {
    "slideshow": {
     "slide_type": "fragment"
    }
   },
   "source": [
    "**NOTA**: diverse versioni di Python producono diversi dizionari:\n",
    "\n",
    "* $<$ 3.6: `dict`\n",
    "* 3.6, 3.7: `OrderedDict`\n",
    "* $\\geq$ 3.8: `dict`"
   ]
  },
  {
   "attachments": {},
   "cell_type": "markdown",
   "id": "0df58968",
   "metadata": {
    "slideshow": {
     "slide_type": "subslide"
    }
   },
   "source": [
    "## Scrivere un CSV\n",
    "\n",
    "Puoi facilmente creare un CSV instanziando un oggetto `writer`:"
   ]
  },
  {
   "cell_type": "code",
   "execution_count": 28,
   "id": "4029c461",
   "metadata": {},
   "outputs": [],
   "source": [
    "import csv\n",
    "\n",
    "with open('file-scritto.csv', 'w', newline='') as csv_da_scrivere: \n",
    "    \n",
    "    scrittore = csv.writer(csv_da_scrivere, delimiter=',')    \n",
    "    \n",
    "    scrittore.writerow(['This', 'is', 'a header'])\n",
    "    scrittore.writerow(['some', 'example', 'data'])\n",
    "    scrittore.writerow(['some', 'other', 'example data'])"
   ]
  },
  {
   "attachments": {},
   "cell_type": "markdown",
   "id": "ed3c1fea",
   "metadata": {
    "slideshow": {
     "slide_type": "fragment"
    }
   },
   "source": [
    "Per scrivere, RICORDATI di specificare l'opzione `'w'`"
   ]
  },
  {
   "attachments": {},
   "cell_type": "markdown",
   "id": "96f148ea",
   "metadata": {
    "slideshow": {
     "slide_type": "fragment"
    }
   },
   "source": [
    "<div class=\"alert alert-warning\">\n",
    "\n",
    "**ATTENZIONE:** `'w'` *rimpiazza completamente* eventuali file  esistenti!\n",
    "\n",
    "</div>"
   ]
  },
  {
   "attachments": {},
   "cell_type": "markdown",
   "id": "875e8744",
   "metadata": {
    "slideshow": {
     "slide_type": "fragment"
    }
   },
   "source": [
    "<div class=\"alert alert-warning\">\n",
    "\n",
    "**ATTENZIONE: ASSICURATI DI SCRIVERE NEL FILE GIUSTO!**\n",
    "\n",
    "Se non stai più che attento ai nomi dei file, **rischi di cancellare dati** !!!\n",
    "</div>"
   ]
  },
  {
   "attachments": {},
   "cell_type": "markdown",
   "id": "3c72e128",
   "metadata": {
    "slideshow": {
     "slide_type": "subslide"
    }
   },
   "source": [
    "## Leggere e scrivere un CSV 1/2\n",
    "\n",
    "Per scrivere un nuovo CSV prendendo dati da un CSV esistente: \n",
    "\n",
    "- annidare un `with` per la lettura dentro uno per la scrittura"
   ]
  },
  {
   "cell_type": "code",
   "execution_count": 29,
   "id": "4233dac8",
   "metadata": {
    "slideshow": {
     "slide_type": "fragment"
    }
   },
   "outputs": [
    {
     "name": "stdout",
     "output_type": "stream",
     "text": [
      "Finito di scrivere esempio-1-arricchito.csv\n"
     ]
    }
   ],
   "source": [
    "import csv\n",
    "    \n",
    "# Per scrivere, RICORDATI di specificare l'opzione 'w'\n",
    "# ATTENZIONE: 'w' rimpiazza *completamente* eventuali file  esistenti!\n",
    "# ATTENZIONE: l'handle *esterno* l'abbiamo chiamato  csv_da_scrivere\n",
    "with open('esempio-1-arricchito.csv', 'w', encoding='utf-8', newline='') as csv_da_scrivere: \n",
    "    scrittore = csv.writer(csv_da_scrivere, delimiter=',')\n",
    "\n",
    "    # Nota come questo 'with' sia dentro quello esterno    \n",
    "    # ATTENZIONE: l'handle *interno* l'abbiamo chiamato csv_da_leggere\n",
    "    with open('esempio-1.csv', encoding='utf-8', newline='') as csv_da_leggere:    \n",
    "        lettore = csv.reader(csv_da_leggere, delimiter=',')      \n",
    "        \n",
    "        for riga in lettore:\n",
    "            riga.append(\"qualcos'altro\")\n",
    "            scrittore.writerow(riga)\n",
    "            scrittore.writerow(riga)\n",
    "            scrittore.writerow(riga)    \n",
    "            \n",
    "        print(\"Finito di scrivere\", csv_da_scrivere.name)"
   ]
  },
  {
   "attachments": {},
   "cell_type": "markdown",
   "id": "0b66bfe6",
   "metadata": {
    "slideshow": {
     "slide_type": "subslide"
    }
   },
   "source": [
    "## Leggere e scrivere un CSV 2/2\n",
    "\n",
    "<div class=\"alert alert-warning\">\n",
    "\n",
    "**ATTENZIONE A SCAMBIARE I NOMI DEI FILE!**\n",
    "\n",
    "Quando leggiamo e scriviamo è facile commettere un errore e sovrascrivere accidentalmente i nostri preziosi dati \n",
    "</div>"
   ]
  },
  {
   "attachments": {},
   "cell_type": "markdown",
   "id": "ff25e5f2",
   "metadata": {
    "slideshow": {
     "slide_type": "fragment"
    }
   },
   "source": [
    "**Per evitare problemi:**\n",
    "\n",
    "* usa nomi espliciti sia per i file di output (es: `esempio-1-arricchito.csv')` che per gli handle (es: `csv_da_scrivere`)\n",
    "* fai una copia di backup dei dati da leggere\n",
    "* controlla sempre prima di eseguire il codice !"
   ]
  },
  {
   "attachments": {},
   "cell_type": "markdown",
   "id": "5bf1b37a",
   "metadata": {
    "slideshow": {
     "slide_type": "slide"
    }
   },
   "source": [
    "\n",
    "<table><tr>\n",
    "<td width=\"50%\">\n",
    "\n",
    "## JSON\n",
    "\n",
    "file di testo\n",
    "\n",
    "formato più elaborato _ad albero_\n",
    "\n",
    "profondità arbitraria\n",
    "\n",
    "schema non necessario\n",
    "\n",
    "molto diffuso in applicazioni web \n",
    "\n",
    "**Riferimenti:**\n",
    "\n",
    "[SoftPython Formati 3 - JSON](https://it.softpython.org/formats/formats3-json-sol.html)\n",
    "\n",
    "</td>\n",
    "<td>\n",
    "\n",
    "\n",
    "\n",
    "```json\n",
    "[\n",
    "  {\n",
    "    \"name\": \"Grazioli\",\n",
    "    \"address\": \"Piazza Grazioli - Lavis\",\n",
    "    \"slots\": 7,\n",
    "    \"position\": [\n",
    "      46.139732902099794,\n",
    "      11.111516155225331\n",
    "    ]\n",
    "  },\n",
    "  {\n",
    "    \"name\": \"Pressano\",\n",
    "    \"address\": \"Piazza della Croce - Pressano\",\n",
    "    \"slots\": 5,\n",
    "    \"position\": [\n",
    "      46.15368174037716,\n",
    "      11.106601229430453\n",
    "    ]\n",
    "  }\n",
    "]\n",
    "```\n",
    "</td>\n",
    "</tr>\n",
    "</table>"
   ]
  },
  {
   "attachments": {},
   "cell_type": "markdown",
   "id": "08b9519e",
   "metadata": {
    "slideshow": {
     "slide_type": "subslide"
    }
   },
   "source": []
  },
  {
   "attachments": {},
   "cell_type": "markdown",
   "id": "c85a358e",
   "metadata": {},
   "source": [
    "<table><tr>\n",
    "<td>\n",
    "\n",
    "```python\n",
    "import json\n",
    "\n",
    "with open('bike-sharing-lavis.json',  encoding='utf-8') as f:\n",
    "    contenuto_python = json.load(f)\n",
    "```\n",
    "\n",
    "```python\n",
    "contenuto_python\n",
    "```\n",
    "\n",
    "```python\n",
    "[{'address': 'Piazza Grazioli',\n",
    "  'bikes': 3,\n",
    "  'name': 'Grazioli',\n",
    "  'position': [46.139, 11.111],\n",
    "  'slots': 7},\n",
    " {'address': 'Piazza della Croce',\n",
    "  'bikes': 2,\n",
    "  'name': 'Pressano',\n",
    "  'position': [46.153, 11.106],\n",
    "  'slots': 5},\n",
    " .\n",
    " .\n",
    "]\n",
    "```\n",
    "</td>\n",
    "<td>\n",
    "\n",
    "## JSON E Python 1/2\n",
    "\n",
    "- molto simile a strutture dati in Python\n",
    "- numeri interi, float, stringhe, liste e dizionari\n",
    "- unica differenza: campi `null` del JSON che diventano `None` in Python\n",
    "\n",
    "- Per caricare: modulo già pronto `json`, con la funzione `json.load`\n",
    "</td>\n",
    "</tr>\n",
    "</table>"
   ]
  },
  {
   "attachments": {},
   "cell_type": "markdown",
   "id": "61dda4aa",
   "metadata": {
    "slideshow": {
     "slide_type": "subslide"
    }
   },
   "source": [
    "## JSON E Python 2/2"
   ]
  },
  {
   "attachments": {},
   "cell_type": "markdown",
   "id": "b2d10576",
   "metadata": {},
   "source": [
    "```python\n",
    "contenuto_python[0]\n",
    "\n",
    "{'address': 'Piazza Grazioli',\n",
    "  'bikes': 3,\n",
    "  'name': 'Grazioli',\n",
    "  'position': [46.139, 11.111],\n",
    "  'slots': 7}\n",
    "```"
   ]
  },
  {
   "attachments": {},
   "cell_type": "markdown",
   "id": "176902a8",
   "metadata": {
    "slideshow": {
     "slide_type": "fragment"
    }
   },
   "source": [
    "```python\n",
    "contenuto_python[0]['address']\n",
    "```\n",
    "\n",
    "```python\n",
    "'Piazza Grazioli'\n",
    "```"
   ]
  },
  {
   "attachments": {},
   "cell_type": "markdown",
   "id": "dc1bb813",
   "metadata": {
    "slideshow": {
     "slide_type": "fragment"
    }
   },
   "source": [
    "```python\n",
    "contenuto_python[0]['position']\n",
    "```\n",
    "\n",
    "```python\n",
    "[46.139732902099794, 11.111516155225331]\n",
    "```"
   ]
  },
  {
   "attachments": {},
   "cell_type": "markdown",
   "id": "8391eeaa",
   "metadata": {
    "slideshow": {
     "slide_type": "subslide"
    }
   },
   "source": [
    "## JSONL\n",
    "\n",
    "Particolare [tipo di file](http://jsonlines.org/) \n",
    " JSON\n",
    "\n",
    "- Nota `L` alla fine"
   ]
  },
  {
   "attachments": {},
   "cell_type": "markdown",
   "id": "9b1a1d52",
   "metadata": {
    "slideshow": {
     "slide_type": "fragment"
    }
   },
   "source": [
    "File di testo contenente una sequenza di linee\n",
    "\n",
    "- ciascuna rappresenta un oggetto valido json"
   ]
  },
  {
   "attachments": {},
   "cell_type": "markdown",
   "id": "7b5aff40",
   "metadata": {
    "slideshow": {
     "slide_type": "fragment"
    }
   },
   "source": [
    "Si può trovare per file grossi o _in streaming_"
   ]
  },
  {
   "attachments": {},
   "cell_type": "markdown",
   "id": "ea671bb3",
   "metadata": {},
   "source": [
    "[impiegati.jsonl](impiegati.jsonl) :"
   ]
  },
  {
   "attachments": {},
   "cell_type": "markdown",
   "id": "81f092c1",
   "metadata": {},
   "source": [
    "```json\n",
    "{\"nome\": \"Mario\", \"cognome\":\"Rossi\"}\n",
    "{\"nome\": \"Paolo\", \"cognome\":\"Bianchi\"}\n",
    "{\"nome\": \"Luca\", \"cognome\":\"Verdi\"}\n",
    "```"
   ]
  },
  {
   "attachments": {},
   "cell_type": "markdown",
   "id": "970e9705",
   "metadata": {
    "slideshow": {
     "slide_type": "subslide"
    }
   },
   "source": [
    "[impiegati.jsonl](impiegati.jsonl) :"
   ]
  },
  {
   "attachments": {},
   "cell_type": "markdown",
   "id": "385233ff",
   "metadata": {},
   "source": [
    "```json\n",
    "{\"nome\": \"Mario\", \"cognome\":\"Rossi\"}\n",
    "{\"nome\": \"Paolo\", \"cognome\":\"Bianchi\"}\n",
    "{\"nome\": \"Luca\", \"cognome\":\"Verdi\"}\n",
    "```"
   ]
  },
  {
   "cell_type": "code",
   "execution_count": 30,
   "id": "617acb66",
   "metadata": {},
   "outputs": [
    {
     "name": "stdout",
     "output_type": "stream",
     "text": [
      "Oggetto  0\n",
      "{'nome': 'Mario', 'cognome': 'Rossi'}\n",
      "Oggetto  1\n",
      "{'nome': 'Paolo', 'cognome': 'Bianchi'}\n",
      "Oggetto  2\n",
      "{'nome': 'Luca', 'cognome': 'Verdi'}\n"
     ]
    }
   ],
   "source": [
    "import json\n",
    "\n",
    "with open('./impiegati.jsonl', encoding='utf-8',) as f:\n",
    "\n",
    "    i = 0\n",
    "    for linea_testo in f:  # interpreta come file di testo\n",
    "        contenuto_python = json.loads(linea_testo)   # converte linea di testo in vero oggetto python\n",
    "        print('Oggetto ', i)\n",
    "        print(contenuto_python)\n",
    "        i = i + 1\n",
    "        "
   ]
  },
  {
   "attachments": {},
   "cell_type": "markdown",
   "id": "0494c1c4",
   "metadata": {
    "slideshow": {
     "slide_type": "slide"
    }
   },
   "source": [
    "## XML\n",
    "<table> <tr>\n",
    "\n",
    "<td>\n",
    "\n",
    "file di testo `.xml`\n",
    "\n",
    "ad albero, più complesso dei json\n",
    "\n",
    "nodi `<TAG> CONTENUTO </TAG>`\n",
    "    \n",
    "supporta attributi anche per i nodi (metadati)\n",
    "\n",
    "`<TAG ATTRIBUTO1=\"bla\" ATTRIBUTO2=\"bla\">`\n",
    "\n",
    "tipicamente fornito di schema\n",
    "\n",
    "il linguaggio HTML per le pagine web segue lo standard XML\n",
    "\n",
    "Per scansionare XML e HTML in Python:\n",
    "\n",
    "- [Libreria beautiful soup](https://beautiful-soup-4.readthedocs.io/en/latest/)\n",
    "- [Tutorial estrazione](https://it.softpython.org/extraction/extraction-sol.html) da SoftPython\n",
    "\n",
    "</td>\n",
    "\n",
    "<td>\n",
    "\n",
    "```html\n",
    "<div class=\"moodbo text-white\">\n",
    "    <div>\n",
    "        <h4 class=\"headline\">\n",
    "            Coppa del Mondo di Snowboard\n",
    "        </h4>\n",
    "        <span class=\"abc\">14/12/2017</span>\n",
    "        <span class=\"moodboard\">\n",
    "            <span class=\"icon fz20\"></span> \n",
    "            Passo Costalunga\n",
    "        </span>\n",
    "    </div>\n",
    "    <div class=\"text-right\">\n",
    "        <a href=\"../visit\">\n",
    "            <span class=\"icon fz30\">\n",
    "            </span>\n",
    "        </a>\n",
    "    </div>\n",
    "</div>\n",
    "```\n",
    "\n",
    "</td>\n",
    "</tr>\n",
    "</table>"
   ]
  },
  {
   "attachments": {},
   "cell_type": "markdown",
   "id": "0ecd858a",
   "metadata": {
    "slideshow": {
     "slide_type": "slide"
    }
   },
   "source": [
    "## CHALLENGE 1 - Cure termali\n",
    "\n",
    "✪✪ Un centro benessere accoglie clienti che possono decidere di usufruire tra uno o più servizi. Il centro segna queste informazioni in un file [centro-benessere1.csv](centro-benessere1.csv) mettendo `1` se il servizio viene erogato, altrimenti `0`: "
   ]
  },
  {
   "attachments": {},
   "cell_type": "markdown",
   "id": "31ad9d84",
   "metadata": {},
   "source": [
    "![formats4-chal1-tabella.png](img/formats4-chal1-tabella.png)"
   ]
  },
  {
   "attachments": {},
   "cell_type": "markdown",
   "id": "769cb55e",
   "metadata": {
    "slideshow": {
     "slide_type": "subslide"
    }
   },
   "source": [
    "Ogni servizio ha lo stesso `costo_unitario=100` euro, e il centro vuole conoscere la spesa totale per ciascun cliente.\n",
    "\n",
    "Scrivi una funzione `terme` che dato il nome di un file, lo legge e RITORNA un dizionario che associa a ciascuna persona il conto da saldare.\n",
    "\n",
    "* **USA** il `csv.reader`, con encoding `utf-8`\n",
    "* **NON** scrivere la costante `100` nel codice"
   ]
  },
  {
   "attachments": {},
   "cell_type": "markdown",
   "id": "5d8c9041",
   "metadata": {
    "slideshow": {
     "slide_type": "subslide"
    }
   },
   "source": [
    "**Esempio**:\n",
    "\n",
    "```python\n",
    ">>> terme('centro-benessere.csv')\n",
    "\n",
    "{'Marco':400, 'Andrea':300, 'Sara':600, 'Rosa':200, 'Cristina':300, 'Roberto':100}\n",
    "```    "
   ]
  },
  {
   "attachments": {},
   "cell_type": "markdown",
   "id": "a247df02",
   "metadata": {},
   "source": [
    "```python\n",
    "import csv\n",
    "\n",
    "costo_unitario = 100  # euro\n",
    "\n",
    "def terme(nome_file):\n",
    "    pass # IMPLEMENTAMI\n",
    "    \n",
    "res1 = terme('centro-benessere1.csv')\n",
    "print(res1)\n",
    "assert res1 == { 'Marco':    400,\n",
    "                 'Andrea':   300,\n",
    "                 'Sara':     600,\n",
    "                 'Rosa':     200,\n",
    "                 'Cristina': 300,\n",
    "                 'Roberto':  100}\n",
    "\n",
    "res2 = terme('centro-benessere2.csv')\n",
    "#print(res2)\n",
    "assert res2 == { 'Giulio': 300,\n",
    "                 'Sabina': 100 }\n",
    "```"
   ]
  },
  {
   "attachments": {},
   "cell_type": "markdown",
   "id": "99b9746f",
   "metadata": {
    "slideshow": {
     "slide_type": "subslide"
    }
   },
   "source": [
    "## CHALLENGE 2. Personaggi storici del Trentino \n",
    "\n",
    "✪✪✪ Requisiti: Formato file CSV, matrici di liste, dizionari\n",
    "\n",
    "Oggi faremo un salto nella storia analizzando il dataset [personaggi-storici-trentino.csv](personaggi-storici-trentino.csv)\n",
    "\n",
    "Sorgente dati: Provincia Autonoma di Trento, [dati.trentino.it](https://dati.trentino.it/dataset/personaggi-storici-trentini)\n",
    "\n",
    "Dal dataset estrarremo 3 colonne: `Nome`, `Luogo di Nascita` e `Data di nascita`"
   ]
  },
  {
   "attachments": {},
   "cell_type": "markdown",
   "id": "8f385f8c",
   "metadata": {
    "slideshow": {
     "slide_type": "subslide"
    }
   },
   "source": [
    "## 2.1 Il primo parsing\n",
    "\n",
    "a) Leggi una riga alla volta dall'originale come lista, costruisci una NUOVA riga di 3 colonne e sistema gli eventuali problemi riscontrati, facendo infine una STAMPA della riga sistemata:\n",
    "\n",
    "- per leggere, usa l'encoding `'latin-1'`, altrimenti il file potrebbe non aprirsi proprio o potresti vedere strani caratteri invece delle accentate (verifica sia in Python, che aprendo in LibreOffice/Excel)\n",
    "\n",
    "b) Converti 'sconosciuto' nella stringa vuota\n",
    "\n",
    "<div class=\"alert alert-warning\">\n",
    "    \n",
    "**ATTENZIONE alle stringhe** `'sconosciuto '` **con uno spazio alla fine !!!**\n",
    "</div>\n",
    "\n",
    "      \n",
    "c) Converti le sigle di città in nomi estesi. A tal fine, usa il dizionario `province` definito più sotto\n",
    "    \n",
    "d) Se un nome o sigla di città NON è tra parentesi, metti il risultato tra parentesi, togliendo la virgola "
   ]
  },
  {
   "attachments": {},
   "cell_type": "markdown",
   "id": "6812722f",
   "metadata": {},
   "source": [
    "### ESEMPI conversione luogo di nascita:\n",
    "\n",
    "```text\n",
    "sconosciuto        -> ''\n",
    "Affori, MI         -> Affori (Milano)\n",
    "Barcellona, ME     -> Barcellona (Messina)\n",
    "Castel Noarna (TN) -> Castel Noarna (Trento)\n",
    "Mocenigo di Rumo (Valle di Non - TN) -> Mocenigo di Rumo (Valle di Non - Trento)\n",
    "Montecosaro,MC     -> Montecosaro (Macerata)\n",
    "Pieve Tesino (TN)  -> Pieve Tesino (Trento)\n",
    "Pomarolo (TN)      -> Pomarolo (Trento)\n",
    "Sacco di Rovereto, Trento -> Sacco di Rovereto (Trento)\n",
    "San Lorenzo Bellizzi, CO  -> San Lorenzo Bellizzi (Como)\n",
    "Sesto San Giovanni, MI    -> Sesto San Giovanni (Milano)\n",
    "Taio (TN)          -> Taio (Trento)\n",
    "Volterra, PI       -> Volterra (Pisa)\n",
    "```"
   ]
  },
  {
   "attachments": {},
   "cell_type": "markdown",
   "id": "b0afd1ac",
   "metadata": {},
   "source": [
    "<div class=\"alert alert-warning\">\n",
    " \n",
    "**SCRIVI DEL CODICE GENERICO !**\n",
    "    \n",
    "**NON** METTERE QUESTI VALORI PARTICOLARI IN UN DIZIONARIO !\n",
    "\n",
    "</div>    "
   ]
  },
  {
   "cell_type": "code",
   "execution_count": 31,
   "id": "5f9e6ce9",
   "metadata": {
    "slideshow": {
     "slide_type": "subslide"
    }
   },
   "outputs": [],
   "source": [
    "\n",
    "# Servono solo queste, non dovrebbero esserci casi diversi da questi\n",
    "# Al massimo, pensa ad un meccanismo per gestire le eccezioni\n",
    "\n",
    "province = {\n",
    "    'TN': 'Trento',\n",
    "    'PI': 'Pisa',\n",
    "    'MC': 'Macerata',\n",
    "    'CO': 'Como',\n",
    "    'ME': 'Messina',\n",
    "    'MI': 'Milano'\n",
    "}\n",
    "\n",
    "\n",
    "import csv\n",
    "\n",
    "# scrivi dopo qui\n",
    "        "
   ]
  },
  {
   "attachments": {},
   "cell_type": "markdown",
   "id": "50ac310e",
   "metadata": {
    "slideshow": {
     "slide_type": "subslide"
    }
   },
   "source": [
    "\n",
    "## 2.2 Scrittura output\n",
    "\n",
    "Dopo aver risolto il punto precedente, scrivi un CSV `output-personaggi.csv` contenente le righe come appena sistemate:\n",
    "\n",
    "- l'header del csv di output deve essere tutto minuscolo: \n",
    "  \n",
    "```\n",
    "nome, luogo di nascita, data di nascita\n",
    "```\n",
    "    \n",
    "- invece di `latin-1`, solo per scrivere usa la codifica `'utf-8'`"
   ]
  },
  {
   "attachments": {},
   "cell_type": "markdown",
   "id": "0ccdd8f1",
   "metadata": {
    "slideshow": {
     "slide_type": "subslide"
    }
   },
   "source": [
    "## 2.3 Il secolo\n",
    "\n",
    "Prova ad aggiungere una colonna `'secolo'`, che contenga solo il secolo, nel formato a 3 o 4 cifre e sempre con 2 zeri:\n",
    "\n",
    "- Se il tuo codice fallisce su alcune date tirando eccezioni, prova ad usare un `try except` per gestire eventuali problemi\n",
    "\n",
    "- **SUGGERIMENTO**: Per capire se un carattere è una cifra, usa il    metodo  `.isdigit()`:\n",
    "\n",
    "```python\n",
    "'4'.isdigit()    # True\n",
    "'423'.isdigit()  # True\n",
    "'3k2'.isdigit()  # False\n",
    "```\n",
    "\n",
    "Mettiamo qualche esempio di trasformazione:\n",
    "\n",
    "```text\n",
    "1672 -> 1600\n",
    "13/05/1702 -> 1700\n",
    "4 febbraio 1875 -> 1800\n",
    "Fine del 300 -> 300\n",
    "Prima meta del 900 -> 900\n",
    "```"
   ]
  },
  {
   "attachments": {},
   "cell_type": "markdown",
   "id": "4605dcaf",
   "metadata": {
    "slideshow": {
     "slide_type": "subslide"
    }
   },
   "source": [
    "## Problemi secolari - intervalli\n",
    "\n",
    "Alcuni casi sono piuttosto particolari, e per semplicità consideriamo solo l'ultima data:\n",
    "\n",
    "```text\n",
    "A cavallo fra il 600 e il 700 -> 700\n",
    "```"
   ]
  },
  {
   "attachments": {},
   "cell_type": "markdown",
   "id": "886e46ff",
   "metadata": {
    "slideshow": {
     "slide_type": "subslide"
    }
   },
   "source": [
    "## Problemi secolari - numeri romani\n",
    "\n",
    "<table> <tr>\n",
    "<td width=\"60%\">\n",
    "\n",
    "I casi più difficili sono con i numeri romani, ci sono vari modi per risolverlo, per semplicità puoi usare il dizionario `secoli` che ti forniamo noi che mappa per es. i primi venti numeri romani al relativo anno, e poi scansionando le date se trovi una corrispondenza applichi la sostituzione.\n",
    "\n",
    "<br>\n",
    "\n",
    "```text\n",
    "IV secolo -> 300\n",
    "prima meta dell'XI secolo -> 1000\n",
    "A cavallo tra l'XI e il XII secolo -> 1100\n",
    "```\n",
    "\n",
    "</td>\n",
    "\n",
    "<td>\n",
    "\n",
    "```python\n",
    "secoli = {\n",
    "     'I': 0,\n",
    "     'II':100,\n",
    "     'III':200,\n",
    "     'IV':300,\n",
    "     'V':400,\n",
    "     'VI':500,\n",
    "     'VII':600,\n",
    "     'VIII':700,\n",
    "     'IX':800,\n",
    "     'X':900,\n",
    "     'XI':1000,\n",
    "     'XII':1100,\n",
    "     'XIII':1200,\n",
    "     'XIV': 1300,\n",
    "     'XV':1400,\n",
    "     'XVI':1500,\n",
    "     'XVII':1600,\n",
    "     'XVIII':1700,\n",
    "     'XIX':1800,\n",
    "     'XIX':1900,\n",
    "     'XX':2000,\n",
    "}\n",
    "```\n",
    "</td>\n",
    "</tr>\n",
    "</table>"
   ]
  },
  {
   "attachments": {},
   "cell_type": "markdown",
   "id": "20806838",
   "metadata": {
    "slideshow": {
     "slide_type": "subslide"
    }
   },
   "source": [
    "## 2.4 Controlla\n",
    "\n",
    "Se hai processato correttamente il dataset, dovresti aver ottenuto un output come questo: [output-atteso-personaggi.csv](https://github.com/DavidLeoni/softpython-it/blob/master/formats/output-atteso-personaggi.csv)\n",
    "\n",
    "Per controllare, prova ad aggiungere questo codice in fondo al tuo, se non mostra messaggi d'errore dovresti avere un file corretto\n",
    "\n",
    "```python\n",
    "with open('output-atteso-personaggi.csv', encoding='utf8', newline='') as f_atteso:\n",
    "    with open('output-personaggi.csv', encoding='utf8', newline='') as f_output:\n",
    "\n",
    "        lettore_atteso = csv.reader(f_atteso, delimiter=',')\n",
    "        lettore_output = csv.reader(f_output, delimiter=',')\n",
    "\n",
    "        linee_attese = list(lettore_atteso)\n",
    "        linee_output = list(lettore_output)\n",
    "        \n",
    "        if len(linee_attese) != len(linee_output):\n",
    "            print('ERRORE: dimensioni file diverse!!')\n",
    "            print('   Attese: ', len(linee_attese), 'righe')\n",
    "            print('   Trovate: ', len(linee_output), 'righe')\n",
    "        else:    \n",
    "            for i in range(len(linee_attese)):\n",
    "                if linee_attese[i] != linee_output[i]:\n",
    "                    print(\"ERRORE riga\", i+1)\n",
    "                    print(\"   Atteso:\", linee_attese[i])\n",
    "                    print(\"  Trovato:\", linee_output[i])\n",
    "```"
   ]
  },
  {
   "attachments": {},
   "cell_type": "markdown",
   "id": "ef59ef65",
   "metadata": {},
   "source": []
  }
 ],
 "metadata": {
  "kernelspec": {
   "display_name": "Python 3 (ipykernel)",
   "language": "python",
   "name": "python3"
  },
  "language_info": {
   "codemirror_mode": {
    "name": "ipython",
    "version": 3
   },
   "file_extension": ".py",
   "mimetype": "text/x-python",
   "name": "python",
   "nbconvert_exporter": "python",
   "pygments_lexer": "ipython3",
   "version": "3.10.9"
  },
  "toc": {
   "base_numbering": 1,
   "nav_menu": {},
   "number_sections": false,
   "sideBar": true,
   "skip_h1_title": false,
   "title_cell": "Table of Contents",
   "title_sidebar": "Contents",
   "toc_cell": false,
   "toc_position": {
    "height": "calc(100% - 180px)",
    "left": "10px",
    "top": "150px",
    "width": "373.2px"
   },
   "toc_section_display": true,
   "toc_window_display": true
  }
 },
 "nbformat": 4,
 "nbformat_minor": 5
}
