{
 "cells": [
  {
   "attachments": {},
   "cell_type": "markdown",
   "id": "51e149ba",
   "metadata": {
    "colab_type": "text",
    "id": "dW_7xwCZAFP5",
    "slideshow": {
     "slide_type": "slide"
    }
   },
   "source": [
    "# Principi di statistica e tools digitali\n",
    "\n",
    "## 1b: Contenitori Python \n",
    "\n",
    "### GG Analisi dei dati @ Fidia\n",
    "\n",
    "**Speaker**: David Leoni info@davidleoni.it\n",
    "\n",
    "Repository github per questi tutorial: https://davidleoni.github.io/ggad\n",
    "\n",
    "Materiale tratto dal libro [SoftPython](https://it.softpython.org)\n",
    "\n",
    "(Per navigare nelle slide premi Esc)"
   ]
  },
  {
   "attachments": {},
   "cell_type": "markdown",
   "id": "b7a25273",
   "metadata": {
    "slideshow": {
     "slide_type": "subslide"
    }
   },
   "source": [
    "## Principali tipi di dati Python"
   ]
  },
  {
   "attachments": {},
   "cell_type": "markdown",
   "id": "a05d8c65",
   "metadata": {},
   "source": [
    "<style>\n",
    "    #data-types-table-marker + table {\n",
    "      font-size:15px;\n",
    "    }\n",
    "</style>\n",
    "\n",
    "<div id=\"data-types-table-marker\"></div>\n",
    "\n",
    "| Tipo | Valore 'vuoto' | Esempio | Altro esempio|Mutabilità|Nota|\n",
    "|------|----------------|---------|--------------|----------|----|\n",
    "|`int`|  `0`|`3`| `-5`|immutabili|possono essere arbitrariamente grandi|\n",
    "|`float`| `0.0`| `3.7` | `-2.3`| immutabili|numeri in virgola mobile|\n",
    "|`bool`|`False`|`True`||immutabili||\n",
    "|`str`  |`\"\"`| `\"Buon giorno\"`|`'come stai?'`|immutabili||\n",
    "|`tuple` | `()`|`(5, 7, 10, 7)`|`(\"qualcosa\", 5, \"altro ancora\")`|immutabili||\n",
    "|`list` | `[]`|`[5, 7, 10, 7]`|`[\"qualcosa\", 5, \"altro ancora\"]`|mutabili||\n",
    "|`set` | `set()`|`{7, 5, 10}`|`{\"altro ancora\", \"qualcosa\", 5}`|mutabili||\n",
    "| `dict` |`{}`|`{'limoni':4, 'arance':7}`|`{'lampada':'illumina', 'termosifone':'scalda'}`|mutabili||\n",
    "|`NoneType`|`None`|||||\n",
    "\n",
    "**Riferimenti**: [SoftPython, Fondamenti - Tipi di dati](https://it.softpython.org/#data-types) "
   ]
  },
  {
   "attachments": {},
   "cell_type": "markdown",
   "id": "58e214d2",
   "metadata": {
    "colab_type": "text",
    "id": "GBvgbl0xAFQL",
    "slideshow": {
     "slide_type": "skip"
    }
   },
   "source": [
    "A volte, useremo tipi più complessi, per esempio i valori temporali si potrebbero mettere in oggetti di tipo `datetime` che oltre alla data vera e propria possono contenere anche il fuso orario, oppure possiamo crearci i nostri tipi (usando le _classi_).\n",
    "\n",
    "In quel che segue, forniremo alcuni esempi rapidi su quello che si può fare sui vari tipi di dato, mettendo riferimenti a spiegazioni più dettagliate."
   ]
  },
  {
   "attachments": {},
   "cell_type": "markdown",
   "id": "9c4f24f1",
   "metadata": {
    "colab_type": "text",
    "id": "AUCCneEoAFTw",
    "slideshow": {
     "slide_type": "slide"
    }
   },
   "source": [
    "## Stringhe - str\n",
    "\n",
    "Le stringhe sono sequenze _immutabili_ di caratteri. \n",
    "\n",
    "**Riferimenti** - SoftPython:\n",
    "\n",
    "- [stringhe 1 - introduzione](https://it.softpython.org/strings/strings1-sol.html)\n",
    "- [stringhe 2 - operatori](https://it.softpython.org/strings/strings2-sol.html)\n",
    "- [stringhe 3 - metodi di base](https://it.softpython.org/strings/strings3-sol.html) \n",
    "- [stringhe 4 - metodi di ricerca](https://it.softpython.org/strings/strings4-sol.html) "
   ]
  },
  {
   "attachments": {},
   "cell_type": "markdown",
   "id": "cdafa7cc",
   "metadata": {
    "slideshow": {
     "slide_type": "subslide"
    }
   },
   "source": [
    "Python offre diversi operatori per lavorare con le stringhe:\n",
    "\n",
    "|Operatore|Uso|Risultato|Significato|\n",
    "|---|---|----|-----|\n",
    "|[len](https://it.softpython.org/strings/strings2-sol.html#Leggere-caratteri)|`len`(str)|int| Ritorna la lunghezza della stringa|\n",
    "|concatenazione|str1 `+` str2|str| Concatena due stringhe|\n",
    "|[inclusione](https://it.softpython.org/strings/strings2-sol.html#Operatore-in)|str1 `in` str2|bool| Controlla se la stringa è presente in un'altra stringa|\n",
    "|[indice](https://it.softpython.org/strings/strings2-sol.html#Leggere-caratteri)|str`[`int`]`|str|Legge il carattere all'indice specificato|\n",
    "|[slice](https://it.softpython.org/strings/strings2-sol.html#Slice)|str`[`int`:`int`]`|str|Estrae una sotto-stringa|\n",
    "|[uguaglianza](https://it.softpython.org/strings/strings2-sol.html#Operatori-uguaglianza)|`==`,`!=`|`bool`| Controlla se due stringhe sono uguali o differenti|\n",
    "|[replicazione](https://it.softpython.org/strings/strings2-sol.html#Operatore-di-replicazione)|str `*` int|str| Replica la stringa|"
   ]
  },
  {
   "attachments": {},
   "cell_type": "markdown",
   "id": "6e14c1cb",
   "metadata": {
    "slideshow": {
     "slide_type": "subslide"
    }
   },
   "source": [
    "### Lunghezza\n",
    "\n",
    "Per ottenere la lunghezza di una lista, possiamo usare la _funzione_ `len`:"
   ]
  },
  {
   "cell_type": "code",
   "execution_count": 1,
   "id": "e421ba2e",
   "metadata": {
    "slideshow": {
     "slide_type": "-"
    }
   },
   "outputs": [
    {
     "data": {
      "text/plain": [
       "5"
      ]
     },
     "execution_count": 1,
     "metadata": {},
     "output_type": "execute_result"
    }
   ],
   "source": [
    "len('legna')"
   ]
  },
  {
   "attachments": {},
   "cell_type": "markdown",
   "id": "39752ba1",
   "metadata": {
    "slideshow": {
     "slide_type": "fragment"
    }
   },
   "source": [
    "### Leggere un carattere\n",
    "\n",
    "Una stringa è una sequenza di caratteri"
   ]
  },
  {
   "attachments": {},
   "cell_type": "markdown",
   "id": "fd081b3a",
   "metadata": {
    "slideshow": {
     "slide_type": "fragment"
    }
   },
   "source": [
    "la posizione dei caratteri nella sequenza inizia da `0`"
   ]
  },
  {
   "attachments": {},
   "cell_type": "markdown",
   "id": "f57e5cc6",
   "metadata": {
    "slideshow": {
     "slide_type": "fragment"
    }
   },
   "source": [
    "Come accedere al carattere in posizione `2`?"
   ]
  },
  {
   "cell_type": "code",
   "execution_count": 2,
   "id": "527c44e8",
   "metadata": {
    "slideshow": {
     "slide_type": "-"
    }
   },
   "outputs": [
    {
     "data": {
      "text/plain": [
       "'a'"
      ]
     },
     "execution_count": 2,
     "metadata": {},
     "output_type": "execute_result"
    }
   ],
   "source": [
    "#0123\n",
    "'ciao'[2]"
   ]
  },
  {
   "attachments": {},
   "cell_type": "markdown",
   "id": "4940bc3a",
   "metadata": {
    "slideshow": {
     "slide_type": "subslide"
    }
   },
   "source": [
    "### Slice\n",
    "\n",
    "Come leggere solo una sottosequenza che parte da un una posizione ad un'altra?"
   ]
  },
  {
   "attachments": {},
   "cell_type": "markdown",
   "id": "c5d4f70f",
   "metadata": {
    "slideshow": {
     "slide_type": "fragment"
    }
   },
   "source": [
    "Basta indicare delle quadre `[` `]` con:\n",
    "\n",
    "- indice di partenza _incluso_ \n",
    "- `:` come separatore\n",
    "- indice di fine _escluso_"
   ]
  },
  {
   "cell_type": "code",
   "execution_count": 3,
   "id": "ad151363",
   "metadata": {
    "slideshow": {
     "slide_type": "fragment"
    }
   },
   "outputs": [],
   "source": [
    "         #0123456789\n",
    "parola = 'mercantile' "
   ]
  },
  {
   "cell_type": "code",
   "execution_count": 4,
   "id": "bedfb514",
   "metadata": {
    "slideshow": {
     "slide_type": "fragment"
    }
   },
   "outputs": [],
   "source": [
    "estratta = parola[3:8]  "
   ]
  },
  {
   "cell_type": "code",
   "execution_count": 5,
   "id": "a0825287",
   "metadata": {
    "slideshow": {
     "slide_type": "fragment"
    }
   },
   "outputs": [
    {
     "data": {
      "text/plain": [
       "'canti'"
      ]
     },
     "execution_count": 5,
     "metadata": {},
     "output_type": "execute_result"
    }
   ],
   "source": [
    "estratta"
   ]
  },
  {
   "cell_type": "code",
   "execution_count": 6,
   "id": "9b6173c1",
   "metadata": {
    "slideshow": {
     "slide_type": "fragment"
    }
   },
   "outputs": [
    {
     "data": {
      "text/plain": [
       "'mercantile'"
      ]
     },
     "execution_count": 6,
     "metadata": {},
     "output_type": "execute_result"
    }
   ],
   "source": [
    "parola"
   ]
  },
  {
   "attachments": {},
   "cell_type": "markdown",
   "id": "350121b0",
   "metadata": {
    "slideshow": {
     "slide_type": "subslide"
    }
   },
   "source": [
    "**NOTA**: la stringa estratta è completamente NUOVA e slegata dall'originale:"
   ]
  },
  {
   "cell_type": "code",
   "execution_count": 7,
   "id": "f8749e93",
   "metadata": {
    "slideshow": {
     "slide_type": "-"
    }
   },
   "outputs": [],
   "source": [
    "         #0123456789\n",
    "parola = 'mercantile'\n",
    "\n",
    "estratta = parola[3:8]   "
   ]
  },
  {
   "cell_type": "code",
   "execution_count": 8,
   "id": "a4ea0696",
   "metadata": {
    "slideshow": {
     "slide_type": "fragment"
    }
   },
   "outputs": [],
   "source": [
    "parola = \"peschereccio\""
   ]
  },
  {
   "cell_type": "code",
   "execution_count": 9,
   "id": "dd956159",
   "metadata": {
    "slideshow": {
     "slide_type": "fragment"
    }
   },
   "outputs": [
    {
     "name": "stdout",
     "output_type": "stream",
     "text": [
      "canti\n"
     ]
    }
   ],
   "source": [
    "print(estratta)"
   ]
  },
  {
   "attachments": {},
   "cell_type": "markdown",
   "id": "5b612c09",
   "metadata": {
    "slideshow": {
     "slide_type": "subslide"
    }
   },
   "source": [
    "### Concatenare stringhe\n",
    "\n",
    "Una delle cose che si fanno più frequentemente è concatenare delle stringhe:"
   ]
  },
  {
   "cell_type": "code",
   "execution_count": 10,
   "id": "983ed83c",
   "metadata": {
    "colab": {
     "autoexec": {
      "startup": false,
      "wait_interval": 0
     }
    },
    "colab_type": "code",
    "id": "HUNg73x-AFTx",
    "slideshow": {
     "slide_type": "-"
    }
   },
   "outputs": [
    {
     "data": {
      "text/plain": [
       "'ciao mondo'"
      ]
     },
     "execution_count": 10,
     "metadata": {},
     "output_type": "execute_result"
    }
   ],
   "source": [
    "\"ciao \" + \"mondo\""
   ]
  },
  {
   "attachments": {},
   "cell_type": "markdown",
   "id": "89bf425f",
   "metadata": {
    "colab_type": "text",
    "id": "5Dm0z8SOAFT0",
    "slideshow": {
     "slide_type": "subslide"
    }
   },
   "source": [
    "### Formattare stringhe \n",
    "\n",
    "Attenzione a quando concateniamo una stringa e un numero"
   ]
  },
  {
   "attachments": {},
   "cell_type": "markdown",
   "id": "b512261e",
   "metadata": {
    "colab_type": "text",
    "id": "vEDchuM9AFT2",
    "slideshow": {
     "slide_type": "-"
    }
   },
   "source": [
    "```python\n",
    "\"ciao \" + 7\n",
    "```"
   ]
  },
  {
   "attachments": {},
   "cell_type": "markdown",
   "id": "81dd355b",
   "metadata": {
    "slideshow": {
     "slide_type": "fragment"
    }
   },
   "source": [
    "Python si arrabbia:"
   ]
  },
  {
   "attachments": {},
   "cell_type": "markdown",
   "id": "8ef8fc5d",
   "metadata": {
    "colab_type": "text",
    "id": "jKoofPiyAFT3",
    "slideshow": {
     "slide_type": "-"
    }
   },
   "source": [
    "```bash\n",
    "---------------------------------------------------------------------------\n",
    "TypeError                                 Traceback (most recent call last)\n",
    "<ipython-input-38-e219e8205f7d> in <module>()\n",
    "----> 1 \"ciao \" + 7\n",
    "\n",
    "TypeError: Can't convert 'int' object to str implicitly\n",
    "```"
   ]
  },
  {
   "attachments": {},
   "cell_type": "markdown",
   "id": "45d029b4",
   "metadata": {
    "colab_type": "text",
    "id": "_dPea14WAFT6",
    "slideshow": {
     "slide_type": "fragment"
    }
   },
   "source": [
    "Bisogna convertire esplicitamente il numero  (in genere, qualunque oggetto) in una stringa"
   ]
  },
  {
   "attachments": {},
   "cell_type": "markdown",
   "id": "d93ff328",
   "metadata": {
    "slideshow": {
     "slide_type": "subslide"
    }
   },
   "source": [
    "Per concatenerare oggetti che non sono stringhe:\n",
    "\n",
    "**Modo 1**: usare la funzione `str` come qui: "
   ]
  },
  {
   "cell_type": "code",
   "execution_count": 11,
   "id": "56136435",
   "metadata": {
    "colab": {
     "autoexec": {
      "startup": false,
      "wait_interval": 0
     }
    },
    "colab_type": "code",
    "id": "-xndn9-FAFT7",
    "slideshow": {
     "slide_type": "-"
    }
   },
   "outputs": [
    {
     "data": {
      "text/plain": [
       "'ciao 7'"
      ]
     },
     "execution_count": 11,
     "metadata": {},
     "output_type": "execute_result"
    }
   ],
   "source": [
    "\"ciao \" + str(7)"
   ]
  },
  {
   "attachments": {},
   "cell_type": "markdown",
   "id": "9a8de6c8",
   "metadata": {
    "colab_type": "text",
    "id": "SdgLz37QAFUC",
    "slideshow": {
     "slide_type": "fragment"
    }
   },
   "source": [
    "**Modo 2 (meglio)**: usare l'operatore di formattazione percentuale `%`\n",
    "\n",
    "- sostituisce alle occorrenze di `%s` quello che mettete dopo un `%` dopo la stringa"
   ]
  },
  {
   "cell_type": "code",
   "execution_count": 12,
   "id": "0c7ba3e7",
   "metadata": {
    "colab": {
     "autoexec": {
      "startup": false,
      "wait_interval": 0
     }
    },
    "colab_type": "code",
    "id": "tkupKFSeAFUD",
    "slideshow": {
     "slide_type": "-"
    }
   },
   "outputs": [
    {
     "data": {
      "text/plain": [
       "'ciao 7'"
      ]
     },
     "execution_count": 12,
     "metadata": {},
     "output_type": "execute_result"
    }
   ],
   "source": [
    "\"ciao %s\" % 7"
   ]
  },
  {
   "attachments": {},
   "cell_type": "markdown",
   "id": "722df29e",
   "metadata": {
    "colab_type": "text",
    "id": "ZMIOdHJbAFUK",
    "slideshow": {
     "slide_type": "fragment"
    }
   },
   "source": [
    "`%s` può stare all'interno della stringa e venire ripetuto.\n",
    "\n",
    "Per ogni occorrenza si può passare un sostituto diverso, come per esempio nella tupla `(\"bello\", \"Python\")` "
   ]
  },
  {
   "cell_type": "code",
   "execution_count": 13,
   "id": "0bf16ad1",
   "metadata": {
    "colab": {
     "autoexec": {
      "startup": false,
      "wait_interval": 0
     },
     "output_extras": [
      {}
     ]
    },
    "colab_type": "code",
    "id": "01RTe3XzAFUM",
    "outputId": "c0c70ece-bcd8-482d-8478-1f77d0c056b3",
    "slideshow": {
     "slide_type": "-"
    }
   },
   "outputs": [
    {
     "data": {
      "text/plain": [
       "'Che bello finalmente imparo Python'"
      ]
     },
     "execution_count": 13,
     "metadata": {},
     "output_type": "execute_result"
    }
   ],
   "source": [
    "\"Che %s finalmente imparo %s\" % (\"bello\", \"Python\")"
   ]
  },
  {
   "attachments": {},
   "cell_type": "markdown",
   "id": "61592228",
   "metadata": {
    "slideshow": {
     "slide_type": "subslide"
    }
   },
   "source": [
    "### Formattare con le f-string\n",
    "\n",
    "**Modo 3 (il migliore)** le _f-string_ si costruiscono anteponendo `f` alla stringa e inserendo dentro la stringa delle graffe con le espressioni di cui vogliamo vedere il risultato."
   ]
  },
  {
   "cell_type": "code",
   "execution_count": 14,
   "id": "5f69caa4",
   "metadata": {
    "slideshow": {
     "slide_type": "-"
    }
   },
   "outputs": [
    {
     "name": "stdout",
     "output_type": "stream",
     "text": [
      "Metto variabili: 3 e anche espressioni: 8. Fantastico!\n"
     ]
    }
   ],
   "source": [
    "x = 3\n",
    "y = 5\n",
    "s = \"Fantastico\"\n",
    "\n",
    "#  Nelle stringhe di formattazione possiamo mettere...\n",
    "print( f\"Metto variabili: {x} e anche espressioni: {x + y}. {s}!\" )"
   ]
  },
  {
   "attachments": {},
   "cell_type": "markdown",
   "id": "f6069a5a",
   "metadata": {
    "slideshow": {
     "slide_type": "subslide"
    }
   },
   "source": [
    "### Riassegnare stringhe 1/2\n",
    "\n",
    "Le stringhe sono immutabili...\n",
    "\n",
    "...quindi tentare di sovrascrivere un carattere porta ad un errore:"
   ]
  },
  {
   "attachments": {},
   "cell_type": "markdown",
   "id": "06068938",
   "metadata": {
    "slideshow": {
     "slide_type": "-"
    }
   },
   "source": [
    "```python\n",
    "    #01234\n",
    "s = 'ciao'\n",
    "\n",
    "s[2] = 'b'  # SBAGLIATO!\n",
    "```"
   ]
  },
  {
   "attachments": {},
   "cell_type": "markdown",
   "id": "ec0bccf5",
   "metadata": {
    "slideshow": {
     "slide_type": "fragment"
    }
   },
   "source": [
    "```python\n",
    "---------------------------------------------------------------------------\n",
    "TypeError                                 Traceback (most recent call last)\n",
    "<ipython-input-113-e5847c6fa4bf> in <module>\n",
    "----> 1 s[2] = 'b'\n",
    "\n",
    "TypeError: 'str' object does not support item assignment\n",
    "```"
   ]
  },
  {
   "attachments": {},
   "cell_type": "markdown",
   "id": "225221b8",
   "metadata": {
    "slideshow": {
     "slide_type": "subslide"
    }
   },
   "source": [
    "### Riassegnare stringhe 2/2\n",
    "\n",
    "Quello che si può fare è cambiare _l'associazione_ della variabile"
   ]
  },
  {
   "attachments": {},
   "cell_type": "markdown",
   "id": "9f792a13",
   "metadata": {
    "slideshow": {
     "slide_type": "fragment"
    }
   },
   "source": [
    "Generiamo una nuova stringa prendendo pezzi dall'originale:"
   ]
  },
  {
   "cell_type": "code",
   "execution_count": 15,
   "id": "4ee21388",
   "metadata": {
    "slideshow": {
     "slide_type": "-"
    }
   },
   "outputs": [],
   "source": [
    "s = 'ciao'\n",
    "s = s[0] + s[1] + 'b' + s[3]"
   ]
  },
  {
   "cell_type": "code",
   "execution_count": 16,
   "id": "82c953ab",
   "metadata": {
    "slideshow": {
     "slide_type": "-"
    }
   },
   "outputs": [
    {
     "data": {
      "text/plain": [
       "'cibo'"
      ]
     },
     "execution_count": 16,
     "metadata": {},
     "output_type": "execute_result"
    }
   ],
   "source": [
    "s"
   ]
  },
  {
   "attachments": {},
   "cell_type": "markdown",
   "id": "98360f91",
   "metadata": {
    "slideshow": {
     "slide_type": "fragment"
    }
   },
   "source": [
    "Il vecchio oggetto `'ciao'` non essendo più raggiungibile da nessuna variabile, prima o poi verrà automaticamente marcato da Python come oggetto eliminabile dalla memoria tramite la cosiddetta _garbage collection_."
   ]
  },
  {
   "attachments": {},
   "cell_type": "markdown",
   "id": "9102d69f",
   "metadata": {
    "colab_type": "text",
    "id": "F5GKXLjqAFYH",
    "slideshow": {
     "slide_type": "subslide"
    }
   },
   "source": [
    "### Usare metodi degli oggetti\n",
    "\n",
    "In Python quasi tutto è un oggetto"
   ]
  },
  {
   "attachments": {},
   "cell_type": "markdown",
   "id": "5f3bb11e",
   "metadata": {
    "slideshow": {
     "slide_type": "fragment"
    }
   },
   "source": [
    "Ogni tipo di oggetto ha delle azioni chiamati _metodi_ che si possono eseguire su quello oggetto\n"
   ]
  },
  {
   "attachments": {},
   "cell_type": "markdown",
   "id": "3a2ba2b1",
   "metadata": {
    "slideshow": {
     "slide_type": "fragment"
    }
   },
   "source": [
    "Per esempio, ogni stringa è un oggetto di tipo `str` "
   ]
  },
  {
   "attachments": {},
   "cell_type": "markdown",
   "id": "910a61b1",
   "metadata": {
    "slideshow": {
     "slide_type": "subslide"
    }
   },
   "source": [
    "### Stringhe - Metodi base\n",
    "\n",
    "|Metodo|Risultato|Significato|\n",
    "|---------|------|-----------|\n",
    "|[str.upper()](https://it.softpython.org/strings/strings3-sol.html#Esempio-upper)|str|Ritorna la stringa con tutti i caratteri maiuscoli|\n",
    "|[str.lower()](https://it.softpython.org/strings/strings3-sol.html#Metodo-lower)|str|Ritorna la stringa con tutti i caratteri minuscoli|\n",
    "|[str.capitalize()](https://it.softpython.org/strings/strings3-sol.html#Metodo-capitalize)|str|Ritorna la stringa con il primo carattere maiuscolo|\n",
    "|[str1.startswith(str2)](https://it.softpython.org/strings/strings3-sol.html#Metodo-startswith)|bool|Controlla se la stringa inizia con un'altra|\n",
    "|[str1.endswith(str2)](https://it.softpython.org/strings/strings3-sol.html#Metodo-endswith)|bool|Controlla se la stringa finisce con un'altra|\n",
    "|[str1.isalpha(str2)](https://it.softpython.org/strings/strings3-sol.html#Metodo-isalpha)|bool|Controlla se tutti i caratteri sono alfabetici|\n",
    "|[str1.isdigit(str2)](https://it.softpython.org/strings/strings3-sol.html#Metodo-isdigit)|bool|Controlla se tutti i caratteri sono cifre|\n",
    "|[str.isupper()](https://it.softpython.org/strings/strings3-sol.html#Metodi-isupper-e-islower)|bool|Controlla se tutti i caratteri sono minuscoli|\n",
    "|[str.islower()](https://it.softpython.org/strings/strings3-sol.html#Metodi-isupper-e-islower)|bool|Controlla se tutti i caratteri sono maiuscoli|\n",
    "\n",
    "Riferimenti: [SoftPython - Stringhe 3](https://it.softpython.org/strings/strings3-sol.html)"
   ]
  },
  {
   "attachments": {},
   "cell_type": "markdown",
   "id": "6ead55a4",
   "metadata": {
    "slideshow": {
     "slide_type": "subslide"
    }
   },
   "source": [
    "Data una stringa che rappresenta un nome come `\"trento\"`...\n",
    "\n",
    "quale metodo potremmo usare per rendere in maiuscolo la prima lettera?"
   ]
  },
  {
   "attachments": {},
   "cell_type": "markdown",
   "id": "54c336f6",
   "metadata": {
    "slideshow": {
     "slide_type": "fragment"
    }
   },
   "source": [
    "Proviamo il metodo esistente  `capitalize()`"
   ]
  },
  {
   "attachments": {},
   "cell_type": "markdown",
   "id": "6adcc98b",
   "metadata": {
    "slideshow": {
     "slide_type": "-"
    }
   },
   "source": [
    "(nota: la stringa è tutta in minuscolo e _capital_ in inglese vuol anche dire 'maiuscolo' )"
   ]
  },
  {
   "cell_type": "code",
   "execution_count": 17,
   "id": "d2b86242",
   "metadata": {
    "colab": {
     "autoexec": {
      "startup": false,
      "wait_interval": 0
     },
     "output_extras": [
      {}
     ]
    },
    "colab_type": "code",
    "id": "L59SZPKMAFYI",
    "outputId": "21f7d2b9-43d6-41a0-c02c-5c1a961f778f",
    "slideshow": {
     "slide_type": "-"
    }
   },
   "outputs": [
    {
     "data": {
      "text/plain": [
       "'Trento'"
      ]
     },
     "execution_count": 17,
     "metadata": {},
     "output_type": "execute_result"
    }
   ],
   "source": [
    "\"trento\".capitalize()"
   ]
  },
  {
   "attachments": {},
   "cell_type": "markdown",
   "id": "05e04001",
   "metadata": {
    "slideshow": {
     "slide_type": "subslide"
    }
   },
   "source": [
    "### Stringhe - Metodi di ricerca\n",
    "\n",
    "\n",
    "|Metodo|Risultato|Significato|\n",
    "|---------|------|-----------|\n",
    "|[str1.strip(str2)](https://it.softpython.org/strings/strings4-sol.html#Metodo-strip)|str|Rimuove stringhe dai lati|\n",
    "|[str1.lstrip(str2)](https://it.softpython.org/strings/strings4-sol.html#Metodo-lstrip)|str|Rimuove stringhe da sinistra|\n",
    "|[str1.rstrip(str2)](https://it.softpython.org/strings/strings4-sol.html#Metodo-rstrip)|str|Rimuove stringhe da destra|\n",
    "|[str1.count(str2)](https://it.softpython.org/strings/strings4-sol.html#Metodo-count)|int|Conta il numero di occorrenze di una sottostringa|\n",
    "|[str1.find(str2)](https://it.softpython.org/strings/strings4-sol.html#Metodo-find)|int|Ritorna la prima posizione di una sottostringa a partire da sinistra|\n",
    "|[str1.rfind(str2)](https://it.softpython.org/strings/strings4-sol.html#Metodo-rfind)|int|Ritorna la prima posizione di una sottostringa a partire da destra|\n",
    "|[str1.replace(str2, str3)](https://it.softpython.org/strings/strings4-sol.html#Metodo-replace)|str|Sostituisce sottostringhe|\n",
    "\n",
    "Riferimenti: [SoftPython - Stringhe 4](https://it.softpython.org/strings/strings4-sol.html)"
   ]
  },
  {
   "attachments": {},
   "cell_type": "markdown",
   "id": "2486aa09",
   "metadata": {
    "slideshow": {
     "slide_type": "-"
    }
   },
   "source": [
    "<div class=\"alert alert-warning\">\n",
    "\n",
    "**ATTENZIONE: i metodi delle stringhe generano stringhe SEMPRE NUOVE**\n",
    "\n",
    "L’oggetto stringa originale non viene MAI modificato.\n",
    "</div>"
   ]
  },
  {
   "attachments": {},
   "cell_type": "markdown",
   "id": "ad0ef6de",
   "metadata": {
    "slideshow": {
     "slide_type": "subslide"
    }
   },
   "source": [
    "### Esempio metodo stringhe: replace"
   ]
  },
  {
   "cell_type": "code",
   "execution_count": 18,
   "id": "8e0cd4e2",
   "metadata": {
    "slideshow": {
     "slide_type": "-"
    }
   },
   "outputs": [],
   "source": [
    "originale = \"PARLARE E BRINDARE\"\n",
    "\n",
    "risultato = originale.replace('ARE', 'IAMO')  "
   ]
  },
  {
   "cell_type": "code",
   "execution_count": 19,
   "id": "67e26856",
   "metadata": {
    "slideshow": {
     "slide_type": "fragment"
    }
   },
   "outputs": [
    {
     "data": {
      "text/plain": [
       "'PARLIAMO E BRINDIAMO'"
      ]
     },
     "execution_count": 19,
     "metadata": {},
     "output_type": "execute_result"
    }
   ],
   "source": [
    "risultato"
   ]
  },
  {
   "cell_type": "code",
   "execution_count": 20,
   "id": "86e1dcf0",
   "metadata": {
    "slideshow": {
     "slide_type": "fragment"
    }
   },
   "outputs": [
    {
     "data": {
      "text/plain": [
       "'PARLARE E BRINDARE'"
      ]
     },
     "execution_count": 20,
     "metadata": {},
     "output_type": "execute_result"
    }
   ],
   "source": [
    "originale"
   ]
  },
  {
   "attachments": {},
   "cell_type": "markdown",
   "id": "fbd1b047",
   "metadata": {
    "colab_type": "text",
    "id": "-YkY_K8AAFUc",
    "slideshow": {
     "slide_type": "slide"
    }
   },
   "source": [
    "## Liste - list\n",
    "\n",
    "Una lista in python è una sequenza mutabile di elementi eterogenei, in cui possiamo mettere gli oggetti che vogliamo.\n",
    "\n",
    "**Riferimenti - SoftPython:**  \n",
    "\n",
    "- [Liste 1 - introduzione](https://it.softpython.org/lists/lists1-sol.html)\n",
    "- [Liste 2 - operatori](https://it.softpython.org/lists/lists2-sol.html)\n",
    "- [Liste 3 - metodi base](https://it.softpython.org/lists/lists3-sol.html)\n",
    "- [Liste 4 - metodi di ricerca](https://it.softpython.org/lists/lists4-sol.html)"
   ]
  },
  {
   "attachments": {},
   "cell_type": "markdown",
   "id": "3b26c806",
   "metadata": {
    "slideshow": {
     "slide_type": "fragment"
    }
   },
   "source": [
    "Creiamo una lista di stringhe:"
   ]
  },
  {
   "cell_type": "code",
   "execution_count": 21,
   "id": "6a20d5a5",
   "metadata": {
    "colab": {
     "autoexec": {
      "startup": false,
      "wait_interval": 0
     }
    },
    "colab_type": "code",
    "id": "Ozn-Qt0yAFUc",
    "slideshow": {
     "slide_type": "-"
    }
   },
   "outputs": [],
   "source": [
    "lista = [\"ciao\", \"soft\", \"python\"]"
   ]
  },
  {
   "cell_type": "code",
   "execution_count": 22,
   "id": "bcb13a01",
   "metadata": {
    "colab": {
     "autoexec": {
      "startup": false,
      "wait_interval": 0
     },
     "output_extras": [
      {}
     ]
    },
    "colab_type": "code",
    "id": "04EWaDNyAFUf",
    "outputId": "f478db2d-544a-47bc-e578-b0d5f1b9a3f1",
    "slideshow": {
     "slide_type": "fragment"
    }
   },
   "outputs": [
    {
     "data": {
      "text/plain": [
       "['ciao', 'soft', 'python']"
      ]
     },
     "execution_count": 22,
     "metadata": {},
     "output_type": "execute_result"
    }
   ],
   "source": [
    "lista"
   ]
  },
  {
   "attachments": {},
   "cell_type": "markdown",
   "id": "bf7ae74d",
   "metadata": {
    "colab_type": "text",
    "id": "U6OlmaHaAFUn",
    "slideshow": {
     "slide_type": "subslide"
    }
   },
   "source": [
    "Le liste sono sequenze di oggetti possibilmente eterogenei..."
   ]
  },
  {
   "attachments": {},
   "cell_type": "markdown",
   "id": "6637c100",
   "metadata": {
    "slideshow": {
     "slide_type": "fragment"
    }
   },
   "source": [
    "quindi dentro ci potete buttare di tutto, interi, stringhe, duplicati, altre liste,  ...:"
   ]
  },
  {
   "cell_type": "code",
   "execution_count": 23,
   "id": "44e7ac29",
   "metadata": {
    "colab": {
     "autoexec": {
      "startup": false,
      "wait_interval": 0
     }
    },
    "colab_type": "code",
    "id": "YRnNkTnbAFUn",
    "slideshow": {
     "slide_type": "-"
    }
   },
   "outputs": [],
   "source": [
    "cose = [\"ciao\", 97, \"ciao\", [\"a\",\"b\"] ]"
   ]
  },
  {
   "cell_type": "code",
   "execution_count": 24,
   "id": "8abc4191",
   "metadata": {
    "colab": {
     "autoexec": {
      "startup": false,
      "wait_interval": 0
     },
     "output_extras": [
      {}
     ]
    },
    "colab_type": "code",
    "id": "YBHGVy51AFUq",
    "outputId": "9ba3a0b6-36ca-4642-ac87-41d9f97c066f",
    "slideshow": {
     "slide_type": "fragment"
    }
   },
   "outputs": [
    {
     "data": {
      "text/plain": [
       "['ciao', 97, 'ciao', ['a', 'b']]"
      ]
     },
     "execution_count": 24,
     "metadata": {},
     "output_type": "execute_result"
    }
   ],
   "source": [
    "cose"
   ]
  },
  {
   "attachments": {},
   "cell_type": "markdown",
   "id": "731f1dc9",
   "metadata": {
    "slideshow": {
     "slide_type": "subslide"
    }
   },
   "source": [
    "### Liste - operatori\n",
    "\n",
    "Per manipolare le liste vi sono diversi operatori. I seguenti si comportano come quelli visti per le stringhe.\n",
    "\n",
    "<style>\n",
    "    #list-operators-marker + table {\n",
    "        font-size: 16px;\n",
    "    }\n",
    "</style>    \n",
    "\n",
    "<div id=\"list-operators-marker\"></div>\n",
    "\n",
    "|Operatore|Use |Risultato|Significato|\n",
    "|---------|----|---------|-----------|\n",
    "|len|`len`(lst)|`int`|Ritorna la lunghezza di una lista|\n",
    "|indice|list`[`int`]`|obj|Legge/scrive un elemento all'indice specificato|\n",
    "|slice|list`[`int`:`int`]`|`list`| Estrae una sotto-lista - ritorna una NUOVA lista|\n",
    "|inclusione|obj `in` list|`bool`|Controlla se un elemento è presente in una lista|\n",
    "|concatenazione|list `+` list|`list`|Concatena due liste - ritorna una NUOVA lista|\n",
    "|aggregazione|`max`(lst)|`int`|Data una lista di numeri, ritorna il massimo|\n",
    "|aggregazione|`min`(lst)|`int`|Data una lista di numeri, ritorna il minimo|\n",
    "|aggregazione|`sum`(lst)|`int`|Data una lista di numeri, li somma tutti|\n",
    "|replicazione|list `*` int|`list`| Replica la lista - ritorna una NUOVA lista|\n",
    "|uguaglianza|`==`,`!=`|`bool`| Controlla se due liste sono uguali o differenti|\n",
    "\n",
    "Riferimenti: [SoftPython - liste 2](https://it.softpython.org/lists/lists2-sol.html)"
   ]
  },
  {
   "attachments": {},
   "cell_type": "markdown",
   "id": "eb1cf365",
   "metadata": {
    "colab": {
     "autoexec": {
      "startup": false,
      "wait_interval": 0
     }
    },
    "colab_type": "code",
    "id": "perY24wzAFUx",
    "slideshow": {
     "slide_type": "subslide"
    }
   },
   "source": [
    "Per accedere ad un elemento usiamo un indice (come per per le stringhe):"
   ]
  },
  {
   "cell_type": "code",
   "execution_count": 25,
   "id": "6fb83e41",
   "metadata": {
    "colab": {
     "autoexec": {
      "startup": false,
      "wait_interval": 0
     },
     "output_extras": [
      {}
     ]
    },
    "colab_type": "code",
    "id": "09ciP4W0AFU8",
    "outputId": "d7d2eacb-7afd-4e6f-da32-cfd5a12f65b4",
    "slideshow": {
     "slide_type": "-"
    }
   },
   "outputs": [
    {
     "data": {
      "text/plain": [
       "'soft'"
      ]
     },
     "execution_count": 25,
     "metadata": {},
     "output_type": "execute_result"
    }
   ],
   "source": [
    "        #   0      1         2 \n",
    "lista = [\"ciao\", \"soft\", \"python\"]\n",
    "lista[1]"
   ]
  },
  {
   "attachments": {},
   "cell_type": "markdown",
   "id": "1ead8fd1",
   "metadata": {
    "colab_type": "text",
    "id": "A6rRmAJ-AFVL",
    "slideshow": {
     "slide_type": "fragment"
    }
   },
   "source": [
    "In una lista possiamo MODIFICARE le celle con l'assegnazione: "
   ]
  },
  {
   "cell_type": "code",
   "execution_count": 26,
   "id": "59e78dc9",
   "metadata": {
    "colab": {
     "autoexec": {
      "startup": false,
      "wait_interval": 0
     }
    },
    "colab_type": "code",
    "id": "V2LYVi8CAFVL",
    "slideshow": {
     "slide_type": "-"
    }
   },
   "outputs": [],
   "source": [
    "lista[1] = \"SOFT\""
   ]
  },
  {
   "cell_type": "code",
   "execution_count": 27,
   "id": "8232d4e6",
   "metadata": {
    "colab": {
     "autoexec": {
      "startup": false,
      "wait_interval": 0
     },
     "output_extras": [
      {}
     ]
    },
    "colab_type": "code",
    "id": "8vf5xnm8AFVT",
    "outputId": "958c853d-3288-4d74-df26-e0998d98c79f",
    "slideshow": {
     "slide_type": "fragment"
    }
   },
   "outputs": [
    {
     "data": {
      "text/plain": [
       "['ciao', 'SOFT', 'python']"
      ]
     },
     "execution_count": 27,
     "metadata": {},
     "output_type": "execute_result"
    }
   ],
   "source": [
    "lista"
   ]
  },
  {
   "attachments": {},
   "cell_type": "markdown",
   "id": "29a55740",
   "metadata": {
    "slideshow": {
     "slide_type": "subslide"
    }
   },
   "source": [
    "### Liste - slice\n",
    "\n",
    "Possiamo estrarre sottosequenze con le slice, come per le stringhe:"
   ]
  },
  {
   "cell_type": "code",
   "execution_count": 28,
   "id": "28255fcb",
   "metadata": {
    "slideshow": {
     "slide_type": "-"
    }
   },
   "outputs": [
    {
     "name": "stdout",
     "output_type": "stream",
     "text": [
      "[80, 60, 10, 40]\n"
     ]
    }
   ],
   "source": [
    "#     0  1  2  3  4  5  6  7  8  9\n",
    "la = [40,30,90,80,60,10,40,20,50,60]\n",
    "lb = la[3:7]\n",
    "\n",
    "print(lb)"
   ]
  },
  {
   "attachments": {},
   "cell_type": "markdown",
   "id": "99a6a4cb",
   "metadata": {
    "slideshow": {
     "slide_type": "fragment"
    }
   },
   "source": [
    "**ATTENZIONE**: l'estrazione produce una NUOVA lista\n",
    "\n",
    "se modifichiamo l'originale non vedremo alcun cambiamento nella stringa estratta:"
   ]
  },
  {
   "cell_type": "code",
   "execution_count": 29,
   "id": "a0104ff3",
   "metadata": {
    "slideshow": {
     "slide_type": "-"
    }
   },
   "outputs": [],
   "source": [
    "la[3] = 999"
   ]
  },
  {
   "cell_type": "code",
   "execution_count": 30,
   "id": "b7c20000",
   "metadata": {
    "slideshow": {
     "slide_type": "-"
    }
   },
   "outputs": [
    {
     "name": "stdout",
     "output_type": "stream",
     "text": [
      "[40, 30, 90, 999, 60, 10, 40, 20, 50, 60]\n"
     ]
    }
   ],
   "source": [
    "print(la)"
   ]
  },
  {
   "cell_type": "code",
   "execution_count": 31,
   "id": "060917c7",
   "metadata": {
    "slideshow": {
     "slide_type": "fragment"
    }
   },
   "outputs": [
    {
     "name": "stdout",
     "output_type": "stream",
     "text": [
      "[80, 60, 10, 40]\n"
     ]
    }
   ],
   "source": [
    "print(lb)   "
   ]
  },
  {
   "attachments": {},
   "cell_type": "markdown",
   "id": "da330496",
   "metadata": {
    "slideshow": {
     "slide_type": "subslide"
    }
   },
   "source": [
    "### Liste - Metodi di base\n",
    "\n",
    "\n",
    "\n",
    "|Metodo|Ritorna|Descrizione|\n",
    "|-------|------|-----------|\n",
    "|[list.append(object)](https://it.softpython.org/lists/lists3-sol.html#Metodo-append)|`None`|Aggiunge un nuovo elemento alla fine della lista|\n",
    "|[list.extend(list)](https://it.softpython.org/lists/lists3-sol.html#Metodo-extend)|`None`|Aggiunge diversi nuovi elementi alla fine della lista|\n",
    "|[list.insert(int,object)](https://it.softpython.org/lists/lists3-sol.html#Metodo-insert)|`None`|Aggiunge un nuovo elemento a qualche posizione data|\n",
    "|[list.pop()](https://it.softpython.org/lists/lists3-sol.html#Metodo-pop)|`object`|Rimuove e ritorna l'elemento all'ultima posizione|\n",
    "|[list.pop(int)](https://it.softpython.org/lists/lists3-sol.html#Metodo-pop)|`object`|Dato un indice, rimuove e ritorna l'elemento a quella posizione|\n",
    "|[list.reverse()](https://it.softpython.org/lists/lists3-sol.html#Metodo-reverse)|`None`|Inverte l'ordine degli elementi|\n",
    "|[list.sort()](https://it.softpython.org/lists/lists3-sol.html#Metodo-sort)|`None`|Ordina gli elementi|\n",
    "|[\"sep\".join(seq)](https://it.softpython.org/lists/lists3-sol.html#Metodo-join---da-liste-a-stringhe)|`str`|produce una stringa concatenando tutti gli elementi in seq separati da `\"sep\"`| \n",
    "\n",
    "Riferimenti: [SoftPython - liste 3](https://it.softpython.org/lists/lists3-sol.html)"
   ]
  },
  {
   "attachments": {},
   "cell_type": "markdown",
   "id": "6b679324",
   "metadata": {
    "slideshow": {
     "slide_type": "subslide"
    }
   },
   "source": [
    "<div class=\"alert alert-warning\">\n",
    "\n",
    "**I METODI DELLE LISTE _MODIFICANO_ LA LISTA SU CUI VENGONO CHIAMATI !**\n",
    "\n",
    "Quando chiami un metodo di una lista (l'oggetto a sinistra del punto `.`), MODIFICHI la lista stessa (diversamente dai metodi sulle stringhe che generano sempre una nuova stringa senza cambiare l'originale)\n",
    "\n",
    "</div>"
   ]
  },
  {
   "attachments": {},
   "cell_type": "markdown",
   "id": "5e639d26",
   "metadata": {
    "slideshow": {
     "slide_type": "fragment"
    }
   },
   "source": [
    "<div class=\"alert alert-warning\">\n",
    "\n",
    "**ATTENZIONE: I METODI DELLE LISTE _NON_ RITORNANO NULLA!**\n",
    "\n",
    "Quasi sempre ritornano l'oggetto `None` (diversamente da quelli delle stringhe che ritornano sempre una nuova stringa)\n",
    "\n",
    "</div>\n"
   ]
  },
  {
   "attachments": {},
   "cell_type": "markdown",
   "id": "8cdb3b32",
   "metadata": {
    "colab_type": "text",
    "id": "ZSY_jqK_AFVv",
    "slideshow": {
     "slide_type": "subslide"
    }
   },
   "source": [
    "### Liste: append\n",
    "\n",
    "Possiamo aggiungere elementi alla fine di una lista usando il comando `append`:"
   ]
  },
  {
   "cell_type": "code",
   "execution_count": 32,
   "id": "a45d166f",
   "metadata": {
    "colab": {
     "autoexec": {
      "startup": false,
      "wait_interval": 0
     }
    },
    "colab_type": "code",
    "id": "QxpNlcbHAFVv",
    "slideshow": {
     "slide_type": "-"
    }
   },
   "outputs": [],
   "source": [
    "parole = []"
   ]
  },
  {
   "cell_type": "code",
   "execution_count": 33,
   "id": "77389331",
   "metadata": {
    "colab": {
     "autoexec": {
      "startup": false,
      "wait_interval": 0
     }
    },
    "colab_type": "code",
    "id": "w6B-rfZpAFV2",
    "slideshow": {
     "slide_type": "fragment"
    }
   },
   "outputs": [],
   "source": [
    "parole.append(\"ciao\")"
   ]
  },
  {
   "cell_type": "code",
   "execution_count": 34,
   "id": "a09d309f",
   "metadata": {
    "colab": {
     "autoexec": {
      "startup": false,
      "wait_interval": 0
     },
     "output_extras": [
      {}
     ]
    },
    "colab_type": "code",
    "id": "M8roNVZPAFV5",
    "outputId": "b61ddfa5-115b-43cc-df02-450435f69d10",
    "slideshow": {
     "slide_type": "-"
    }
   },
   "outputs": [
    {
     "data": {
      "text/plain": [
       "['ciao']"
      ]
     },
     "execution_count": 34,
     "metadata": {},
     "output_type": "execute_result"
    }
   ],
   "source": [
    "parole"
   ]
  },
  {
   "cell_type": "code",
   "execution_count": 35,
   "id": "5e14776f",
   "metadata": {
    "colab": {
     "autoexec": {
      "startup": false,
      "wait_interval": 0
     }
    },
    "colab_type": "code",
    "id": "4zXn5AnYAFV9",
    "slideshow": {
     "slide_type": "fragment"
    }
   },
   "outputs": [],
   "source": [
    "parole.append(\"soft\")\n",
    "parole.append(\"python\")"
   ]
  },
  {
   "cell_type": "code",
   "execution_count": 36,
   "id": "d7e63a6f",
   "metadata": {
    "colab": {
     "autoexec": {
      "startup": false,
      "wait_interval": 0
     },
     "output_extras": [
      {}
     ]
    },
    "colab_type": "code",
    "id": "1YuQeTO8AFWF",
    "outputId": "6e819883-ced0-4382-a24e-c6984a0fe3e7",
    "slideshow": {
     "slide_type": "-"
    }
   },
   "outputs": [
    {
     "data": {
      "text/plain": [
       "['ciao', 'soft', 'python']"
      ]
     },
     "execution_count": 36,
     "metadata": {},
     "output_type": "execute_result"
    }
   ],
   "source": [
    "parole"
   ]
  },
  {
   "attachments": {},
   "cell_type": "markdown",
   "id": "0c7dac4e",
   "metadata": {
    "colab_type": "text",
    "id": "TrimbgQ8i6zE",
    "slideshow": {
     "slide_type": "subslide"
    }
   },
   "source": [
    "### Esempio: ordinamento liste\n",
    "\n",
    "Le liste si possono ordinare comodamente con il metodo `.sort`\n",
    "\n",
    "- funziona su tutti gli oggetti ordinabili. \n",
    "\n",
    "Proviamo i numeri:"
   ]
  },
  {
   "cell_type": "code",
   "execution_count": 37,
   "id": "6529d9d5",
   "metadata": {
    "colab": {
     "autoexec": {
      "startup": false,
      "wait_interval": 0
     }
    },
    "colab_type": "code",
    "id": "xNFr7Up3jt9l",
    "slideshow": {
     "slide_type": "-"
    }
   },
   "outputs": [],
   "source": [
    "lista = [ 8, 2, 4]\n",
    "\n",
    "lista.sort()"
   ]
  },
  {
   "cell_type": "code",
   "execution_count": 38,
   "id": "f885d84b",
   "metadata": {
    "colab": {
     "autoexec": {
      "startup": false,
      "wait_interval": 0
     }
    },
    "colab_type": "code",
    "id": "bxLaBfwaj3bM",
    "slideshow": {
     "slide_type": "fragment"
    }
   },
   "outputs": [
    {
     "data": {
      "text/plain": [
       "[2, 4, 8]"
      ]
     },
     "execution_count": 38,
     "metadata": {},
     "output_type": "execute_result"
    }
   ],
   "source": [
    "lista"
   ]
  },
  {
   "attachments": {},
   "cell_type": "markdown",
   "id": "f899846c",
   "metadata": {
    "colab_type": "text",
    "id": "IQWomkTPj5P4",
    "slideshow": {
     "slide_type": "fragment"
    }
   },
   "source": [
    "Proviamo ad ordinare delle stringhe:"
   ]
  },
  {
   "cell_type": "code",
   "execution_count": 39,
   "id": "fe18c557",
   "metadata": {
    "colab": {
     "autoexec": {
      "startup": false,
      "wait_interval": 0
     },
     "base_uri": "https://localhost:8080/",
     "height": 34,
     "output_extras": [
      {
       "item_id": 1
      }
     ]
    },
    "colab_type": "code",
    "executionInfo": {
     "elapsed": 484,
     "status": "ok",
     "timestamp": 1519035909727,
     "user": {
      "displayName": "David Leoni",
      "photoUrl": "https://lh3.googleusercontent.com/a/default-user=s128",
      "userId": "102920557909426557439"
     },
     "user_tz": -60
    },
    "id": "Z2kdDpxNjcMg",
    "outputId": "fbf06717-b6d4-4e00-a440-36628440c398",
    "slideshow": {
     "slide_type": "-"
    }
   },
   "outputs": [
    {
     "data": {
      "text/plain": [
       "['ciao', 'mondo', 'python']"
      ]
     },
     "execution_count": 39,
     "metadata": {},
     "output_type": "execute_result"
    }
   ],
   "source": [
    "parole = [ 'mondo', 'python',  'ciao',]\n",
    "\n",
    "parole.sort()\n",
    "parole"
   ]
  },
  {
   "attachments": {},
   "cell_type": "markdown",
   "id": "5d56c166",
   "metadata": {
    "colab_type": "text",
    "id": "tyK4Pgo7lcay",
    "slideshow": {
     "slide_type": "subslide"
    }
   },
   "source": [
    "Per generare una nuova lista invece di modificare l'originale, c'è `sorted()`\n",
    "\n",
    "**NOTA**: `sorted` è una _funzione_, non un _metodo_:"
   ]
  },
  {
   "cell_type": "code",
   "execution_count": 40,
   "id": "08e7d467",
   "metadata": {
    "colab": {
     "autoexec": {
      "startup": false,
      "wait_interval": 0
     },
     "base_uri": "https://localhost:8080/",
     "height": 34,
     "output_extras": [
      {
       "item_id": 1
      }
     ]
    },
    "colab_type": "code",
    "executionInfo": {
     "elapsed": 826,
     "status": "ok",
     "timestamp": 1519035925999,
     "user": {
      "displayName": "David Leoni",
      "photoUrl": "https://lh3.googleusercontent.com/a/default-user=s128",
      "userId": "102920557909426557439"
     },
     "user_tz": -60
    },
    "id": "7x9keLzIlbeY",
    "outputId": "975525d4-ba5f-4075-96bc-9de778fac761",
    "slideshow": {
     "slide_type": "-"
    }
   },
   "outputs": [
    {
     "data": {
      "text/plain": [
       "['ciao', 'mondo', 'python']"
      ]
     },
     "execution_count": 40,
     "metadata": {},
     "output_type": "execute_result"
    }
   ],
   "source": [
    "parole = [ 'mondo', 'python', 'ciao',]\n",
    "\n",
    "sorted(parole)"
   ]
  },
  {
   "cell_type": "code",
   "execution_count": 41,
   "id": "6e8c329d",
   "metadata": {
    "colab": {
     "autoexec": {
      "startup": false,
      "wait_interval": 0
     },
     "base_uri": "https://localhost:8080/",
     "height": 34,
     "output_extras": [
      {
       "item_id": 1
      }
     ]
    },
    "colab_type": "code",
    "executionInfo": {
     "elapsed": 477,
     "status": "ok",
     "timestamp": 1519036050423,
     "user": {
      "displayName": "David Leoni",
      "photoUrl": "https://lh3.googleusercontent.com/a/default-user=s128",
      "userId": "102920557909426557439"
     },
     "user_tz": -60
    },
    "id": "L87O-fjMlwoz",
    "outputId": "98291939-58ee-494c-a7b6-5caf071741a3",
    "slideshow": {
     "slide_type": "fragment"
    }
   },
   "outputs": [
    {
     "data": {
      "text/plain": [
       "['mondo', 'python', 'ciao']"
      ]
     },
     "execution_count": 41,
     "metadata": {},
     "output_type": "execute_result"
    }
   ],
   "source": [
    "# la lista originale non è cambiata:\n",
    "parole"
   ]
  },
  {
   "attachments": {},
   "cell_type": "markdown",
   "id": "18b8e7fb",
   "metadata": {
    "colab_type": "text",
    "id": "OPTT3kHSpp3m",
    "slideshow": {
     "slide_type": "fragment"
    }
   },
   "source": [
    "**Ordine rovesciato**\n",
    "\n",
    "Possiamo indicare _in fondo_ il parametro opzionale `reverse` e il suo valore, che in questo caso sarà `True`:"
   ]
  },
  {
   "cell_type": "code",
   "execution_count": 42,
   "id": "08a99343",
   "metadata": {
    "colab": {
     "autoexec": {
      "startup": false,
      "wait_interval": 0
     },
     "base_uri": "https://localhost:8080/",
     "height": 34,
     "output_extras": [
      {
       "item_id": 1
      }
     ]
    },
    "colab_type": "code",
    "executionInfo": {
     "elapsed": 662,
     "status": "ok",
     "timestamp": 1519036904044,
     "user": {
      "displayName": "David Leoni",
      "photoUrl": "https://lh3.googleusercontent.com/a/default-user=s128",
      "userId": "102920557909426557439"
     },
     "user_tz": -60
    },
    "id": "1uL7iYVxp0Jc",
    "outputId": "0c2ff50a-f5a7-4a9b-9615-47a4bfd61df9"
   },
   "outputs": [
    {
     "data": {
      "text/plain": [
       "['python', 'mondo', 'ciao']"
      ]
     },
     "execution_count": 42,
     "metadata": {},
     "output_type": "execute_result"
    }
   ],
   "source": [
    "sorted(['mondo', 'python', 'ciao'], reverse=True)"
   ]
  },
  {
   "attachments": {},
   "cell_type": "markdown",
   "id": "04c23133",
   "metadata": {
    "colab_type": "text",
    "id": "BYKOKlw3rTXo",
    "slideshow": {
     "slide_type": "subslide"
    }
   },
   "source": [
    "**Rovesciare liste non ordinate**\n",
    "\n",
    "E se volessimo rovesciare una lista così com'è, senza ordinarla in senso decrescente, per esempio per passare da`[6,2,4]` a `[2,4,6]`?\n",
    "\n",
    "Cercando nella libreria di Python,troviamo una comoda funzione `reversed()` che prende come paramatro la lista che vogliamo rovesciare e ne genera una nuova rovesciata:"
   ]
  },
  {
   "cell_type": "code",
   "execution_count": 43,
   "id": "001bdb4a",
   "metadata": {
    "slideshow": {
     "slide_type": "-"
    }
   },
   "outputs": [
    {
     "data": {
      "text/plain": [
       "<list_reverseiterator at 0x1bf5d678d90>"
      ]
     },
     "execution_count": 43,
     "metadata": {},
     "output_type": "execute_result"
    }
   ],
   "source": [
    "reversed([6,2,4])"
   ]
  },
  {
   "attachments": {},
   "cell_type": "markdown",
   "id": "4314fa95",
   "metadata": {
    "slideshow": {
     "slide_type": "fragment"
    }
   },
   "source": [
    "Problema: `reversed` produce una sequenza 'congelate', che va materializzata convertendola esplicitamente a lista così:"
   ]
  },
  {
   "cell_type": "code",
   "execution_count": 44,
   "id": "5ad119f3",
   "metadata": {
    "slideshow": {
     "slide_type": "-"
    }
   },
   "outputs": [
    {
     "data": {
      "text/plain": [
       "[4, 2, 6]"
      ]
     },
     "execution_count": 44,
     "metadata": {},
     "output_type": "execute_result"
    }
   ],
   "source": [
    "list(  reversed([6,2,4]) )"
   ]
  },
  {
   "attachments": {},
   "cell_type": "markdown",
   "id": "11400b26",
   "metadata": {
    "slideshow": {
     "slide_type": "subslide"
    }
   },
   "source": [
    "### Liste - Metodi di ricerca\n",
    "\n",
    "|Metodo|Ritorna|Descrizione|\n",
    "|-------|------|-----------|\n",
    "|[list.count(object)](https://it.softpython.org/lists/lists4-sol.html#Metodo-count)|`int`|Conta le occorrenze di un elemento|\n",
    "|[list.index(object)](https://it.softpython.org/lists/lists4-sol.html#Metodo-index)|`int`|Trova la prima occorrenza di un elemento e ne ritorna la posizione|\n",
    "|[list.remove(object)](https://it.softpython.org/lists/lists4-sol.html#Metodo-remove)|`None`|Rimuove la prima occorrenza di un elemento|\n",
    "|[str1.split(str2)](https://it.softpython.org/lists/lists4-sol.html#Metodo-split---da-stringhe-a-liste)|`list`|Produce una lista con tutte le parole in str1 separate da str2| \n",
    "\n",
    "\n",
    "\n",
    "**ATTENZIONE**: spesso questi metodi vengono abusati portando a codice incorretto / inefficiente, usali con giudizio!\n",
    "\n",
    "**Riferimenti:** [SoftPython - liste 4](https://it.softpython.org/lists/lists4-sol.html)"
   ]
  },
  {
   "attachments": {},
   "cell_type": "markdown",
   "id": "f7e376e8",
   "metadata": {
    "slideshow": {
     "slide_type": "slide"
    }
   },
   "source": [
    "## Tuple - tuple\n",
    "\n",
    "Una tupla in Python è una sequenza _immutabile_ di elementi eterogenei che ammette duplicati\n",
    "\n",
    "- perciò possiamo mettere gli oggetti che vogliamo\n",
    "- ... di tipi diversi\n",
    "- ... e ripetuti"
   ]
  },
  {
   "attachments": {},
   "cell_type": "markdown",
   "id": "b8ca262e",
   "metadata": {
    "slideshow": {
     "slide_type": "fragment"
    }
   },
   "source": [
    "Le tuple si creano con le parentesi tonde `()` e separando gli elementi da virgole `,`.\n",
    "\n",
    "Qualche esempio:"
   ]
  },
  {
   "cell_type": "code",
   "execution_count": 45,
   "id": "e6781fe8",
   "metadata": {
    "slideshow": {
     "slide_type": "-"
    }
   },
   "outputs": [],
   "source": [
    "numeri = (6,7,5,7,7,9)"
   ]
  },
  {
   "cell_type": "code",
   "execution_count": 46,
   "id": "4b59c3bc",
   "metadata": {
    "slideshow": {
     "slide_type": "-"
    }
   },
   "outputs": [
    {
     "name": "stdout",
     "output_type": "stream",
     "text": [
      "(6, 7, 5, 7, 7, 9)\n"
     ]
    }
   ],
   "source": [
    "print(numeri)"
   ]
  },
  {
   "cell_type": "code",
   "execution_count": 47,
   "id": "8b083442",
   "metadata": {
    "slideshow": {
     "slide_type": "fragment"
    }
   },
   "outputs": [],
   "source": [
    "roba = (4, \"carta\", 5, 2,\"scatole\", 7)   # tupla eterogenea"
   ]
  },
  {
   "attachments": {},
   "cell_type": "markdown",
   "id": "5573d1b8",
   "metadata": {
    "slideshow": {
     "slide_type": "fragment"
    }
   },
   "source": [
    "<div class=\"alert alert-warning\">\n",
    "\n",
    "**EVITA di mettere oggetti mutabili dentro le tuple!**\n",
    "\n",
    "</div>"
   ]
  },
  {
   "attachments": {},
   "cell_type": "markdown",
   "id": "ad74e3ee",
   "metadata": {
    "slideshow": {
     "slide_type": "subslide"
    }
   },
   "source": [
    "**Per creare una tupla di un solo elemento**: aggiungi una virgola dopo l'ultimo elemento:"
   ]
  },
  {
   "cell_type": "code",
   "execution_count": 48,
   "id": "ef3df073",
   "metadata": {
    "slideshow": {
     "slide_type": "-"
    }
   },
   "outputs": [],
   "source": [
    "tuplina = (4,)  # occhio alla virgola !!!"
   ]
  },
  {
   "cell_type": "code",
   "execution_count": 49,
   "id": "d1c76bc0",
   "metadata": {
    "slideshow": {
     "slide_type": "-"
    }
   },
   "outputs": [
    {
     "data": {
      "text/plain": [
       "tuple"
      ]
     },
     "execution_count": 49,
     "metadata": {},
     "output_type": "execute_result"
    }
   ],
   "source": [
    "type(tuplina)"
   ]
  },
  {
   "attachments": {},
   "cell_type": "markdown",
   "id": "4e8bb411",
   "metadata": {
    "slideshow": {
     "slide_type": "fragment"
    }
   },
   "source": [
    "Per vedere la differenza, scriviamo qua sotto `(4)` senza virgola:"
   ]
  },
  {
   "cell_type": "code",
   "execution_count": 50,
   "id": "77391dfe",
   "metadata": {
    "slideshow": {
     "slide_type": "-"
    }
   },
   "outputs": [],
   "source": [
    "farlocca = (4)"
   ]
  },
  {
   "cell_type": "code",
   "execution_count": 51,
   "id": "481e7035",
   "metadata": {
    "slideshow": {
     "slide_type": "-"
    }
   },
   "outputs": [
    {
     "data": {
      "text/plain": [
       "int"
      ]
     },
     "execution_count": 51,
     "metadata": {},
     "output_type": "execute_result"
    }
   ],
   "source": [
    "type(farlocca)"
   ]
  },
  {
   "attachments": {},
   "cell_type": "markdown",
   "id": "e6a996e0",
   "metadata": {
    "slideshow": {
     "slide_type": "fragment"
    }
   },
   "source": [
    "Vediamo che `farlocca` è un `int`...\n",
    "\n",
    "- il `4` è stato valutato come un'espressione dentro delle tonde e il risultato è il contenuto delle tonde!"
   ]
  },
  {
   "attachments": {},
   "cell_type": "markdown",
   "id": "d3258639",
   "metadata": {
    "slideshow": {
     "slide_type": "subslide"
    }
   },
   "source": [
    "### Tupla vuota"
   ]
  },
  {
   "cell_type": "code",
   "execution_count": 52,
   "id": "1b0290ac",
   "metadata": {
    "slideshow": {
     "slide_type": "-"
    }
   },
   "outputs": [],
   "source": [
    "vuota = ()"
   ]
  },
  {
   "cell_type": "code",
   "execution_count": 53,
   "id": "0b4b33ce",
   "metadata": {
    "slideshow": {
     "slide_type": "-"
    }
   },
   "outputs": [
    {
     "name": "stdout",
     "output_type": "stream",
     "text": [
      "()\n"
     ]
    }
   ],
   "source": [
    "print(vuota)"
   ]
  },
  {
   "cell_type": "code",
   "execution_count": 54,
   "id": "82518c83",
   "metadata": {
    "slideshow": {
     "slide_type": "-"
    }
   },
   "outputs": [
    {
     "data": {
      "text/plain": [
       "tuple"
      ]
     },
     "execution_count": 54,
     "metadata": {},
     "output_type": "execute_result"
    }
   ],
   "source": [
    "type(vuota)"
   ]
  },
  {
   "attachments": {},
   "cell_type": "markdown",
   "id": "b16ad628",
   "metadata": {
    "slideshow": {
     "slide_type": "subslide"
    }
   },
   "source": [
    "### Tuple senza parentesi\n",
    "\n",
    "Per assegnare dei valori a delle variabili è possibile usare una notazione del genere,\n",
    "\n",
    "in cui a sinistra dell' `=` mettiamo nomi di variabili e a destra una sequenza di valori:"
   ]
  },
  {
   "cell_type": "code",
   "execution_count": 55,
   "id": "e7f61c9f",
   "metadata": {
    "slideshow": {
     "slide_type": "-"
    }
   },
   "outputs": [],
   "source": [
    "a,b,c = 1, 2, 3"
   ]
  },
  {
   "cell_type": "code",
   "execution_count": 56,
   "id": "36c64a9e",
   "metadata": {
    "slideshow": {
     "slide_type": "-"
    }
   },
   "outputs": [
    {
     "data": {
      "text/plain": [
       "2"
      ]
     },
     "execution_count": 56,
     "metadata": {},
     "output_type": "execute_result"
    }
   ],
   "source": [
    "b"
   ]
  },
  {
   "attachments": {},
   "cell_type": "markdown",
   "id": "73f15ac6",
   "metadata": {
    "slideshow": {
     "slide_type": "subslide"
    }
   },
   "source": [
    "Se ci chiediamo cosa sia quel `1,2,3`, possiamo provare a mettere a sinistra solo una variabile:"
   ]
  },
  {
   "cell_type": "code",
   "execution_count": 57,
   "id": "a7552e80",
   "metadata": {
    "slideshow": {
     "slide_type": "-"
    }
   },
   "outputs": [],
   "source": [
    "# ATTENZIONE: MEGLIO EVITARE !\n",
    "x = 1,2,3"
   ]
  },
  {
   "cell_type": "code",
   "execution_count": 58,
   "id": "12231943",
   "metadata": {
    "slideshow": {
     "slide_type": "-"
    }
   },
   "outputs": [
    {
     "data": {
      "text/plain": [
       "tuple"
      ]
     },
     "execution_count": 58,
     "metadata": {},
     "output_type": "execute_result"
    }
   ],
   "source": [
    "type(x)"
   ]
  },
  {
   "attachments": {},
   "cell_type": "markdown",
   "id": "3954ee17",
   "metadata": {
    "slideshow": {
     "slide_type": "fragment"
    }
   },
   "source": [
    "Vediamo che Python ha considerato quel `1,2,3` come una tupla.\n"
   ]
  },
  {
   "attachments": {},
   "cell_type": "markdown",
   "id": "3938c00c",
   "metadata": {
    "slideshow": {
     "slide_type": "fragment"
    }
   },
   "source": [
    "<div class=\"alert alert-warning\">\n",
    "\n",
    "**Attenzione: Se trovi strane tuple durante l'esecuzione, cerca virgole extra!**\n",
    "\n",
    "</div>"
   ]
  },
  {
   "cell_type": "code",
   "execution_count": 59,
   "id": "4f9339c2",
   "metadata": {
    "slideshow": {
     "slide_type": "-"
    }
   },
   "outputs": [],
   "source": [
    "stringa_farlocca = \"ciao\",   # OCCHIO"
   ]
  },
  {
   "cell_type": "code",
   "execution_count": 60,
   "id": "a45ed577",
   "metadata": {
    "slideshow": {
     "slide_type": "-"
    }
   },
   "outputs": [
    {
     "data": {
      "text/plain": [
       "('ciao',)"
      ]
     },
     "execution_count": 60,
     "metadata": {},
     "output_type": "execute_result"
    }
   ],
   "source": [
    "stringa_farlocca"
   ]
  },
  {
   "attachments": {},
   "cell_type": "markdown",
   "id": "2b082ffe",
   "metadata": {
    "slideshow": {
     "slide_type": "subslide"
    }
   },
   "source": [
    "### Conversioni\n",
    "\n",
    "Puoi creare una tupla da una qualsiasi sequenza, per esempio da una lista:"
   ]
  },
  {
   "cell_type": "code",
   "execution_count": 61,
   "id": "83986d89",
   "metadata": {
    "slideshow": {
     "slide_type": "-"
    }
   },
   "outputs": [
    {
     "data": {
      "text/plain": [
       "(8, 2, 5)"
      ]
     },
     "execution_count": 61,
     "metadata": {},
     "output_type": "execute_result"
    }
   ],
   "source": [
    "tuple( [8,2,5] )"
   ]
  },
  {
   "cell_type": "code",
   "execution_count": 62,
   "id": "25ededab",
   "metadata": {
    "slideshow": {
     "slide_type": "-"
    }
   },
   "outputs": [
    {
     "data": {
      "text/plain": [
       "[3, 4, 2, 3]"
      ]
     },
     "execution_count": 62,
     "metadata": {},
     "output_type": "execute_result"
    }
   ],
   "source": [
    "list( (3,4,2,3)  )   # viceversa"
   ]
  },
  {
   "attachments": {},
   "cell_type": "markdown",
   "id": "22b2160b",
   "metadata": {
    "slideshow": {
     "slide_type": "subslide"
    }
   },
   "source": [
    "### Tuple - operatori\n",
    "\n",
    "I seguenti operatori funzionano sulle tuple e si comportano esattamente come per le liste:\n",
    "\n",
    "|Operatore|Risultato|Significato|\n",
    "|---|---|----|\n",
    "|`len`(tuple)|`int`|Ritorna la lunghezza di una tupla|\n",
    "|tuple`[`int`]`|`object`|Legge un elemento all'indice specificato|\n",
    "|tuple`[`int`:`int`]`|`tuple`| Estrae una sotto-tupla - ritorna una NUOVA tupla|\n",
    "|tuple1 `+` tuple2|`tuple`|Concatena due tuple - ritorna una NUOVA tupla|\n",
    "|object `in` tuple|`bool`|Controlla se un elemento è presente in una tupla|\n",
    "|tuple `*` int|`tuple`| Replica la tupla - ritorna una NUOVA tupla|\n",
    "|`==`,`!=`|`bool`| Controlla se due tuple sono uguali o differenti|\n",
    "\n",
    "Riferimento: [SoftPython - Tuple](https://it.softpython.org/tuples/tuples1-sol.html#Operatori)"
   ]
  },
  {
   "attachments": {},
   "cell_type": "markdown",
   "id": "34566cfc",
   "metadata": {
    "slideshow": {
     "slide_type": "slide"
    }
   },
   "source": [
    "## Insiemi - set\n",
    "\n",
    "**Riferimenti:** SoftPython, [insiemi](https://it.softpython.org/sets/sets1-sol.html)\n",
    "\n",
    "Un insieme è una collezione _mutabile_ _senza ordine_ di elementi _immutabili_ e _distinti_ (cioè senza duplicati)"
   ]
  },
  {
   "cell_type": "code",
   "execution_count": 63,
   "id": "6112349d",
   "metadata": {
    "slideshow": {
     "slide_type": "-"
    }
   },
   "outputs": [],
   "source": [
    "s = {'b','a','d','c'}"
   ]
  },
  {
   "cell_type": "code",
   "execution_count": 64,
   "id": "8d28c2d3",
   "metadata": {
    "slideshow": {
     "slide_type": "-"
    }
   },
   "outputs": [
    {
     "data": {
      "text/plain": [
       "set"
      ]
     },
     "execution_count": 64,
     "metadata": {},
     "output_type": "execute_result"
    }
   ],
   "source": [
    "type(s)"
   ]
  },
  {
   "cell_type": "code",
   "execution_count": 65,
   "id": "b4db06e8",
   "metadata": {
    "slideshow": {
     "slide_type": "-"
    }
   },
   "outputs": [
    {
     "name": "stdout",
     "output_type": "stream",
     "text": [
      "{'d', 'c', 'b', 'a'}\n"
     ]
    }
   ],
   "source": [
    "s = {'b','a','d','c'}\n",
    "print(s)"
   ]
  },
  {
   "attachments": {},
   "cell_type": "markdown",
   "id": "3922d754",
   "metadata": {
    "slideshow": {
     "slide_type": "fragment"
    }
   },
   "source": [
    "<div class=\"alert alert-warning\">\n",
    "\n",
    "**ATTENZIONE: L'ORDINE NEGLI INSIEMI** ***NON*** **E' GARANTITO!** ***NON*** **CREDERE A QUELLO CHE VEDI !!**\n",
    "</div>"
   ]
  },
  {
   "attachments": {},
   "cell_type": "markdown",
   "id": "c8426c73",
   "metadata": {
    "slideshow": {
     "slide_type": "subslide"
    }
   },
   "source": [
    "L'ordine in cui è stata effettuata la stampa è diverso da quello con cui abbiamo costruito l'insieme - potrebbe anche variare a seconda della versione di Python."
   ]
  },
  {
   "attachments": {},
   "cell_type": "markdown",
   "id": "9761c2cb",
   "metadata": {
    "slideshow": {
     "slide_type": "fragment"
    }
   },
   "source": [
    "**Attenzione** a cosa succede se proviamo a chiedere a Jupyter di mostrarci il contenuto dell'insieme, scrivendo solo la variabile `s` SENZA la `print`:"
   ]
  },
  {
   "cell_type": "code",
   "execution_count": 66,
   "id": "f941d3d4",
   "metadata": {
    "slideshow": {
     "slide_type": "-"
    }
   },
   "outputs": [
    {
     "data": {
      "text/plain": [
       "{'a', 'b', 'c', 'd'}"
      ]
     },
     "execution_count": 66,
     "metadata": {},
     "output_type": "execute_result"
    }
   ],
   "source": [
    "s"
   ]
  },
  {
   "attachments": {},
   "cell_type": "markdown",
   "id": "6e052f6a",
   "metadata": {
    "slideshow": {
     "slide_type": "fragment"
    }
   },
   "source": [
    "Adesso appare in ordine alfabetico ! "
   ]
  },
  {
   "attachments": {},
   "cell_type": "markdown",
   "id": "0e123fbf",
   "metadata": {
    "slideshow": {
     "slide_type": "fragment"
    }
   },
   "source": [
    "Motivo: Jupyter per mostrare le variabili invece della print normale stampa implicitamente con la [pprint](https://docs.python.org/3/library/pprint.html) (_pretty_ print), che SOLO per gli insiemi ci fa la cortesia di ordinare il risultato prima di stamparlo. "
   ]
  },
  {
   "attachments": {},
   "cell_type": "markdown",
   "id": "dad9b47a",
   "metadata": {
    "slideshow": {
     "slide_type": "subslide"
    }
   },
   "source": [
    "### Rimuovere duplicati\n",
    "\n",
    "<div class=\"alert alert-info\">\n",
    "    \n",
    "**Gli insiemi sono utili per rimuovere duplicati da una sequenza** \n",
    "\n",
    "</div>    \n",
    "    \n",
    "Come per liste e stringhe, possiamo creare un `set` a partire da un'altra sequenza:"
   ]
  },
  {
   "cell_type": "code",
   "execution_count": 67,
   "id": "409a66c6",
   "metadata": {
    "slideshow": {
     "slide_type": "fragment"
    }
   },
   "outputs": [
    {
     "data": {
      "text/plain": [
       "{'a', 'c', 'i'}"
      ]
     },
     "execution_count": 67,
     "metadata": {},
     "output_type": "execute_result"
    }
   ],
   "source": [
    "set('acacia') # da stringa"
   ]
  },
  {
   "cell_type": "code",
   "execution_count": 68,
   "id": "bc081214",
   "metadata": {
    "slideshow": {
     "slide_type": "-"
    }
   },
   "outputs": [
    {
     "data": {
      "text/plain": [
       "{1, 2, 3}"
      ]
     },
     "execution_count": 68,
     "metadata": {},
     "output_type": "execute_result"
    }
   ],
   "source": [
    "set( [1,2,3,1,2,1,2,1,3,1] ) # da lista"
   ]
  },
  {
   "attachments": {},
   "cell_type": "markdown",
   "id": "ec68c417",
   "metadata": {
    "slideshow": {
     "slide_type": "fragment"
    }
   },
   "source": [
    "**Indice degli elementi**: con gli insiemi NON è possibile ricavare un elemento a partire da un indice:\n",
    "\n",
    "```python\n",
    "s[0]\n",
    "\n",
    "---------------------------------------------------------------------------\n",
    "TypeError                                 Traceback (most recent call last)\n",
    "<ipython-input-352-c9c96910e542> in <module>\n",
    "----> 1 s[0]\n",
    "\n",
    "TypeError: 'set' object is not subscriptable\n",
    "```"
   ]
  },
  {
   "attachments": {},
   "cell_type": "markdown",
   "id": "1e4c9200",
   "metadata": {
    "slideshow": {
     "slide_type": "subslide"
    }
   },
   "source": [
    "### Insieme vuoto\n",
    "\n",
    "Per creare un insieme vuoto dobbiamo chiamare la funzione `set()`:"
   ]
  },
  {
   "cell_type": "code",
   "execution_count": 69,
   "id": "0ddecf55",
   "metadata": {
    "slideshow": {
     "slide_type": "-"
    }
   },
   "outputs": [],
   "source": [
    "s = set()"
   ]
  },
  {
   "attachments": {},
   "cell_type": "markdown",
   "id": "2178f7c7",
   "metadata": {
    "slideshow": {
     "slide_type": "-"
    }
   },
   "source": [
    "<div class=\"alert alert-warning\">\n",
    "\n",
    "**ATTENZIONE: Se scrivi** `{}` **otterrai un dizionario, NON un insieme !!!**\n",
    "\n",
    "</div>"
   ]
  },
  {
   "attachments": {},
   "cell_type": "markdown",
   "id": "0083662e",
   "metadata": {
    "slideshow": {
     "slide_type": "subslide"
    }
   },
   "source": [
    "### Operatori insiemi\n",
    "\n",
    "|Operatore| Risultato | Descrizione |\n",
    "|---------|-----------|-------------|\n",
    "|`len`(set)|`int` | il numero di elementi nel set|\n",
    "|el `in` set|`bool`|verifica se elemento è contenuto nel set|\n",
    "|set <code>&#124;</code>  set| `set` | unione, crea un NUOVO set|\n",
    "|set `&` set| `set` | intersezione, crea un NUOVO set|\n",
    "|set `-` set| `set` | differenza, crea un NUOVO set|\n",
    "|set `^` set| `set` | differenza simmetrica, crea un NUOVO set|\n",
    "|`==`,`!=`|`bool`| Controlla se due insiemi sono uguali o differenti|\n",
    "\n",
    "Riferimento: [SoftPython - Insiemi](https://it.softpython.org/sets/sets1-sol.html#Operatori)"
   ]
  },
  {
   "attachments": {},
   "cell_type": "markdown",
   "id": "b074734a",
   "metadata": {
    "slideshow": {
     "slide_type": "subslide"
    }
   },
   "source": [
    "### Appartenenza"
   ]
  },
  {
   "attachments": {},
   "cell_type": "markdown",
   "id": "407c6f6f",
   "metadata": {
    "slideshow": {
     "slide_type": "-"
    }
   },
   "source": [
    "Per verificare se un elemento IMMUTABILE è contenuto in un insieme possiamo usare l'operatore `in` che ci ritorna un valore booleano:"
   ]
  },
  {
   "cell_type": "code",
   "execution_count": 70,
   "id": "560c6fdd",
   "metadata": {
    "slideshow": {
     "slide_type": "-"
    }
   },
   "outputs": [
    {
     "data": {
      "text/plain": [
       "True"
      ]
     },
     "execution_count": 70,
     "metadata": {},
     "output_type": "execute_result"
    }
   ],
   "source": [
    "'a' in {'m','e','n','t','a'}"
   ]
  },
  {
   "attachments": {},
   "cell_type": "markdown",
   "id": "bd6a35c7",
   "metadata": {
    "slideshow": {
     "slide_type": "fragment"
    }
   },
   "source": [
    "<div class=\"alert alert-info\">\n",
    "\n",
    "`in` **NEGLI INSIEMI E' UN'OPERAZIONE MOLTO VELOCE**\n",
    "\n",
    "A differenza di liste e tuple, negli insiemi la velocità dell'operatore `in` NON dipende dalla dimensione della collezione\n",
    "</div>"
   ]
  },
  {
   "attachments": {},
   "cell_type": "markdown",
   "id": "066e2ce7",
   "metadata": {
    "slideshow": {
     "slide_type": "subslide"
    }
   },
   "source": [
    "**ATTENZIONE**: Cercare elementi mutabili (es liste) in insiemi **non** è consentito:"
   ]
  },
  {
   "attachments": {},
   "cell_type": "markdown",
   "id": "237532cf",
   "metadata": {
    "slideshow": {
     "slide_type": "-"
    }
   },
   "source": [
    "```python\n",
    "['e','f'] in { ('c','d'), ('a','b')}\n",
    "\n",
    "---------------------------------------------------------------------------\n",
    "TypeError                                 Traceback (most recent call last)\n",
    "/tmp/ipykernel_29295/1711245333.py in <module>\n",
    "----> 1 ['a','b'] in { ('c','d'), ('a','b'), ('e','f') }\n",
    "\n",
    "TypeError: unhashable type: 'list'\n",
    "\n",
    "```"
   ]
  },
  {
   "cell_type": "code",
   "execution_count": 71,
   "id": "34b59cff",
   "metadata": {
    "slideshow": {
     "slide_type": "-"
    }
   },
   "outputs": [
    {
     "data": {
      "text/plain": [
       "False"
      ]
     },
     "execution_count": 71,
     "metadata": {},
     "output_type": "execute_result"
    }
   ],
   "source": [
    "('e','f') in { ('c','d'), ('a','b') }   # una tupla invece è immutabile quindi possiamo cercarla"
   ]
  },
  {
   "attachments": {},
   "cell_type": "markdown",
   "id": "99fa23a6",
   "metadata": {
    "slideshow": {
     "slide_type": "subslide"
    }
   },
   "source": [
    "Per verificare la **non appartenza**,  ci sono due forme:"
   ]
  },
  {
   "cell_type": "code",
   "execution_count": 72,
   "id": "f986ab20",
   "metadata": {
    "slideshow": {
     "slide_type": "-"
    }
   },
   "outputs": [
    {
     "data": {
      "text/plain": [
       "True"
      ]
     },
     "execution_count": 72,
     "metadata": {},
     "output_type": "execute_result"
    }
   ],
   "source": [
    "\"carota\" not in {\"anguria\",\"banana\",\"mela\"}"
   ]
  },
  {
   "cell_type": "code",
   "execution_count": 73,
   "id": "e397d4ad",
   "metadata": {
    "slideshow": {
     "slide_type": "-"
    }
   },
   "outputs": [
    {
     "data": {
      "text/plain": [
       "True"
      ]
     },
     "execution_count": 73,
     "metadata": {},
     "output_type": "execute_result"
    }
   ],
   "source": [
    "not \"carota\" in {\"anguria\", \"banana\", \"mela\"}"
   ]
  },
  {
   "attachments": {},
   "cell_type": "markdown",
   "id": "97baee03",
   "metadata": {
    "slideshow": {
     "slide_type": "subslide"
    }
   },
   "source": [
    "### Insiemi - metodi simili agli operatori\n",
    "\n",
    "\n",
    "Vi sono metodi analoghi agli operatori `|`, `&`, `-`, `^` che creano un **NUOVO** set.\n",
    "\n",
    "**NOTA**: diversamente dagli operatori, questi metodi accettano come parametro una _qualsiasi_ sequenza, non solo insiemi:\n",
    "\n",
    "|Metodo| Risultato | Descrizione | Operatore analogo|\n",
    "|---------|-----------|-------------|------|\n",
    "|`set.union(seq)`|`set`|unione, crea un NUOVO set |<code>&#124;</code>|\n",
    "|`set.intersection(seq)`| `set`| intersezione, crea un NUOVO set|`&`|\n",
    "|`set.difference(seq)`| `set` | differenza, crea un NUOVO set|`-`|\n",
    "|`set.symmetric_difference(seq)`| `set` | differenza simmetrica, crea un NUOVO set|`^`|"
   ]
  },
  {
   "attachments": {},
   "cell_type": "markdown",
   "id": "e1266b6d",
   "metadata": {
    "slideshow": {
     "slide_type": "subslide"
    }
   },
   "source": [
    "Metodi che **MODIFICANO** il primo insieme su cui sono chiamati (e ritornano `None`!):\n",
    "\n",
    "|Metodo| Risultato | Descrizione |\n",
    "|---------|-----------|-------------|\n",
    "|`setA.update(setB)`|`None`| unione, MODIFICA `setA`|\n",
    "|`setA.intersection_update(setB)` |`None` |intersezione, MODIFICA `setA`|\n",
    "|`setA.difference_update(setB)`| `None` | differenza, MODIFICA `setA`|\n",
    "|`setA.symmetric_difference_update(setB)`| `None` | differenza simmetrica, MODIFICA `setA`|\n",
    "\n",
    "Riferimenti: [SoftPython - Insiemi](https://it.softpython.org/sets/sets1-sol.html#Metodi-simili-agli-operatori)"
   ]
  },
  {
   "attachments": {},
   "cell_type": "markdown",
   "id": "8b6816e5",
   "metadata": {
    "colab_type": "text",
    "id": "poPVz2M0AFWT",
    "slideshow": {
     "slide_type": "slide"
    }
   },
   "source": [
    "\n",
    "## Dizionari - dict\n",
    "\n",
    "I dizionari sono dei contenitori mutabili che consentono di abbinare dei _valori_ a delle voci dette _chiavi_. \n",
    "\n",
    "**Riferimenti**:\n",
    "\n",
    "- SoftPython - dizionari:\n",
    "    1. [introduzione](https://it.softpython.org/dictionaries/dictionaries1-sol.html)\n",
    "    2. [operatori](https://it.softpython.org/dictionaries/dictionaries2-sol.html)\n",
    "    3. [metodi](https://it.softpython.org/dictionaries/dictionaries3-sol.html)"
   ]
  },
  {
   "attachments": {},
   "cell_type": "markdown",
   "id": "fe34a7d4",
   "metadata": {
    "slideshow": {
     "slide_type": "subslide"
    }
   },
   "source": [
    "### Dizionari - operatori\n",
    "\n",
    "|Operatore|Ritorna|Descrizione|\n",
    "|---------|-------|-----------|\n",
    "|`len`(dict)|`int`|Ritorna il numero di chiavi|\n",
    "|dict`[`chiave`]`|obj|Ritorna il valore associato alla chiave|\n",
    "|dict`[`chiave`]` `=` valore||Aggiunge o modifica il valore associato ad una chiave|\n",
    "|`del` dict`[`chiave`]`||Rimuove la coppia chiave/valore|\n",
    "|chiave `in` dict|`bool`|Ritorna `True` se chiave è presente nel dizionario|\n",
    "|`==`,`!=`|`bool`|Controlla se due dizionari sono uguali o differenti|\n",
    "\n",
    "Riferimenti: [SoftPython - Dizionari 2](https://it.softpython.org/dictionaries/dictionaries2-sol.html)"
   ]
  },
  {
   "attachments": {},
   "cell_type": "markdown",
   "id": "7b0c9125",
   "metadata": {
    "slideshow": {
     "slide_type": "subslide"
    }
   },
   "source": [
    "Possiamo creare un dizionario con \n",
    "\n",
    "- graffe esterne `{` `}`\n",
    "- separando le chiavi dai valori con i due punti `:`\n",
    "- separando le coppie chiave/valore con la virgola `,`"
   ]
  },
  {
   "cell_type": "code",
   "execution_count": 74,
   "id": "2a71b35e",
   "metadata": {
    "colab": {
     "autoexec": {
      "startup": false,
      "wait_interval": 0
     }
    },
    "colab_type": "code",
    "id": "TBTib8uDAFWT",
    "slideshow": {
     "slide_type": "-"
    }
   },
   "outputs": [],
   "source": [
    "d = { 'sedia'   : 'un mobile per sedersi',\n",
    "      'armadio' : 'un mobile a ripiani',                                                \n",
    "}"
   ]
  },
  {
   "attachments": {},
   "cell_type": "markdown",
   "id": "d3ad968e",
   "metadata": {
    "slideshow": {
     "slide_type": "fragment"
    }
   },
   "source": [
    "Nota:\n",
    "\n",
    "- spazi / ritorni a capo non contano\n",
    "- l'ultima virgola è opzionale"
   ]
  },
  {
   "attachments": {},
   "cell_type": "markdown",
   "id": "a67845d6",
   "metadata": {
    "colab_type": "text",
    "id": "-KbnLHG4AFWY",
    "slideshow": {
     "slide_type": "subslide"
    }
   },
   "source": [
    "### Leggere valori\n",
    "\n",
    "Per accedere ai valori, possiamo usare le chiavi tra parentesi quadre:"
   ]
  },
  {
   "cell_type": "code",
   "execution_count": 75,
   "id": "7efde9dd",
   "metadata": {
    "colab": {
     "autoexec": {
      "startup": false,
      "wait_interval": 0
     },
     "output_extras": [
      {}
     ]
    },
    "colab_type": "code",
    "id": "uOtygGF-AFWY",
    "outputId": "424158a1-1e06-4101-dfb8-3c5ea0439140",
    "slideshow": {
     "slide_type": "-"
    }
   },
   "outputs": [
    {
     "data": {
      "text/plain": [
       "'un mobile per sedersi'"
      ]
     },
     "execution_count": 75,
     "metadata": {},
     "output_type": "execute_result"
    }
   ],
   "source": [
    "d = { 'sedia'   : 'un mobile per sedersi',\n",
    "      'armadio' : 'un mobile a ripiani',                                                \n",
    "}\n",
    "\n",
    "\n",
    "d['sedia']"
   ]
  },
  {
   "cell_type": "code",
   "execution_count": 76,
   "id": "b79ca6aa",
   "metadata": {
    "colab": {
     "autoexec": {
      "startup": false,
      "wait_interval": 0
     },
     "output_extras": [
      {}
     ]
    },
    "colab_type": "code",
    "id": "USOz4GrKAFWh",
    "outputId": "c19e78b1-5506-4ae2-9e52-123c6a36c24c",
    "slideshow": {
     "slide_type": "-"
    }
   },
   "outputs": [
    {
     "data": {
      "text/plain": [
       "'un mobile a ripiani'"
      ]
     },
     "execution_count": 76,
     "metadata": {},
     "output_type": "execute_result"
    }
   ],
   "source": [
    "d['armadio']"
   ]
  },
  {
   "attachments": {},
   "cell_type": "markdown",
   "id": "46d3cfdf",
   "metadata": {
    "slideshow": {
     "slide_type": "subslide"
    }
   },
   "source": [
    "### Modificare associazioni\n",
    "\n",
    "Possiamo aggiungere un'associazione così:"
   ]
  },
  {
   "cell_type": "code",
   "execution_count": 77,
   "id": "5330e873",
   "metadata": {
    "colab": {
     "autoexec": {
      "startup": false,
      "wait_interval": 0
     }
    },
    "colab_type": "code",
    "id": "n_jOaUL7AFWn",
    "slideshow": {
     "slide_type": "-"
    }
   },
   "outputs": [],
   "source": [
    "d['lampadario'] = 'un apparecchio di illuminazione'"
   ]
  },
  {
   "cell_type": "code",
   "execution_count": 78,
   "id": "0d70261a",
   "metadata": {
    "slideshow": {
     "slide_type": "fragment"
    }
   },
   "outputs": [
    {
     "data": {
      "text/plain": [
       "{'sedia': 'un mobile per sedersi',\n",
       " 'armadio': 'un mobile a ripiani',\n",
       " 'lampadario': 'un apparecchio di illuminazione'}"
      ]
     },
     "execution_count": 78,
     "metadata": {},
     "output_type": "execute_result"
    }
   ],
   "source": [
    "d"
   ]
  },
  {
   "attachments": {},
   "cell_type": "markdown",
   "id": "6ef28d6b",
   "metadata": {
    "slideshow": {
     "slide_type": "fragment"
    }
   },
   "source": [
    "si può anche usare sovrascrivere le precedenti:"
   ]
  },
  {
   "cell_type": "code",
   "execution_count": 79,
   "id": "f7be56d5",
   "metadata": {
    "slideshow": {
     "slide_type": "-"
    }
   },
   "outputs": [],
   "source": [
    "d['armadio'] = 'un mobile a ripiani, solitamente due ante'"
   ]
  },
  {
   "cell_type": "code",
   "execution_count": 80,
   "id": "7e08d0b8",
   "metadata": {
    "slideshow": {
     "slide_type": "-"
    }
   },
   "outputs": [
    {
     "data": {
      "text/plain": [
       "{'sedia': 'un mobile per sedersi',\n",
       " 'armadio': 'un mobile a ripiani, solitamente due ante',\n",
       " 'lampadario': 'un apparecchio di illuminazione'}"
      ]
     },
     "execution_count": 80,
     "metadata": {},
     "output_type": "execute_result"
    }
   ],
   "source": [
    "d"
   ]
  },
  {
   "attachments": {},
   "cell_type": "markdown",
   "id": "3b9f6b09",
   "metadata": {
    "colab_type": "text",
    "id": "Y6g0wQOoAFWn",
    "slideshow": {
     "slide_type": "subslide"
    }
   },
   "source": [
    "### Dizionari - valori\n",
    "\n",
    "Come valori nei dizionari possiamo mettere quello che ci pare, numeri, stringhe, tuple, liste, altri dizionari .."
   ]
  },
  {
   "cell_type": "code",
   "execution_count": 81,
   "id": "8e8221e0",
   "metadata": {
    "colab": {
     "autoexec": {
      "startup": false,
      "wait_interval": 0
     },
     "output_extras": [
      {}
     ]
    },
    "colab_type": "code",
    "id": "4rW2qESsAFWr",
    "outputId": "a4d78101-ffa3-4061-f359-c9c9e50c6841",
    "slideshow": {
     "slide_type": "-"
    }
   },
   "outputs": [],
   "source": [
    "ingredienti = { 'farina' : 500,\n",
    "                'uova' : 2,\n",
    "                'zucchero' : 200,\n",
    "}"
   ]
  },
  {
   "cell_type": "code",
   "execution_count": 82,
   "id": "fe1e92a8",
   "metadata": {
    "slideshow": {
     "slide_type": "fragment"
    }
   },
   "outputs": [],
   "source": [
    "satelliti = {    \n",
    "    'Marte'    : ['Phobos','Deimos'],\n",
    "    'Saturno'  : ['Titano','Hyperion', 'Mimas', 'Enceladus', 'Dione','Rhea'],    \n",
    "}"
   ]
  },
  {
   "attachments": {},
   "cell_type": "markdown",
   "id": "b38eda40",
   "metadata": {
    "colab_type": "text",
    "id": "9IpoJd3WAFXP",
    "slideshow": {
     "slide_type": "subslide"
    }
   },
   "source": [
    "### Dizionari - chiavi\n",
    " \n",
    "- possono essere **solo tipi** ***immutabili***, come per es. numeri, stringhe, tuple:\n",
    "- non possono esserci chiavi duplicate"
   ]
  },
  {
   "cell_type": "code",
   "execution_count": 83,
   "id": "73651b87",
   "metadata": {
    "colab": {
     "autoexec": {
      "startup": false,
      "wait_interval": 0
     }
    },
    "colab_type": "code",
    "id": "2GGqOz7XAFXS",
    "slideshow": {
     "slide_type": "-"
    }
   },
   "outputs": [],
   "source": [
    "d = {}\n",
    "\n",
    "d[123] = 'ammissibile'\n",
    "d['una stringa'] = 'ok'\n",
    "d[ ('oppure','una','tupla') ] =  'va bene'"
   ]
  },
  {
   "cell_type": "code",
   "execution_count": 84,
   "id": "7e55c3d9",
   "metadata": {
    "colab": {
     "autoexec": {
      "startup": false,
      "wait_interval": 0
     },
     "output_extras": [
      {}
     ]
    },
    "colab_type": "code",
    "id": "xT8hKlKWAFXW",
    "outputId": "8f04e1e5-9e98-4765-b639-4720aa4cd863",
    "slideshow": {
     "slide_type": "-"
    }
   },
   "outputs": [
    {
     "data": {
      "text/plain": [
       "{123: 'ammissibile',\n",
       " 'una stringa': 'ok',\n",
       " ('oppure', 'una', 'tupla'): 'va bene'}"
      ]
     },
     "execution_count": 84,
     "metadata": {},
     "output_type": "execute_result"
    }
   ],
   "source": [
    "d"
   ]
  },
  {
   "attachments": {},
   "cell_type": "markdown",
   "id": "9b0412f2",
   "metadata": {
    "slideshow": {
     "slide_type": "fragment"
    }
   },
   "source": [
    "Cosa succede se tentiamo di usare tipi mutabili?"
   ]
  },
  {
   "attachments": {},
   "cell_type": "markdown",
   "id": "dd3b6e0f",
   "metadata": {
    "colab": {
     "autoexec": {
      "startup": false,
      "wait_interval": 0
     }
    },
    "colab_type": "code",
    "id": "yjUVpZA9AFXp",
    "slideshow": {
     "slide_type": "-"
    }
   },
   "source": [
    "```python\n",
    "d[ ['io', 'sono', 'una', 'lista'] ] = \"OCCHIO!\"\n",
    "\n",
    "TypeError                                 Traceback (most recent call last)\n",
    "/tmp/ipykernel_3047/3187326270.py in <module>\n",
    "----> 1 d[ ['io', 'sono', 'una', 'lista'] ] = \"OCCHIO!\"\n",
    "\n",
    "TypeError: unhashable type: 'list'\n",
    "```"
   ]
  },
  {
   "attachments": {},
   "cell_type": "markdown",
   "id": "35659c79",
   "metadata": {
    "slideshow": {
     "slide_type": "subslide"
    }
   },
   "source": [
    "## Dizionari - operatore in\n",
    "\n",
    "Per sapere se una _chiave_ è contenuta in un dizionario, possiamo usare l'operatore `in`. \n",
    "\n",
    "**ATTENZIONE**: `in` nei dizionari cerca **solo** nelle chiavi!"
   ]
  },
  {
   "cell_type": "code",
   "execution_count": 85,
   "id": "a9a1efa8",
   "metadata": {
    "slideshow": {
     "slide_type": "-"
    }
   },
   "outputs": [
    {
     "data": {
      "text/plain": [
       "True"
      ]
     },
     "execution_count": 85,
     "metadata": {},
     "output_type": "execute_result"
    }
   ],
   "source": [
    "ingredienti = { 'farina'   : 500,\n",
    "                'uova'     : 2,\n",
    "                'zucchero' : 200,\n",
    "}\n",
    "\n",
    "'farina' in ingredienti"
   ]
  },
  {
   "cell_type": "code",
   "execution_count": 86,
   "id": "ae61883f",
   "metadata": {
    "slideshow": {
     "slide_type": "-"
    }
   },
   "outputs": [
    {
     "data": {
      "text/plain": [
       "False"
      ]
     },
     "execution_count": 86,
     "metadata": {},
     "output_type": "execute_result"
    }
   ],
   "source": [
    "500 in ingredienti"
   ]
  },
  {
   "attachments": {},
   "cell_type": "markdown",
   "id": "b123f774",
   "metadata": {
    "slideshow": {
     "slide_type": "subslide"
    }
   },
   "source": [
    "### Dizionari  - Metodi\n",
    "\n",
    "|Metodo|Ritorna|Descrizione|\n",
    "|---|---|---|\n",
    "|[dict.keys()](https://it.softpython.org/dictionaries/dictionaries3-sol.html#keys)|`dict_keys`|Ritorna una _vista_ di chiavi che sono presenti nel dizionario|\n",
    "|[dict.values()](https://it.softpython.org/dictionaries/dictionaries3-sol.html#values)|`dict_values`|Ritorna una _vista_ di valori presenti nel dizionario|\n",
    "|[dict.items()](https://it.softpython.org/dictionaries/dictionaries3-sol.html#items)|`dict_items`|Ritorna una _vista_ di coppie (chiave, valore) presenti nel dizionario|\n",
    "|[d1.update(d2)](https://it.softpython.org/dictionaries/dictionaries3-sol.html#update)|`None`|MODIFICA il dizionario `diz1` con le coppie chiave / valore trovate in `diz2`|"
   ]
  },
  {
   "attachments": {},
   "cell_type": "markdown",
   "id": "f90b2e4f",
   "metadata": {
    "slideshow": {
     "slide_type": "fragment"
    }
   },
   "source": [
    "**ATTENZIONE**: i metodi `keys`, `values` e `items`  restituiscono _viste immutabili_ e sono spesso causa di  fraintendimenti e/o codice inefficiente. Se ti senti nella necessità di usarli, chiediti sempre se è possibile risolvere il problema usando solo gli operatori.\n",
    "\n",
    "\n",
    "Riferimenti: [SoftPython - dizionari 3](https://it.softpython.org/dictionaries/dictionaries3-sol.html)"
   ]
  },
  {
   "attachments": {},
   "cell_type": "markdown",
   "id": "094b35bc",
   "metadata": {
    "slideshow": {
     "slide_type": "slide"
    }
   },
   "source": [
    "## Copy vs deep copy\n",
    "\n",
    "Se vogliamo copiare una struttura dati mutabili, abbiamo a disposizione il metodo `.copy()`"
   ]
  },
  {
   "attachments": {},
   "cell_type": "markdown",
   "id": "f33a8269",
   "metadata": {},
   "source": [
    "- `.copy` effettua sulo una cosiddetta copia in superficie (_shallow copy_)\n",
    "\n",
    "- per la copia in profondità (_deep copy_) servono altri sistemi!"
   ]
  },
  {
   "attachments": {},
   "cell_type": "markdown",
   "id": "d63ba476",
   "metadata": {
    "slideshow": {
     "slide_type": "subslide"
    }
   },
   "source": [
    "### Esempio - lista di liste"
   ]
  },
  {
   "cell_type": "code",
   "execution_count": 87,
   "id": "006fbfda",
   "metadata": {
    "slideshow": {
     "slide_type": "-"
    }
   },
   "outputs": [
    {
     "name": "stdout",
     "output_type": "stream",
     "text": [
      "[['Fate', 'attenzione'], ['a', 'dove'], ['puntano', 'le', 'frecce']]\n"
     ]
    }
   ],
   "source": [
    "listonaA = [ ['Fate', 'attenzione'], \n",
    "             ['a', 'dove'],\n",
    "             ['puntano', 'le', 'frecce']\n",
    "]\n",
    "print(listonaA)"
   ]
  },
  {
   "attachments": {},
   "cell_type": "markdown",
   "id": "4ab76611",
   "metadata": {
    "slideshow": {
     "slide_type": "fragment"
    }
   },
   "source": [
    "Proviamo a visualizzare il codice in [Python Tutor](https://pythontutor.com/visualize.html#mode=edit):"
   ]
  },
  {
   "attachments": {
    "immagine-3.png": {
     "image/png": "[encoded data removed]"
    }
   },
   "cell_type": "markdown",
   "id": "a5ac252c",
   "metadata": {
    "slideshow": {
     "slide_type": "-"
    }
   },
   "source": [
    "<style>\n",
    "#pytut-marker1 + p img {\n",
    "  width:70%;\n",
    "}\n",
    "</style>\n",
    "\n",
    "<div id=\"pytut-marker1\"></div>\n",
    "\n",
    "![immagine-3.png](attachment:immagine-3.png)"
   ]
  },
  {
   "attachments": {},
   "cell_type": "markdown",
   "id": "21d31c57",
   "metadata": {
    "slideshow": {
     "slide_type": "subslide"
    }
   },
   "source": [
    "Proviamo adesso a fare una copia con il metodo `.copy()`:"
   ]
  },
  {
   "cell_type": "code",
   "execution_count": 88,
   "id": "44a805f2",
   "metadata": {
    "slideshow": {
     "slide_type": "-"
    }
   },
   "outputs": [
    {
     "name": "stdout",
     "output_type": "stream",
     "text": [
      "[['Fate', 'attenzione'], ['a', 'dove'], ['puntano', 'le', 'frecce']]\n",
      "[['Fate', 'attenzione'], ['a', 'dove'], ['puntano', 'le', 'frecce']]\n"
     ]
    }
   ],
   "source": [
    "listonaA = [ ['Fate', 'attenzione'], \n",
    "             ['a', 'dove'],\n",
    "             ['puntano', 'le', 'frecce']\n",
    "]\n",
    "listonaB = listonaA.copy()  # copia *in superficie*\n",
    "print(listonaA)\n",
    "print(listonaB)"
   ]
  },
  {
   "attachments": {
    "immagine-2.png": {
     "image/png": "[encoded data removed]"
    }
   },
   "cell_type": "markdown",
   "id": "4f6f14e4",
   "metadata": {
    "slideshow": {
     "slide_type": "fragment"
    }
   },
   "source": [
    "<style>\n",
    "#pytut-marker2 + p img {\n",
    "  width:70%;\n",
    "  margin-top:-10%;\n",
    "}\n",
    "</style>\n",
    "<div id=\"pytut-marker2\"></div>\n",
    "\n",
    "![immagine-2.png](attachment:immagine-2.png)"
   ]
  },
  {
   "attachments": {},
   "cell_type": "markdown",
   "id": "dbc96b01",
   "metadata": {
    "slideshow": {
     "slide_type": "subslide"
    }
   },
   "source": [
    "Notiamo che abbiamo due listone le cui celle puntano a delle sottoliste _condivise_, quindi scrivendo in una sotto cella di listonaA di fatto finiamo anche per scrivere in listonaB!"
   ]
  },
  {
   "cell_type": "code",
   "execution_count": 89,
   "id": "94958edb",
   "metadata": {
    "slideshow": {
     "slide_type": "-"
    }
   },
   "outputs": [
    {
     "name": "stdout",
     "output_type": "stream",
     "text": [
      "[['Fate', 'attenzione'], ['a', 'dove'], ['OCCHIO!', 'le', 'frecce']]\n",
      "[['Fate', 'attenzione'], ['a', 'dove'], ['OCCHIO!', 'le', 'frecce']]\n"
     ]
    }
   ],
   "source": [
    "listonaA = [ ['Fate', 'attenzione'], \n",
    "             ['a', 'dove'],\n",
    "             ['puntano', 'le', 'frecce']\n",
    "]\n",
    "\n",
    "listonaB = listonaA.copy()  # copia *in superficie*\n",
    "\n",
    "listonaA[2][0]  = 'OCCHIO!' # cella con 'frecce'\n",
    "\n",
    "print(listonaA)\n",
    "print(listonaB)"
   ]
  },
  {
   "attachments": {
    "immagine.png": {
     "image/png": "[encoded data removed]"
    }
   },
   "cell_type": "markdown",
   "id": "96866294",
   "metadata": {
    "slideshow": {
     "slide_type": "subslide"
    }
   },
   "source": [
    "<style>\n",
    "#pytut-marker2 + p img {\n",
    "  width:70%;\n",
    "}\n",
    "</style>\n",
    "<div id=\"pytut-marker3\"></div>\n",
    "\n",
    "![immagine.png](attachment:immagine.png)"
   ]
  },
  {
   "attachments": {},
   "cell_type": "markdown",
   "id": "fc2e28d5",
   "metadata": {
    "slideshow": {
     "slide_type": "subslide"
    }
   },
   "source": [
    "Per rimediare possiamo usare la cosidetta copia in profondità (_deep copy_) prima importando il modulo `copy` e poi chiamando la sua funzione `deepcopy` e passandogli come parametro `listonaA`:"
   ]
  },
  {
   "cell_type": "code",
   "execution_count": 90,
   "id": "f79a8dff",
   "metadata": {
    "slideshow": {
     "slide_type": "-"
    }
   },
   "outputs": [
    {
     "name": "stdout",
     "output_type": "stream",
     "text": [
      "[['Fate', 'attenzione'], ['a', 'dove'], ['OCCHIO!', 'le', 'frecce']]\n",
      "[['Fate', 'attenzione'], ['a', 'dove'], ['puntano', 'le', 'frecce']]\n"
     ]
    }
   ],
   "source": [
    "import copy   # MODULO PYTHON\n",
    "\n",
    "listonaA = [ ['Fate', 'attenzione'], \n",
    "             ['a', 'dove'],\n",
    "             ['puntano', 'le', 'frecce']\n",
    "]\n",
    "\n",
    "listonaB = copy.deepcopy(listonaA)\n",
    "\n",
    "listonaA[2][0]  = 'OCCHIO!' # cella con 'frecce'\n",
    "\n",
    "print(listonaA)\n",
    "print(listonaB)"
   ]
  },
  {
   "attachments": {},
   "cell_type": "markdown",
   "id": "814e51b1",
   "metadata": {
    "slideshow": {
     "slide_type": "subslide"
    }
   },
   "source": [
    "Con `copy.deepcopy` abbiamo veramente strutture dati completamente distinte: "
   ]
  },
  {
   "attachments": {
    "immagine-2.png": {
     "image/png": "[encoded data removed]"
    }
   },
   "cell_type": "markdown",
   "id": "12a82a78",
   "metadata": {
    "slideshow": {
     "slide_type": "-"
    }
   },
   "source": [
    "<style>\n",
    "#pytut-marker4 + p img {\n",
    "  width:70%;\n",
    "}\n",
    "</style>\n",
    "<div id=\"pytut-marker4\"></div>\n",
    "\n",
    "![immagine-2.png](attachment:immagine-2.png)"
   ]
  },
  {
   "attachments": {},
   "cell_type": "markdown",
   "id": "a2220ed8",
   "metadata": {
    "slideshow": {
     "slide_type": "skip"
    }
   },
   "source": [
    "## Esercizi rapidi"
   ]
  },
  {
   "attachments": {},
   "cell_type": "markdown",
   "id": "130123ba",
   "metadata": {
    "slideshow": {
     "slide_type": "skip"
    }
   },
   "source": [
    "### Esercizi stringhe"
   ]
  },
  {
   "attachments": {},
   "cell_type": "markdown",
   "id": "3e385fae",
   "metadata": {
    "colab_type": "text",
    "id": "YSb82zlxAFYW",
    "slideshow": {
     "slide_type": "skip"
    }
   },
   "source": [
    "**✪ ESERCIZIO**: Scrivi nella cella qua sotto `\"trento\".` e premi TAB: Jupyter dovrebbe suggerirti dei metodi disponibili per la stringa. Prova il metodo `upper()` e `count(\"t\")` "
   ]
  },
  {
   "cell_type": "code",
   "execution_count": 91,
   "id": "5ca7dd9f",
   "metadata": {
    "colab": {
     "autoexec": {
      "startup": false,
      "wait_interval": 0
     }
    },
    "colab_type": "code",
    "id": "r5_aFtbdAFYY",
    "slideshow": {
     "slide_type": "skip"
    }
   },
   "outputs": [],
   "source": [
    "# scrivi qui\n",
    "\n"
   ]
  },
  {
   "attachments": {},
   "cell_type": "markdown",
   "id": "1f31509c",
   "metadata": {
    "colab_type": "text",
    "id": "3ah1CeDPAFUV",
    "slideshow": {
     "slide_type": "skip"
    }
   },
   "source": [
    "**✪ ESERCIZIO**: il `%s` funziona con le stringhe ma anche con quasiasi altro tipo di dato, per esempio un intero. Scrivi qua sotto il comando sopra, aggiunendo un `%s` alla fine della stringa, e aggiungendo alla fine della tupla il numero `3` (separandolo dagli altri con una virgola).\n",
    "\n",
    "Domanda: i `%s` possono stare uno dopo l'altro senza spazi tra di loro? Prova."
   ]
  },
  {
   "cell_type": "code",
   "execution_count": 92,
   "id": "749c39a4",
   "metadata": {
    "colab": {
     "autoexec": {
      "startup": false,
      "wait_interval": 0
     }
    },
    "colab_type": "code",
    "id": "K1pTbCATAFUW",
    "slideshow": {
     "slide_type": "skip"
    }
   },
   "outputs": [],
   "source": [
    "# scrivi qui\n",
    "\n"
   ]
  },
  {
   "attachments": {},
   "cell_type": "markdown",
   "id": "03a1fe48",
   "metadata": {
    "slideshow": {
     "slide_type": "skip"
    }
   },
   "source": [
    "### Esercizi liste"
   ]
  },
  {
   "attachments": {},
   "cell_type": "markdown",
   "id": "10f0b98f",
   "metadata": {
    "colab_type": "text",
    "id": "1oK8VQhqAFVl",
    "slideshow": {
     "slide_type": "skip"
    }
   },
   "source": [
    "**✪ ESERCIZIO**: prova ad accedere ad un elemento fuori dalla lista, e vedi che succede. \n",
    "\n",
    "- `x[3]` è dentro o fuori dalla lista? \n",
    "- C'è una qualche lista `x` per cui possiamo scrivere `x[len(x)]` senza problemi ?\n",
    "- se usi indici negativi, che succede? Prova -1, -2, -3, -4 ..."
   ]
  },
  {
   "cell_type": "code",
   "execution_count": 93,
   "id": "9dd208b2",
   "metadata": {
    "colab": {
     "autoexec": {
      "startup": false,
      "wait_interval": 0
     }
    },
    "colab_type": "code",
    "id": "SP2tU81tAFVm",
    "slideshow": {
     "slide_type": "skip"
    }
   },
   "outputs": [],
   "source": [
    "# scrivi qui\n",
    "\n"
   ]
  },
  {
   "attachments": {},
   "cell_type": "markdown",
   "id": "0ae7a1af",
   "metadata": {
    "colab_type": "text",
    "id": "nwsN6H3bkGrN",
    "slideshow": {
     "slide_type": "skip"
    }
   },
   "source": [
    "**✪ ESERCIZIO**: Che succede se ordini stringhe contenenti gli stessi caratteri ma maiscoli invece di minuscoli? Come vengono ordinati? Fai delle prove. \n"
   ]
  },
  {
   "cell_type": "code",
   "execution_count": 94,
   "id": "5ef73d69",
   "metadata": {
    "slideshow": {
     "slide_type": "skip"
    }
   },
   "outputs": [],
   "source": [
    "# scrivi qui\n"
   ]
  },
  {
   "attachments": {},
   "cell_type": "markdown",
   "id": "1cf14f41",
   "metadata": {
    "slideshow": {
     "slide_type": "skip"
    }
   },
   "source": [
    "**✪ ESERCIZIO**:  Che succede se nella stessa lista metti sia stringhe che numeri e provi ad ordinarla? Fai delle prove.\n"
   ]
  },
  {
   "cell_type": "code",
   "execution_count": 95,
   "id": "add36391",
   "metadata": {
    "slideshow": {
     "slide_type": "skip"
    }
   },
   "outputs": [],
   "source": [
    "# scrivi qui\n"
   ]
  },
  {
   "attachments": {},
   "cell_type": "markdown",
   "id": "93fae20d",
   "metadata": {
    "colab_type": "text",
    "id": "J4NE2J80qNj9",
    "slideshow": {
     "slide_type": "skip"
    }
   },
   "source": [
    "**✪ ESERCIZIO**: Per cercare informazioni su `sorted`, avremmo potuto chiedere a Python dell'aiuto. Per fare ciò Python mette a disposizione una comoda funzione chiamata `help`, che potresti usare così `help(sorted)`. Prova ad eseguirla nella cella qua sotto. A volte l'help è piuttosto complesso, e sta a noi sforzarci un po' per individuare i parametri di interesse\n"
   ]
  },
  {
   "cell_type": "code",
   "execution_count": 96,
   "id": "5cd117c4",
   "metadata": {
    "slideshow": {
     "slide_type": "skip"
    }
   },
   "outputs": [],
   "source": [
    "# scrivi qui\n",
    "\n",
    "\n"
   ]
  },
  {
   "attachments": {},
   "cell_type": "markdown",
   "id": "ac3dadb9",
   "metadata": {
    "slideshow": {
     "slide_type": "skip"
    }
   },
   "source": [
    "**✪ ESERCIZIO**: Prova ad eseguire `reversed([6,2,4])` nella cella qua sotto, e guarda che output ottieni. E' quello che ti aspetti ? In genere, e specialmente in Python 3, quando ci aspettiamo una lista e per caso vediamo invece un oggetto col nome `iterator`, possiamo risolvere passando il risultato come parametro della funzione `list()`"
   ]
  },
  {
   "cell_type": "code",
   "execution_count": 97,
   "id": "14530c2b",
   "metadata": {
    "colab": {
     "autoexec": {
      "startup": false,
      "wait_interval": 0
     }
    },
    "colab_type": "code",
    "id": "ajY8faRvsBIu",
    "slideshow": {
     "slide_type": "skip"
    }
   },
   "outputs": [],
   "source": [
    "# scrivi qui il codice \n",
    "\n"
   ]
  },
  {
   "attachments": {},
   "cell_type": "markdown",
   "id": "cd3a5652",
   "metadata": {
    "slideshow": {
     "slide_type": "skip"
    }
   },
   "source": [
    "### Esercizi dizionari"
   ]
  },
  {
   "attachments": {},
   "cell_type": "markdown",
   "id": "3a7a9d51",
   "metadata": {
    "colab_type": "text",
    "id": "ULq3n4TiAFXB",
    "slideshow": {
     "slide_type": "skip"
    }
   },
   "source": [
    "**✪ ESERCIZIO**: prova ad inserire nel dizionario delle coppie chiave valore con chiavi stringa e come valori delle liste e altri dizionari, "
   ]
  },
  {
   "cell_type": "code",
   "execution_count": 98,
   "id": "55402a26",
   "metadata": {
    "colab": {
     "autoexec": {
      "startup": false,
      "wait_interval": 0
     }
    },
    "colab_type": "code",
    "id": "aqL7HMKjAFXC",
    "slideshow": {
     "slide_type": "skip"
    }
   },
   "outputs": [],
   "source": [
    "# scrivi qui:\n",
    "\n",
    "\n"
   ]
  },
  {
   "attachments": {},
   "cell_type": "markdown",
   "id": "b582c1eb",
   "metadata": {
    "slideshow": {
     "slide_type": "skip"
    }
   },
   "source": [
    "**✪ ESERCIZIO**: \n",
    "\n",
    "- Prova ad inserire in un dizionario una lista tipo `['a','b']`come chiave, e come valore metti quello che vuoi. Python non dovrebbe permetterti di farlo, e ti dovrebbe mostrare la scritta `TypeError: unhashable type: 'list'`\n",
    "- prova anche ad inserire un dizionario come chiave (per es. anche il dizionario vuoto `{}`). Che risultato ti aspetti di ottenere?"
   ]
  },
  {
   "cell_type": "code",
   "execution_count": null,
   "id": "22bbf878",
   "metadata": {
    "slideshow": {
     "slide_type": "skip"
    }
   },
   "outputs": [],
   "source": []
  },
  {
   "attachments": {},
   "cell_type": "markdown",
   "id": "extreme-tourist",
   "metadata": {
    "slideshow": {
     "slide_type": "slide"
    }
   },
   "source": [
    "## CHALLENGE - Censura al tiramisù\n",
    " \n",
    "✪ Ci è stato inviato un testo illegale, immorale e che fa pure ingrassare. \n",
    "Per tutelare la pubblica salute abbiamo l'arduo compito di censurarlo e \n",
    "renderlo consono al buon costume.\n",
    " \n",
    "1) E' necessario sostituire OGNI occorrenza di due `parole_malefiche` con una  più salubre censura, trasformando il testo in modo che la `print`  di `testo_censurato` non contenga nessuna parola incriminata.\n",
    "\n",
    "Esempio:\n",
    "\n",
    "```python\n",
    "testo= \"Grazie all'uso di Cera Splendent tutto brilla!\"\n",
    "parola_malefica = \"splendent\"\n",
    "censura = \"******\"\n",
    "testo_censurato: \"Grazie all'uso di Cera ****** tutto brilla!\"\n",
    "```\n",
    "\n",
    "2) Per scrivere il nostro rapporto di censori dobbiamo rendere conto di quante parole abbiamo censurato. Stampare alla fine il numero (ovviamente in maniera automatica ), per esempio:\n",
    "\n",
    "```bash\n",
    "\"Censurata 1 parola\"\n",
    "```\n",
    "\n",
    "**Continua alla prossima slide**"
   ]
  },
  {
   "cell_type": "code",
   "execution_count": 99,
   "id": "western-terrace",
   "metadata": {
    "scrolled": true,
    "slideshow": {
     "slide_type": "subslide"
    }
   },
   "outputs": [],
   "source": [
    "testo = \"\"\"Ed è proprio da questa portentosa crema che nasce la crema \n",
    "al mascarpone base del tiramisù, prima classificata al premio Crema \n",
    "dell'Anno insieme alla nutella. Il dolce italiano per eccellenza, \n",
    "quello più famoso e amato, ma soprattutto che ha dato vita a \n",
    "tantissime altre versioni, anche tiramisù senza uova! Poi il Tiramisù\n",
    "alle fragole o quello alla Nutella, giusto per citarne un paio!\n",
    "Senza contare le rivisitazioni più raffinate come la crostata morbida\n",
    "o la torta al tiramisù.\n",
    "\"\"\"\n",
    "\n",
    "parola_malefica1 = \"Tiramisù\"\n",
    "parola_malefica2 = \"nutella\"\n",
    "\n",
    "censura = \"******\"\n",
    "\n",
    "testo_censurato = ''\n",
    "\n",
    "# scrivi qui\n",
    "\n"
   ]
  },
  {
   "attachments": {},
   "cell_type": "markdown",
   "id": "likely-utility",
   "metadata": {
    "slideshow": {
     "slide_type": "subslide"
    }
   },
   "source": [
    "## CHALLENGE - Cantina\n",
    "\n",
    "✪✪ Requisiti: [liste](https://it.softpython.org/lists/lists1-sol.html)\n",
    "\n",
    "Data una stringa `parola`, creare una NUOVA lista che contenga la parola seguita da sè stessa rovesciata \n",
    "\n",
    "- **NOTA**: l'ultima lettera NON deve essere duplicata\n",
    "\n",
    "Esempio - dato: \n",
    "\n",
    "```python\n",
    "parola = \"cantina\"   \n",
    "```\n",
    "\n",
    "deve stampare:\n",
    "\n",
    "```\n",
    "['c', 'a', 'n', 't', 'i', 'n', 'a', 'n', 'i', 't', 'n', 'a', 'c']\n",
    "```"
   ]
  },
  {
   "cell_type": "code",
   "execution_count": 100,
   "id": "solid-cooler-stripped",
   "metadata": {},
   "outputs": [],
   "source": [
    "parola = \"cantina\" #['c','a','n','t','i','n','a','n','i','t','n','a','c']\n",
    "#parola = \"vino\"   # ['v', 'i', 'n', 'o', 'n', 'i', 'v']\n",
    "#parola = \"ok\"     # ['o', 'k', 'o']\n",
    "\n",
    "# scrivi qui\n"
   ]
  },
  {
   "attachments": {},
   "cell_type": "markdown",
   "id": "9725fb13",
   "metadata": {
    "slideshow": {
     "slide_type": "subslide"
    }
   },
   "source": [
    "## CHALLENGE - cannocchiale\n",
    "\n",
    "✪ Requisiti: [tuple](https://it.softpython.org/tuples/tuples1-sol.html), [stringhe](https://it.softpython.org/strings/strings1-sol.html), [liste](https://it.softpython.org/lists/lists1-sol.html)\n",
    "\n",
    "\n",
    "Data una stringa `s`, scrivi del codice che mette in una variabile tupla `ordinata` tutti i caratteri di `s` ordinati\n",
    "\n",
    "Esempio - data:\n",
    "\n",
    "```python\n",
    "s = \"cannocchiale\"\n",
    "```\n",
    "\n",
    "Dopo il tuo codice deve risultare:\n",
    " \n",
    "```python\n",
    ">>> print(ordinata)\n",
    "('a', 'a', 'c', 'c', 'c', 'e', 'h', 'i', 'l', 'n', 'n', 'o')\n",
    "```"
   ]
  },
  {
   "cell_type": "code",
   "execution_count": 101,
   "id": "d9ee2771",
   "metadata": {},
   "outputs": [],
   "source": [
    "s = \"cannocchiale\"\n",
    "\n",
    "# scrivi qui\n",
    "\n"
   ]
  },
  {
   "attachments": {},
   "cell_type": "markdown",
   "id": "comprehensive-ukraine",
   "metadata": {
    "slideshow": {
     "slide_type": "subslide"
    }
   },
   "source": [
    "## CHALLENGE - Nozze di platino\n",
    "\n",
    "✪ Requisiti: [dizionari](https://it.softpython.org/dictionaries/dictionaries1-sol.html)\n",
    "\n",
    "Al tranquillissimo paesino di Gerontonia vi sono delle coppie assai tenaci che dopo 75 anni dal fatico \"Sì!\" meritano di festeggiare le nozze di platino. Abbiamo una lista dei matrimoni con esattamente 3 coppie scritte nel formato \"maschio-femmina\", e vogliamo creare un dizionario `diz` che associa ad ogni maschio la corrispondente compagna.\n",
    "\n",
    "Assumi che i nomi dei maschi siano tutti diversi e che vi siano **esattamente** 3 coppie\n",
    "\n",
    "Esempio - data:\n",
    "\n",
    "```python\n",
    "matrimoni = [\"Amilcare-Maria Eusonia\", \"Oronzo Pio-Genoveffa\", \"Venceslao-Elvira\"]\n",
    "```\n",
    "\n",
    "dopo il tuo codice, deve risultare:\n",
    "\n",
    "```python\n",
    ">>> print(diz)\n",
    "{'Amilcare'   : 'Maria Eusonia',\n",
    " 'Oronzo Pio' : 'Genoveffa',\n",
    " 'Venceslao'  : 'Elvira'}\n",
    "```"
   ]
  },
  {
   "cell_type": "code",
   "execution_count": 102,
   "id": "necessary-blanket-stripped",
   "metadata": {},
   "outputs": [],
   "source": [
    "\n",
    "matrimoni = [\"Amilcare-Maria Eusonia\", \"Oronzo Pio-Genoveffa\", \"Venceslao-Elvira\"]\n",
    "#matrimoni = [\"Liutprando-Brunilde\", \"Clodoveo-Elvira Pancrazia Ludmilla\", \"Gian Evaristo-Ubalda\"]\n",
    "\n",
    "# scrivi qui"
   ]
  },
  {
   "attachments": {},
   "cell_type": "markdown",
   "id": "b3e64787",
   "metadata": {
    "slideshow": {
     "slide_type": "subslide"
    }
   },
   "source": [
    "## CHALLENGE - I pescatori\n",
    "\n",
    "✪ Requisiti: [dizionari](https://it.softpython.org/dictionaries/dictionaries1-sol.html)\n",
    "\n",
    "\n",
    "Una compagnia di pescatori ogni giorno cattura dei `pesci` che poi rivende a vari ristoranti. Ogni ristorante richiede diversi specie di pesci. Dati un `ristorante` e dei `pesci`, scrivi del codice che stampa `True` se il ristorante cucina quei pesci, altrimenti stampa `False`.\n",
    "\n",
    "- **NON** usare `if`\n",
    "- **NON** usare cicli \n",
    "\n",
    "- **SUGGERIMENTO**: se non sai come fare, guarda [Booleani - Ordine di valutazione](https://it.softpython.org/basics/basics2-bools-sol.html#Ordine-di-valutazione)\n",
    "\n",
    "**Continua alla prossima slide...**"
   ]
  },
  {
   "cell_type": "code",
   "execution_count": 103,
   "id": "07441318",
   "metadata": {
    "slideshow": {
     "slide_type": "subslide"
    }
   },
   "outputs": [],
   "source": [
    "\n",
    "ristorante, pesci = \"Il Galeone\", \"carpe\"            # True\n",
    "#ristorante, pesci = \"Il Galeone\", \"aringhe\"         # False\n",
    "#ristorante, pesci = \"Al Molo\",    \"trote\"           # True\n",
    "#ristorante, pesci = \"Al Molo\",    \"orate\"           # False\n",
    "#ristorante, pesci = \"La Cambusa\", \"merluzzi\"        # False\n",
    "\n",
    "\n",
    "registro = {\n",
    "    \"L'Ancora\"  : ['aringhe', 'carpe'],\n",
    "    \"Il Galeone\": ['merluzzi', 'carpe', 'trote'],    \n",
    "    \"Al Molo\"   : ['trote'],\n",
    "    \"La Cambusa\": ['aringhe', 'carpe'],\n",
    "}\n",
    "\n",
    "# scrivi qui\n",
    "\n"
   ]
  },
  {
   "attachments": {},
   "cell_type": "markdown",
   "id": "0ddee9d3",
   "metadata": {
    "slideshow": {
     "slide_type": "subslide"
    }
   },
   "source": [
    "## CHALLENGE - Festone di laurea\n",
    "\n",
    "✪ Requisiti: [insiemi](https://it.softpython.org/sets/sets1-sol.html)\n",
    " \n",
    "Evviva! Ci siamo laureati! E per coincidenza ci siamo riusciti nella stessa sessione dei nostri \n",
    "grandi amici Gianni e Giulia. Ora naturalmente stiamo cercando di organizzare una festa e ci piacerebbe \n",
    "farla tutti insieme. \n",
    "\n",
    "Purtroppo però a causa delle norme Covid non possiamo fare assembramento e \n",
    "sono perciò vietate i raduni con più di **13** persone.\n",
    "\n",
    "Siccome ora siamo dottori, l'idea è quella di risolvere il problema con un bel programmino Python. Abbiamo tre liste di invitati e siccome noi festeggiati siamo tutti amici ci sono ovviamente persone che verrebbero invitate più volte.\n",
    "\n",
    "1. Trova il numero di invitati effettivi (le persone che verranno alla festa)\n",
    "2. Stampa la lista di nomi SENZA duplicati\n",
    "3. Trova il numero delle persone che hanno ricevuto **almeno** 2 inviti\n",
    "4. Trova l'elenco delle persone che hanno ricevuto **almeno** 2 inviti\n",
    "\n",
    "**Continua alla prossima slide..**\n"
   ]
  },
  {
   "attachments": {},
   "cell_type": "markdown",
   "id": "692b52cc",
   "metadata": {
    "slideshow": {
     "slide_type": "subslide"
    }
   },
   "source": [
    "Esempio - dati:\n",
    "\n",
    "```python\n",
    "invitati_miei =   [\"VittorioG\", \"LucaB\", \"DavidL\", \"GiorgioC\", \"MichelaF\", \"GiuliaA\", \"VittorioG\", ]\n",
    "invitati_gianni = [\"SamanthaV\", \"LucaB\", \"GiorgioC\", \"MichelaF\", \"MartaB\", \"EmmaK\"]\n",
    "invitati_giulia = [\"DavidL\", \"GiorgioC\", \"MichelaF\", \"MassimilianoL\", \"VittorioG\", \"RobertoU\", \"EmmaK\"]\n",
    "```\n",
    "\n",
    "\n",
    "dopo il tuo codice, deve stampare:\n",
    "\n",
    "```bash\n",
    "Invitati miei:  6\n",
    "Invitati gianni:  6\n",
    "Invitati giulia:  7\n",
    "Numero invitati:  11\n",
    "Nomi invitati:  {'MassimilianoL', 'MartaB', 'MichelaF', 'EmmaK', 'GiorgioC', 'DavidL', 'VittorioG', 'SamanthaV', 'RobertoU', 'LucaB', 'GiuliaA'}\n",
    "Numero amici invitati almeno 2 volte: 6\n",
    "Amici invitati almeno due volte:  {'GiorgioC', 'DavidL', 'MichelaF', 'VittorioG', 'LucaB', 'EmmaK'}\n",
    "```\n",
    "\n",
    "**Continua alla prossima slide..**"
   ]
  },
  {
   "cell_type": "code",
   "execution_count": 104,
   "id": "d48f4e51",
   "metadata": {
    "slideshow": {
     "slide_type": "subslide"
    }
   },
   "outputs": [],
   "source": [
    "# Input (NON modificare)\n",
    "\n",
    "invitati_miei =   [\"VittorioG\", \"LucaB\", \"DavidL\", \"GiorgioC\", \"MichelaF\", \"GiuliaA\", \"VittorioG\", ]\n",
    "invitati_gianni = [\"SamanthaV\", \"LucaB\", \"GiorgioC\", \"MichelaF\", \"MartaB\", \"EmmaK\"]\n",
    "invitati_giulia = [\"DavidL\", \"GiorgioC\", \"MichelaF\", \"MassimilianoL\", \"VittorioG\", \"RobertoU\", \"EmmaK\"]\n",
    "\n",
    "# scrivi qui\n"
   ]
  }
 ],
 "metadata": {
  "kernelspec": {
   "display_name": "Python 3 (ipykernel)",
   "language": "python",
   "name": "python3"
  },
  "language_info": {
   "codemirror_mode": {
    "name": "ipython",
    "version": 3
   },
   "file_extension": ".py",
   "mimetype": "text/x-python",
   "name": "python",
   "nbconvert_exporter": "python",
   "pygments_lexer": "ipython3",
   "version": "3.10.9"
  },
  "toc": {
   "base_numbering": 1,
   "nav_menu": {},
   "number_sections": false,
   "sideBar": true,
   "skip_h1_title": false,
   "title_cell": "Table of Contents",
   "title_sidebar": "Contents",
   "toc_cell": false,
   "toc_position": {
    "height": "calc(100% - 180px)",
    "left": "10px",
    "top": "150px",
    "width": "311px"
   },
   "toc_section_display": true,
   "toc_window_display": true
  }
 },
 "nbformat": 4,
 "nbformat_minor": 5
}
