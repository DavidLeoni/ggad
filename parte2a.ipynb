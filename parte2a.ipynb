{
 "cells": [
  {
   "attachments": {},
   "cell_type": "markdown",
   "id": "b10a075c",
   "metadata": {},
   "source": [
    "# Principi di statistica e tools digitali\n",
    "\n",
    "## 2a: Funzioni,  matrici a liste\n",
    "\n",
    "### GG Analisi dei dati @ Fidia\n",
    "\n",
    "**Speaker**: David Leoni info@davidleoni.it\n",
    "\n",
    "Repository github per questi tutorial: https://github.com/DavidLeoni/ggad\n",
    "\n",
    "Materiale tratto dal libro [SoftPython](https://it.softpython.org)\n",
    "\n",
    "(Per navigare nelle slide premi Esc)"
   ]
  },
  {
   "attachments": {},
   "cell_type": "markdown",
   "id": "08d46d83",
   "metadata": {
    "slideshow": {
     "slide_type": "subslide"
    }
   },
   "source": [
    "## Scaletta\n",
    "\n",
    "Finiamo 1c...\n",
    "\n",
    "- `if`. `for`, `while`, sequenze\n",
    "\n",
    "2a\n",
    "\n",
    "- funzioni\n",
    "- gestione errori, testing\n",
    "- matrici liste\n",
    "\n",
    "2b \n",
    "\n",
    "- formati dati\n",
    "    - a linee, CSV, JSON, XML\n",
    "\n",
    "2c\n",
    "- matrici Numpy"
   ]
  },
  {
   "attachments": {},
   "cell_type": "markdown",
   "id": "ada7b419",
   "metadata": {
    "slideshow": {
     "slide_type": "subslide"
    }
   },
   "source": [
    "## Funzioni\n",
    "\n",
    "**Riferimenti**: [SoftPyhon - funzioni](https://it.softpython.org/functions/fun1-intro-sol.html)"
   ]
  },
  {
   "cell_type": "code",
   "execution_count": 1,
   "id": "7cd6ffa3",
   "metadata": {
    "colab": {
     "autoexec": {
      "startup": false,
      "wait_interval": 0
     }
    },
    "colab_type": "code",
    "id": "JHBncVarIG0a",
    "slideshow": {
     "slide_type": "-"
    }
   },
   "outputs": [],
   "source": [
    "def mia_stampa(x,y):   \n",
    "    print('Ora stamperemo la somma di due numeri')\n",
    "    print('La somma è %s' % (x + y))    "
   ]
  },
  {
   "attachments": {},
   "cell_type": "markdown",
   "id": "58428ac0",
   "metadata": {
    "colab_type": "text",
    "id": "4qODhc9qIQVZ",
    "slideshow": {
     "slide_type": "fragment"
    }
   },
   "source": [
    "Possiamo chiamare la funzione così:"
   ]
  },
  {
   "cell_type": "code",
   "execution_count": 2,
   "id": "881b3703",
   "metadata": {
    "colab": {
     "autoexec": {
      "startup": false,
      "wait_interval": 0
     },
     "base_uri": "https://localhost:8080/",
     "height": 52,
     "output_extras": [
      {
       "item_id": 1
      }
     ]
    },
    "colab_type": "code",
    "executionInfo": {
     "elapsed": 477,
     "status": "ok",
     "timestamp": 1519045245334,
     "user": {
      "displayName": "David Leoni",
      "photoUrl": "https://lh3.googleusercontent.com/a/default-user=s128",
      "userId": "102920557909426557439"
     },
     "user_tz": -60
    },
    "id": "I0xzUz41IIpG",
    "outputId": "91e139d0-6249-41a4-d6d8-de59ab9c00ba",
    "slideshow": {
     "slide_type": "-"
    }
   },
   "outputs": [
    {
     "name": "stdout",
     "output_type": "stream",
     "text": [
      "Ora stamperemo la somma di due numeri\n",
      "La somma è 8\n"
     ]
    }
   ],
   "source": [
    "mia_stampa(3,5)"
   ]
  },
  {
   "attachments": {},
   "cell_type": "markdown",
   "id": "f10043d0",
   "metadata": {
    "slideshow": {
     "slide_type": "fragment"
    }
   },
   "source": [
    "Per definire una funzione, possiamo usare la parola chiave `def`: \n",
    "\n",
    "Ricordati i due punti `:` alla fine della riga !!"
   ]
  },
  {
   "attachments": {},
   "cell_type": "markdown",
   "id": "6e3d9b5d",
   "metadata": {
    "slideshow": {
     "slide_type": "skip"
    }
   },
   "source": [
    "Vediamo meglio che succede con Python Tutor: "
   ]
  },
  {
   "attachments": {},
   "cell_type": "markdown",
   "id": "b9cd3465",
   "metadata": {
    "slideshow": {
     "slide_type": "subslide"
    }
   },
   "source": [
    "[Vedi in Python Tutor](https://pythontutor.com/render.html#code=def%20mia_stampa%28x,y%29%3A%20%20%20%20%23%20RICORDATI%20I%20DUE%20PUNTI%20'%3A'%20ALLA%20FINE%20DELLA%20RIGA%20!!!!!%0A%20%20%20%20print%28'Ora%20stamperemo%20la%20somma%20di%20due%20numeri'%29%0A%20%20%20%20print%28'La%20somma%20%C3%A8%20%25s'%20%25%20%28x%20%2B%20y%29%29%0A%0Amia_stampa%283,5%29&cumulative=false&curInstr=0&heapPrimitives=nevernest&mode=display&origin=opt-frontend.js&py=3&rawInputLstJSON=%5B%5D&textReferences=false)\n",
    "\n",
    "<iframe width=\"800\" height=\"500\" frameborder=\"0\" src=\"https://pythontutor.com/iframe-embed.html#code=def%20mia_stampa%28x,y%29%3A%20%20%20%20%23%20RICORDATI%20I%20DUE%20PUNTI%20'%3A'%20ALLA%20FINE%20DELLA%20RIGA%20!!!!!%0A%20%20%20%20print%28'Ora%20stamperemo%20la%20somma%20di%20due%20numeri'%29%0A%20%20%20%20print%28'La%20somma%20%C3%A8%20%25s'%20%25%20%28x%20%2B%20y%29%29%0A%0Amia_stampa%283,5%29&codeDivHeight=400&codeDivWidth=350&cumulative=false&curInstr=0&heapPrimitives=nevernest&origin=opt-frontend.js&py=3&rawInputLstJSON=%5B%5D&textReferences=false\"> </iframe>"
   ]
  },
  {
   "attachments": {},
   "cell_type": "markdown",
   "id": "9936b6ea",
   "metadata": {
    "colab_type": "text",
    "id": "TNftj3qzJWgv",
    "slideshow": {
     "slide_type": "subslide"
    }
   },
   "source": [
    "### Side effects\n",
    "\n",
    "Una funzione ha _side effects_ quando modifica l'ambiente\n",
    "\n",
    "Esempi:\n",
    "\n",
    "- illuminare i pixel sullo schermo con `print`"
   ]
  },
  {
   "attachments": {},
   "cell_type": "markdown",
   "id": "862917d8",
   "metadata": {
    "slideshow": {
     "slide_type": "fragment"
    }
   },
   "source": [
    "- scrivere su file"
   ]
  },
  {
   "attachments": {},
   "cell_type": "markdown",
   "id": "c9c61235",
   "metadata": {
    "slideshow": {
     "slide_type": "fragment"
    }
   },
   "source": [
    "- richiedere input manuale all'utente"
   ]
  },
  {
   "attachments": {},
   "cell_type": "markdown",
   "id": "5551fdff",
   "metadata": {
    "slideshow": {
     "slide_type": "subslide"
    }
   },
   "source": [
    "### Funzione che RITORNA un valore"
   ]
  },
  {
   "cell_type": "code",
   "execution_count": null,
   "id": "b058b2e6",
   "metadata": {
    "colab": {
     "autoexec": {
      "startup": false,
      "wait_interval": 0
     }
    },
    "colab_type": "code",
    "id": "FN9Ek84QIZdK",
    "slideshow": {
     "slide_type": "-"
    }
   },
   "outputs": [],
   "source": [
    "def mia_somma(x,y):\n",
    "    s = x + y\n",
    "    return s    "
   ]
  },
  {
   "cell_type": "code",
   "execution_count": null,
   "id": "8af5572f",
   "metadata": {
    "slideshow": {
     "slide_type": "fragment"
    }
   },
   "outputs": [],
   "source": [
    "risultato = mia_somma(3,5)"
   ]
  },
  {
   "cell_type": "code",
   "execution_count": null,
   "id": "20e6c9b3",
   "metadata": {
    "slideshow": {
     "slide_type": "-"
    }
   },
   "outputs": [
    {
     "data": {
      "text/plain": [
       "8"
      ]
     },
     "execution_count": 223,
     "metadata": {},
     "output_type": "execute_result"
    }
   ],
   "source": [
    "risultato"
   ]
  },
  {
   "attachments": {},
   "cell_type": "markdown",
   "id": "77a694de",
   "metadata": {
    "slideshow": {
     "slide_type": "fragment"
    }
   },
   "source": [
    "Per restituire un valore usabile _fuori_ dalla funzione:\n",
    "\n",
    "usa la parola chiave `return` seguita da una ESPRESSIONE"
   ]
  },
  {
   "attachments": {},
   "cell_type": "markdown",
   "id": "5c5ef8a2",
   "metadata": {
    "slideshow": {
     "slide_type": "subslide"
    }
   },
   "source": [
    "[Vedi in Python Tutor](https://pythontutor.com/render.html#code=def%20mia_somma%28x,y%29%3A%0A%20%20%20%20s%20%3D%20x%20%2B%20y%0A%20%20%20%20return%20s%20%20%20%20%0A%20%20%20%20%0Arisultato%20%3D%20mia_somma%283,5%29%0Aprint%28risultato%29&cumulative=false&curInstr=0&heapPrimitives=nevernest&mode=display&origin=opt-frontend.js&py=3&rawInputLstJSON=%5B%5D&textReferences=false)\n",
    "\n",
    "<iframe width=\"800\" height=\"500\" frameborder=\"0\" src=\"https://pythontutor.com/iframe-embed.html#code=def%20mia_somma%28x,y%29%3A%0A%20%20%20%20s%20%3D%20x%20%2B%20y%0A%20%20%20%20return%20s%20%20%20%20%0A%20%20%20%20%0Arisultato%20%3D%20mia_somma%283,5%29%0Aprint%28risultato%29&codeDivHeight=400&codeDivWidth=350&cumulative=false&curInstr=0&heapPrimitives=nevernest&origin=opt-frontend.js&py=3&rawInputLstJSON=%5B%5D&textReferences=false\"> </iframe>"
   ]
  },
  {
   "attachments": {},
   "cell_type": "markdown",
   "id": "2ecb3246",
   "metadata": {
    "slideshow": {
     "slide_type": "subslide"
    }
   },
   "source": [
    "### E se ci dimentichiamo il `return` ?\n"
   ]
  },
  {
   "cell_type": "code",
   "execution_count": null,
   "id": "22a3b4cf",
   "metadata": {
    "slideshow": {
     "slide_type": "-"
    }
   },
   "outputs": [],
   "source": [
    "def mia_somma_sbagliata(x,y):\n",
    "    x + y    \n",
    "\n",
    "risultato = mia_somma_sbagliata(5,3)"
   ]
  },
  {
   "cell_type": "code",
   "execution_count": null,
   "id": "32ba151a",
   "metadata": {},
   "outputs": [],
   "source": [
    "risultato  # Jupyter non mostra niente!"
   ]
  },
  {
   "cell_type": "code",
   "execution_count": null,
   "id": "2a8c5df2",
   "metadata": {
    "slideshow": {
     "slide_type": "fragment"
    }
   },
   "outputs": [
    {
     "name": "stdout",
     "output_type": "stream",
     "text": [
      "None\n"
     ]
    }
   ],
   "source": [
    "print(risultato)  # forziamo stampa con print"
   ]
  },
  {
   "cell_type": "code",
   "execution_count": null,
   "id": "c1e566fe",
   "metadata": {
    "slideshow": {
     "slide_type": "fragment"
    }
   },
   "outputs": [
    {
     "name": "stdout",
     "output_type": "stream",
     "text": [
      "8\n"
     ]
    }
   ],
   "source": [
    "def mia_somma_corretta(x,y):\n",
    "    return x + y  \n",
    "\n",
    "risultato = mia_somma_corretta(5,3)\n",
    "print(risultato)"
   ]
  },
  {
   "attachments": {},
   "cell_type": "markdown",
   "id": "1eee4395",
   "metadata": {
    "slideshow": {
     "slide_type": "subslide"
    }
   },
   "source": [
    "### Argomenti keyword\n",
    "\n",
    "Si possono aggiungere argomenti di default _alla fine_:"
   ]
  },
  {
   "cell_type": "code",
   "execution_count": null,
   "id": "496ffb53",
   "metadata": {
    "slideshow": {
     "slide_type": "-"
    }
   },
   "outputs": [],
   "source": [
    "def ripeti(stringa, volte=3):    \n",
    "    return stringa * volte"
   ]
  },
  {
   "attachments": {},
   "cell_type": "markdown",
   "id": "0881d260",
   "metadata": {
    "slideshow": {
     "slide_type": "fragment"
    }
   },
   "source": [
    "Quando si chiama la funzione si può:"
   ]
  },
  {
   "cell_type": "code",
   "execution_count": null,
   "id": "818bedee",
   "metadata": {
    "slideshow": {
     "slide_type": "-"
    }
   },
   "outputs": [
    {
     "data": {
      "text/plain": [
       "'RotolaRotolaRotola'"
      ]
     },
     "execution_count": 229,
     "metadata": {},
     "output_type": "execute_result"
    }
   ],
   "source": [
    "ripeti('Rotola')             # omettere l'argomento di default"
   ]
  },
  {
   "cell_type": "code",
   "execution_count": null,
   "id": "34f12034",
   "metadata": {
    "slideshow": {
     "slide_type": "fragment"
    }
   },
   "outputs": [
    {
     "data": {
      "text/plain": [
       "'RotolaRotolaRotolaRotolaRotolaRotolaRotola'"
      ]
     },
     "execution_count": 230,
     "metadata": {},
     "output_type": "execute_result"
    }
   ],
   "source": [
    "ripeti(\"Rotola\", volte=7)    # specificarlo per nome"
   ]
  },
  {
   "cell_type": "code",
   "execution_count": null,
   "id": "88811f61",
   "metadata": {
    "slideshow": {
     "slide_type": "fragment"
    }
   },
   "outputs": [
    {
     "data": {
      "text/plain": [
       "'RotolaRotola'"
      ]
     },
     "execution_count": 231,
     "metadata": {},
     "output_type": "execute_result"
    }
   ],
   "source": [
    "ripeti(\"Rotola\",  2)         # scriverlo direttamente"
   ]
  },
  {
   "attachments": {},
   "cell_type": "markdown",
   "id": "d4af1641",
   "metadata": {
    "slideshow": {
     "slide_type": "slide"
    }
   },
   "source": [
    "### Argomenti keyword mutabili 1/2\n",
    "\n",
    "<div class=\"alert alert-warning\">\n",
    "    \n",
    "**ATTENZIONE: NON mettere argomenti di defaut mutabili**\n",
    "    \n",
    "Lo stesso oggetto verrà condiviso da tutte le invocazioni della funzione!\n",
    "    \n",
    "</div>    "
   ]
  },
  {
   "cell_type": "code",
   "execution_count": null,
   "id": "f323eda4",
   "metadata": {
    "slideshow": {
     "slide_type": "fragment"
    }
   },
   "outputs": [],
   "source": [
    "def tragedia(lista=[]):\n",
    "    lista.append('occhio!')\n",
    "    print(lista)"
   ]
  },
  {
   "cell_type": "code",
   "execution_count": null,
   "id": "68f17016",
   "metadata": {
    "slideshow": {
     "slide_type": "fragment"
    }
   },
   "outputs": [
    {
     "name": "stdout",
     "output_type": "stream",
     "text": [
      "['occhio!']\n"
     ]
    }
   ],
   "source": [
    "tragedia()  # prima invocazione: sembra a posto.."
   ]
  },
  {
   "cell_type": "code",
   "execution_count": null,
   "id": "ab910def",
   "metadata": {
    "slideshow": {
     "slide_type": "fragment"
    }
   },
   "outputs": [
    {
     "name": "stdout",
     "output_type": "stream",
     "text": [
      "['occhio!', 'occhio!']\n"
     ]
    }
   ],
   "source": [
    "tragedia()  # seconda invocazione: guai!"
   ]
  },
  {
   "attachments": {},
   "cell_type": "markdown",
   "id": "ff0aca48",
   "metadata": {
    "slideshow": {
     "slide_type": "subslide"
    }
   },
   "source": [
    "### Argomenti keyword mutabili 2/2"
   ]
  },
  {
   "cell_type": "code",
   "execution_count": null,
   "id": "ffd58c0b",
   "metadata": {},
   "outputs": [
    {
     "name": "stdout",
     "output_type": "stream",
     "text": [
      "['ok']\n"
     ]
    }
   ],
   "source": [
    "def meglio(lista=None):\n",
    "    if lista == None:\n",
    "        lista = []\n",
    "    lista.append('ok')\n",
    "    print(lista)\n",
    "        \n",
    "meglio()  # prima invocazione"
   ]
  },
  {
   "cell_type": "code",
   "execution_count": null,
   "id": "180e839f",
   "metadata": {
    "slideshow": {
     "slide_type": "fragment"
    }
   },
   "outputs": [
    {
     "name": "stdout",
     "output_type": "stream",
     "text": [
      "['ok']\n"
     ]
    }
   ],
   "source": [
    "meglio()  # seconda invocazione"
   ]
  },
  {
   "attachments": {},
   "cell_type": "markdown",
   "id": "070c4b9f",
   "metadata": {
    "slideshow": {
     "slide_type": "subslide"
    }
   },
   "source": [
    "### Variabili esterne\n",
    "\n",
    "Da dentro una funzione, possiamo _leggere_ variabili esterne:"
   ]
  },
  {
   "cell_type": "code",
   "execution_count": null,
   "id": "594ec16e",
   "metadata": {
    "slideshow": {
     "slide_type": "-"
    }
   },
   "outputs": [],
   "source": [
    "muro = \"bianco\"\n",
    "\n",
    "def guarda():    \n",
    "    print('Vedo un muro', muro)         "
   ]
  },
  {
   "cell_type": "code",
   "execution_count": null,
   "id": "cc5cdacc",
   "metadata": {
    "slideshow": {
     "slide_type": "fragment"
    }
   },
   "outputs": [
    {
     "name": "stdout",
     "output_type": "stream",
     "text": [
      "Vedo un muro bianco\n"
     ]
    }
   ],
   "source": [
    "guarda()"
   ]
  },
  {
   "attachments": {},
   "cell_type": "markdown",
   "id": "6af94bab",
   "metadata": {
    "slideshow": {
     "slide_type": "subslide"
    }
   },
   "source": [
    "### Variabili esterne: problemi\n",
    "\n",
    "\n",
    "Ma se proviamo a _riassegnare_, Python crea una NUOVA variabile!"
   ]
  },
  {
   "cell_type": "code",
   "execution_count": null,
   "id": "55237351",
   "metadata": {
    "slideshow": {
     "slide_type": "-"
    }
   },
   "outputs": [],
   "source": [
    "muro = \"bianco\"\n",
    "\n",
    "def dipingi():                 \n",
    "    print('Dipingo....')        \n",
    "    muro = 'arancione'   # OCCHIO\n",
    "    print('Esco')    "
   ]
  },
  {
   "cell_type": "code",
   "execution_count": null,
   "id": "6dd8c4f9",
   "metadata": {
    "slideshow": {
     "slide_type": "fragment"
    }
   },
   "outputs": [
    {
     "name": "stdout",
     "output_type": "stream",
     "text": [
      "Dipingo....\n",
      "Esco\n",
      "Adesso il muro è bianco\n"
     ]
    }
   ],
   "source": [
    "dipingi()\n",
    "print('Adesso il muro è', muro)  "
   ]
  },
  {
   "attachments": {},
   "cell_type": "markdown",
   "id": "f5fb6887",
   "metadata": {
    "slideshow": {
     "slide_type": "subslide"
    }
   },
   "source": [
    "[Vedi in Python Tutor](https://pythontutor.com/render.html#code=muro%20%3D%20%22bianco%22%0A%0Adef%20dipingi%28%29%3A%20%20%20%20%20%20%20%20%20%20%20%20%20%20%20%20%20%0A%20%20%20%20print%28'Dipingo....'%29%20%20%20%20%20%20%20%20%0A%20%20%20%20muro%20%3D%20'arancione'%20%20%20%23%20OCCHIO%0A%20%20%20%20print%28'Esco'%29%20%20%0A%20%20%20%20%0Adipingi%28%29%0A%0Aprint%28'Adesso%20il%20muro%20%C3%A8',%20muro%29&cumulative=false&curInstr=0&heapPrimitives=nevernest&mode=display&origin=opt-frontend.js&py=3&rawInputLstJSON=%5B%5D&textReferences=false)\n",
    "\n",
    "<iframe width=\"800\" height=\"500\" frameborder=\"0\" src=\"https://pythontutor.com/iframe-embed.html#code=muro%20%3D%20%22bianco%22%0A%0Adef%20dipingi%28%29%3A%20%20%20%20%20%20%20%20%20%20%20%20%20%20%20%20%20%0A%20%20%20%20print%28'Dipingo....'%29%20%20%20%20%20%20%20%20%0A%20%20%20%20muro%20%3D%20'arancione'%20%20%20%23%20OCCHIO%0A%20%20%20%20print%28'Esco'%29%20%20%0A%20%20%20%20%0Adipingi%28%29%0A%0Aprint%28'Adesso%20il%20muro%20%C3%A8',%20muro%29&codeDivHeight=400&codeDivWidth=350&cumulative=false&curInstr=0&heapPrimitives=nevernest&origin=opt-frontend.js&py=3&rawInputLstJSON=%5B%5D&textReferences=false\"> </iframe>"
   ]
  },
  {
   "attachments": {},
   "cell_type": "markdown",
   "id": "09bdc90f",
   "metadata": {
    "slideshow": {
     "slide_type": "subslide"
    }
   },
   "source": [
    "### Variabili esterne: `global`\n",
    "\n",
    "Per evitare problemi, bisogna dichiarare la variabile esterna come `global`:"
   ]
  },
  {
   "cell_type": "code",
   "execution_count": null,
   "id": "d463a9b5",
   "metadata": {
    "slideshow": {
     "slide_type": "-"
    }
   },
   "outputs": [
    {
     "name": "stdout",
     "output_type": "stream",
     "text": [
      "Dipingo....\n",
      "Esco\n",
      "Adesso il muro è arancione\n"
     ]
    }
   ],
   "source": [
    "muro = \"bianco\"\n",
    "\n",
    "def dipingi():        \n",
    "    global muro          # CORRETTO \n",
    "    print('Dipingo....')        \n",
    "    muro = 'arancione'   \n",
    "    print('Esco')\n",
    "    \n",
    "dipingi()\n",
    "print('Adesso il muro è', muro) "
   ]
  },
  {
   "attachments": {},
   "cell_type": "markdown",
   "id": "63eb6648",
   "metadata": {
    "slideshow": {
     "slide_type": "subslide"
    }
   },
   "source": [
    "[Vedi in Python Tutor](https://pythontutor.com/render.html#code=muro%20%3D%20%22bianco%22%0A%0Adef%20dipingi%28%29%3A%20%20%20%20%20%20%20%20%0A%20%20%20%20global%20muro%20%20%20%20%20%20%20%20%20%20%23%20CORRETTO%20%0A%20%20%20%20print%28'Dipingo....'%29%20%20%20%20%20%20%20%20%0A%20%20%20%20muro%20%3D%20'arancione'%20%20%20%0A%20%20%20%20print%28'Esco'%29%0A%20%20%20%20%0Adipingi%28%29%0A%0Aprint%28'Adesso%20il%20muro%20%C3%A8',%20muro%29&cumulative=false&curInstr=0&heapPrimitives=nevernest&mode=display&origin=opt-frontend.js&py=3&rawInputLstJSON=%5B%5D&textReferences=false)\n",
    "\n",
    "<iframe width=\"800\" height=\"500\" frameborder=\"0\" src=\"https://pythontutor.com/iframe-embed.html#code=muro%20%3D%20%22bianco%22%0A%0Adef%20dipingi%28%29%3A%20%20%20%20%20%20%20%20%0A%20%20%20%20global%20muro%20%20%20%20%20%20%20%20%20%20%23%20CORRETTO%20%0A%20%20%20%20print%28'Dipingo....'%29%20%20%20%20%20%20%20%20%0A%20%20%20%20muro%20%3D%20'arancione'%20%20%20%0A%20%20%20%20print%28'Esco'%29%0A%20%20%20%20%0Adipingi%28%29%0A%0Aprint%28'Adesso%20il%20muro%20%C3%A8',%20muro%29&codeDivHeight=400&codeDivWidth=350&cumulative=false&curInstr=0&heapPrimitives=nevernest&origin=opt-frontend.js&py=3&rawInputLstJSON=%5B%5D&textReferences=false\"> </iframe>"
   ]
  },
  {
   "attachments": {},
   "cell_type": "markdown",
   "id": "460ca6bb",
   "metadata": {
    "colab_type": "text",
    "id": "4X1oP2z2Nz4z",
    "slideshow": {
     "slide_type": "slide"
    }
   },
   "source": [
    "## Funzioni lambda\n",
    "\n",
    "Che cos'è una funzione? Un oggetto\n",
    "\n",
    "Esempio: funzione `len`"
   ]
  },
  {
   "cell_type": "code",
   "execution_count": null,
   "id": "42654d67",
   "metadata": {
    "colab": {
     "autoexec": {
      "startup": false,
      "wait_interval": 0
     },
     "base_uri": "https://localhost:8080/",
     "height": 34,
     "output_extras": [
      {
       "item_id": 1
      }
     ]
    },
    "colab_type": "code",
    "executionInfo": {
     "elapsed": 500,
     "status": "ok",
     "timestamp": 1519046536040,
     "user": {
      "displayName": "David Leoni",
      "photoUrl": "https://lh3.googleusercontent.com/a/default-user=s128",
      "userId": "102920557909426557439"
     },
     "user_tz": -60
    },
    "id": "El31mlUNOoRX",
    "outputId": "24ca6750-254e-4062-f24a-6850eb7af742",
    "slideshow": {
     "slide_type": "-"
    }
   },
   "outputs": [
    {
     "data": {
      "text/plain": [
       "<function len(obj, /)>"
      ]
     },
     "execution_count": 242,
     "metadata": {},
     "output_type": "execute_result"
    }
   ],
   "source": [
    "len"
   ]
  },
  {
   "cell_type": "code",
   "execution_count": null,
   "id": "c1c37a98",
   "metadata": {
    "slideshow": {
     "slide_type": "fragment"
    }
   },
   "outputs": [
    {
     "data": {
      "text/plain": [
       "4"
      ]
     },
     "execution_count": 243,
     "metadata": {},
     "output_type": "execute_result"
    }
   ],
   "source": [
    "len(\"rosa\")         # invocazione"
   ]
  },
  {
   "attachments": {},
   "cell_type": "markdown",
   "id": "aa5bd059",
   "metadata": {
    "colab_type": "text",
    "id": "ENEMhfSiOrUM",
    "slideshow": {
     "slide_type": "subslide"
    }
   },
   "source": [
    "Proviamo a creare una var `mia_var` che punta all'_oggetto_ `len`: "
   ]
  },
  {
   "cell_type": "code",
   "execution_count": null,
   "id": "72dc20d4",
   "metadata": {
    "colab": {
     "autoexec": {
      "startup": false,
      "wait_interval": 0
     }
    },
    "colab_type": "code",
    "id": "6S-wDPTYOJUO",
    "slideshow": {
     "slide_type": "-"
    }
   },
   "outputs": [],
   "source": [
    "mia_var = len"
   ]
  },
  {
   "attachments": {},
   "cell_type": "markdown",
   "id": "3c4e60c2",
   "metadata": {
    "colab_type": "text",
    "id": "PX1hxxoOOUJg",
    "slideshow": {
     "slide_type": "fragment"
    }
   },
   "source": [
    "**NOTA**: _non_ abbiamo aggiunto parametri a `len`!"
   ]
  },
  {
   "attachments": {},
   "cell_type": "markdown",
   "id": "31c1a1ed",
   "metadata": {
    "slideshow": {
     "slide_type": "fragment"
    }
   },
   "source": [
    "Adesso possiamo usare `mia_var` esattamente come usiamo la funzione `len`:"
   ]
  },
  {
   "cell_type": "code",
   "execution_count": null,
   "id": "1322b9f2",
   "metadata": {
    "colab": {
     "autoexec": {
      "startup": false,
      "wait_interval": 0
     },
     "base_uri": "https://localhost:8080/",
     "height": 34,
     "output_extras": [
      {
       "item_id": 1
      }
     ]
    },
    "colab_type": "code",
    "executionInfo": {
     "elapsed": 649,
     "status": "ok",
     "timestamp": 1519046587953,
     "user": {
      "displayName": "David Leoni",
      "photoUrl": "https://lh3.googleusercontent.com/a/default-user=s128",
      "userId": "102920557909426557439"
     },
     "user_tz": -60
    },
    "id": "Lh6V_SAeOS3O",
    "outputId": "efd81d20-9aa9-40b4-8540-ac5d6f45ea6d",
    "slideshow": {
     "slide_type": "-"
    }
   },
   "outputs": [
    {
     "data": {
      "text/plain": [
       "4"
      ]
     },
     "execution_count": 245,
     "metadata": {},
     "output_type": "execute_result"
    }
   ],
   "source": [
    "mia_var(\"rosa\")"
   ]
  },
  {
   "attachments": {},
   "cell_type": "markdown",
   "id": "378312cd",
   "metadata": {
    "colab_type": "text",
    "id": "Q3CoQlvZPWTG",
    "slideshow": {
     "slide_type": "subslide"
    }
   },
   "source": [
    "### Funzioni lambda - esempio\n",
    "\n",
    "Per creare una funzione 'al volo', usa la parola chiave `lambda`:"
   ]
  },
  {
   "cell_type": "code",
   "execution_count": null,
   "id": "2eaed396",
   "metadata": {
    "colab": {
     "autoexec": {
      "startup": false,
      "wait_interval": 0
     }
    },
    "colab_type": "code",
    "id": "uXGgflBePBlW",
    "slideshow": {
     "slide_type": "-"
    }
   },
   "outputs": [
    {
     "data": {
      "text/plain": [
       "<function __main__.<lambda>(x, y)>"
      ]
     },
     "execution_count": 246,
     "metadata": {},
     "output_type": "execute_result"
    }
   ],
   "source": [
    "lambda x, y: x + y"
   ]
  },
  {
   "attachments": {},
   "cell_type": "markdown",
   "id": "1fc7a253",
   "metadata": {
    "slideshow": {
     "slide_type": "fragment"
    }
   },
   "source": [
    "- **NON** c'è il `def`\n",
    "- **NON** bisogna mettere `return`\n",
    "- **DEVE** stare su una riga sola"
   ]
  },
  {
   "attachments": {},
   "cell_type": "markdown",
   "id": "108b3d57",
   "metadata": {
    "slideshow": {
     "slide_type": "fragment"
    }
   },
   "source": [
    "Una funzione `lambda` è un oggetto -> si può assegnare ad una variabile:"
   ]
  },
  {
   "cell_type": "code",
   "execution_count": null,
   "id": "30d66191",
   "metadata": {
    "slideshow": {
     "slide_type": "-"
    }
   },
   "outputs": [],
   "source": [
    "mia_somma = lambda x, y: x + y"
   ]
  },
  {
   "cell_type": "code",
   "execution_count": null,
   "id": "41a7cae6",
   "metadata": {
    "slideshow": {
     "slide_type": "-"
    }
   },
   "outputs": [
    {
     "data": {
      "text/plain": [
       "8"
      ]
     },
     "execution_count": 248,
     "metadata": {},
     "output_type": "execute_result"
    }
   ],
   "source": [
    "mia_somma(3,5)"
   ]
  },
  {
   "attachments": {},
   "cell_type": "markdown",
   "id": "5cb2c86d",
   "metadata": {
    "slideshow": {
     "slide_type": "subslide"
    }
   },
   "source": [
    "### funzioni lambda e def\n",
    "\n",
    "Queste due scritture sono completamente equivalenti:"
   ]
  },
  {
   "cell_type": "code",
   "execution_count": null,
   "id": "ff8112fd",
   "metadata": {
    "slideshow": {
     "slide_type": "-"
    }
   },
   "outputs": [],
   "source": [
    "def mia_somma(x, y):\n",
    "    return x + y"
   ]
  },
  {
   "cell_type": "code",
   "execution_count": null,
   "id": "8f438edb",
   "metadata": {
    "slideshow": {
     "slide_type": "-"
    }
   },
   "outputs": [],
   "source": [
    "mia_somma = lambda x, y: x + y"
   ]
  },
  {
   "attachments": {},
   "cell_type": "markdown",
   "id": "8cc9c56b",
   "metadata": {
    "slideshow": {
     "slide_type": "subslide"
    }
   },
   "source": [
    "### Esempio: sorted e lambda\n",
    "\n",
    "Aspettative di vita di animali:"
   ]
  },
  {
   "cell_type": "code",
   "execution_count": null,
   "id": "b21a357c",
   "metadata": {
    "slideshow": {
     "slide_type": "-"
    }
   },
   "outputs": [],
   "source": [
    "animali = [('cane', 12), \n",
    "           ('gatto', 14), \n",
    "           ('pellicano', 30), \n",
    "           ('acquila', 25), \n",
    "           ('scoiattolo', 6)]"
   ]
  },
  {
   "attachments": {},
   "cell_type": "markdown",
   "id": "f993c1a5",
   "metadata": {
    "slideshow": {
     "slide_type": "fragment"
    }
   },
   "source": [
    "Come fare a ordinare per anni?"
   ]
  },
  {
   "cell_type": "code",
   "execution_count": null,
   "id": "e31aaee1",
   "metadata": {
    "slideshow": {
     "slide_type": "-"
    }
   },
   "outputs": [
    {
     "data": {
      "text/plain": [
       "[('acquila', 25),\n",
       " ('cane', 12),\n",
       " ('gatto', 14),\n",
       " ('pellicano', 30),\n",
       " ('scoiattolo', 6)]"
      ]
     },
     "execution_count": 252,
     "metadata": {},
     "output_type": "execute_result"
    }
   ],
   "source": [
    "sorted(animali)   # SBAGLIATO"
   ]
  },
  {
   "attachments": {},
   "cell_type": "markdown",
   "id": "9bc5a5d9",
   "metadata": {
    "slideshow": {
     "slide_type": "fragment"
    }
   },
   "source": [
    "Così è alfabetico..."
   ]
  },
  {
   "attachments": {},
   "cell_type": "markdown",
   "id": "fa37af3e",
   "metadata": {
    "slideshow": {
     "slide_type": "subslide"
    }
   },
   "source": [
    "### Esempio: sorted `key`\n",
    "\n",
    "Possiamo passare al parametro `key` una funzione che:\n",
    "\n",
    "* dato un elemento della lista...\n",
    "* ...produce un numero per ordinare\n",
    "\n",
    "Scriviamo una `lambda` per estrarre aspettativa di vita:"
   ]
  },
  {
   "cell_type": "code",
   "execution_count": null,
   "id": "bdbfcde0",
   "metadata": {
    "slideshow": {
     "slide_type": "-"
    }
   },
   "outputs": [
    {
     "data": {
      "text/plain": [
       "[('scoiattolo', 6),\n",
       " ('cane', 12),\n",
       " ('gatto', 14),\n",
       " ('acquila', 25),\n",
       " ('pellicano', 30)]"
      ]
     },
     "execution_count": 253,
     "metadata": {},
     "output_type": "execute_result"
    }
   ],
   "source": [
    "sorted( animali, key=lambda tup: tup[1]  )"
   ]
  },
  {
   "attachments": {},
   "cell_type": "markdown",
   "id": "585abf2e",
   "metadata": {
    "slideshow": {
     "slide_type": "subslide"
    }
   },
   "source": [
    "## Menzioni\n",
    "\n",
    "- Namespace and Scope\n",
    "- Positional-Only and Keyword-Only Parameters\n",
    "- Variable Number of Arguments\n",
    "- Decorator\n",
    "- Yield Statement and Asynchronous Functions\n"
   ]
  },
  {
   "attachments": {},
   "cell_type": "markdown",
   "id": "ea3dbc35",
   "metadata": {
    "slideshow": {
     "slide_type": "slide"
    }
   },
   "source": [
    "## Le eccezioni\n",
    "\n",
    "\n",
    "\n",
    "Come fermare l'esecuzione di tutto il programma appena riscontriamo una situazione imprevista? \n",
    "\n",
    "**Riferimenti**: \n",
    "\n",
    "- [SoftPython - Gestione errori e testing](https://it.softpython.org/functions/fun2-errors-and-testing-sol.html)\n",
    "- [Nicola Cassetta - 19: La gestione delle eccezioni](http://ncassetta.altervista.org/Tutorial_Python/Lezione_19.html)\n"
   ]
  },
  {
   "attachments": {},
   "cell_type": "markdown",
   "id": "c320d747",
   "metadata": {
    "slideshow": {
     "slide_type": "subslide"
    }
   },
   "source": [
    "Per **interrompere** l'esecuzione del programma in un punto, si può inserire l'istruzione `raise` così:\n",
    "\n",
    "```python\n",
    "raise Exception()\n",
    "```\n",
    "\n",
    "Volendo, si può anche scrivere una indicazione _per i programmatori_: \n",
    "\n",
    "```python\n",
    "raise Exception(\"Non c'è abbastanza farina !\")\n",
    "```"
   ]
  },
  {
   "attachments": {},
   "cell_type": "markdown",
   "id": "fe0ef8eb",
   "metadata": {
    "slideshow": {
     "slide_type": "slide"
    }
   },
   "source": [
    "## Esempio"
   ]
  },
  {
   "cell_type": "code",
   "execution_count": null,
   "id": "f1f240ba",
   "metadata": {},
   "outputs": [],
   "source": [
    "def fai_torta_eccezionale(latte, zucchero, farina):\n",
    "    \"\"\" - supponiamo servano 1.3 kg per il latte, 0.2kg per lo zucchero e 1.0kg per la farina\n",
    "\n",
    "        - prende come parametri le quantità che abbiamo in dispensa\n",
    "        - se mancano ingredienti, lancia Exception\n",
    "    \"\"\"\n",
    "    # implementa la funzione  \n",
    "\n",
    "    if latte > 1.3:\n",
    "        print(\"prendo il latte\")\n",
    "    else:\n",
    "        raise Exception(\"Non ho abbastanza latte !\")\n",
    "    if zucchero > 0.2:\n",
    "        print(\"prendo lo zucchero\")\n",
    "    else:\n",
    "        raise Exception(\"Non ho abbastanza zucchero!\")\n",
    "    if farina > 1.0:\n",
    "        print(\"prendo la farina\")\n",
    "    else:\n",
    "        raise Exception(\"Non ho abbastanza farina !\")\n",
    "    print(\"Impasto\")\n",
    "    print(\"Scaldo\")\n",
    "    print(\"Ho fatto la torta !\")"
   ]
  },
  {
   "attachments": {},
   "cell_type": "markdown",
   "id": "c738b068",
   "metadata": {
    "slideshow": {
     "slide_type": "subslide"
    }
   },
   "source": [
    "Una volta implmenetata, scrivendo \n",
    "\n",
    "```python\n",
    "fai_torta_eccezionale(5,1,0.3)\n",
    "print(\"Festeggia\")\n",
    "```\n",
    "\n",
    "Dovresti vedere (nota come \"Festeggia\" non venga mai stampato):\n",
    "    \n",
    "```bash\n",
    "prendo il latte\n",
    "prendo lo zucchero\n",
    "\n",
    "---------------------------------------------------------------------------\n",
    "Exception                                 Traceback (most recent call last)\n",
    "<ipython-input-10-02c123f44f31> in <module>()\n",
    "----> 1 fai_torta_eccezionale(5,1,0.3)\n",
    "      2 \n",
    "      3 print(\"Festeggia\")\n",
    "\n",
    "<ipython-input-9-030239f08ca5> in fai_torta_eccezionale(latte, zucchero, farina)\n",
    "     18         print(\"prendo la farina\")\n",
    "     19     else:\n",
    "---> 20         raise Exception(\"Non ho abbastanza farina !\")\n",
    "     21     print(\"Impasto\")\n",
    "     22     print(\"Scaldo\")\n",
    "\n",
    "Exception: Non ho abbastanza farina !\n",
    "\n",
    "\n",
    "```"
   ]
  },
  {
   "attachments": {},
   "cell_type": "markdown",
   "id": "542f7f70",
   "metadata": {
    "slideshow": {
     "slide_type": "subslide"
    }
   },
   "source": [
    "### Gestire le eccezioni\n",
    "\n",
    "Se c'è una sezione di codice problematica 'che può scoppiare'...\n",
    "\n",
    "la si può mettere in un blocco `try` `except` così:"
   ]
  },
  {
   "cell_type": "code",
   "execution_count": null,
   "id": "87fe6e6a",
   "metadata": {},
   "outputs": [
    {
     "name": "stdout",
     "output_type": "stream",
     "text": [
      "prendo il latte\n",
      "prendo lo zucchero\n",
      "Non riesco a fare la torta, che ne dite se usciamo a prendere del gelato?\n",
      "Fine della festa\n"
     ]
    }
   ],
   "source": [
    "try: \n",
    "    fai_torta_eccezionale(5,1,0.3)\n",
    "    print(\"Festeggia\")\n",
    "except:  \n",
    "    print(\"Non riesco a fare la torta, che ne dite se usciamo a prendere del gelato?\")   \n",
    "\n",
    "print(\"Fine della festa\")"
   ]
  },
  {
   "attachments": {},
   "cell_type": "markdown",
   "id": "af579490",
   "metadata": {
    "slideshow": {
     "slide_type": "subslide"
    }
   },
   "source": [
    "\n",
    "\n",
    "<table>\n",
    "<tr>\n",
    "<td width=\"30%\">\n",
    "\n",
    "## Eccezioni particolari\n",
    "\n",
    "`Exception`  è un'eccezione generica\n",
    "\n",
    "Si può usare eccezioni più specifiche per segnalare meglio il tipo di errore che è accaduto.\n",
    "\n",
    "Es.  `ValueError`, usandola invece di `Exception`, si  consente a chi chiama la funzione di intercettare solo quella tipologia di errore\n",
    "</td>\n",
    "<td>\n",
    "\n",
    "```python\n",
    "def fai_torta_eccezionale_2(latte, zucchero, farina):\n",
    "    \"\"\" - supponiamo serva un kg di farina\n",
    "        - se mancano farina, lancia ValueError\n",
    "    \"\"\"        \n",
    "    print(\"prendo il latte\")\n",
    "    print(\"prendo lo zucchero\")\n",
    "    \n",
    "    if farina > 1.0:\n",
    "        print(\"prendo la farina\")\n",
    "    else:\n",
    "        raise ValueError(\"Non ho abbastanza farina !\")\n",
    "    print(\"Impasto\")\n",
    "    print(\"Scaldo\")\n",
    "    print(\"Ho fatto la torta !\")\n",
    "\n",
    "try: \n",
    "    fai_torta_eccezionale_2(5,1,0.3)\n",
    "    print(\"Festeggia\")\n",
    "except ValueError:     \n",
    "    print(\"Mancano ingredienti!\")   \n",
    "    print(\"Proviamo a chiedere ai vicini!\")\n",
    "    print(\"Ci hanno dato ingredienti, riproviamo !\")    \n",
    "    fai_torta_eccezionale_2(6,2,4) \n",
    "    print(\"Festeggia\")\n",
    "except:  # gestisce tutte le altre eccezioni\n",
    "    print(\"Ragazzi, è successo un problema grave!\")\n",
    "```\n",
    "</td>\n",
    "</tr>\n",
    "</table>"
   ]
  },
  {
   "attachments": {},
   "cell_type": "markdown",
   "id": "9596cf83",
   "metadata": {
    "slideshow": {
     "slide_type": "subslide"
    }
   },
   "source": [
    "## Gli assert"
   ]
  },
  {
   "attachments": {},
   "cell_type": "markdown",
   "id": "5e3774b3",
   "metadata": {},
   "source": [
    "Per testare il codice, può usare il comando `assert`\n",
    "\n",
    "`assert` CONDIZIONE\n",
    "\n",
    "verifica che CONDIZIONE sia vera\n",
    "\n"
   ]
  },
  {
   "attachments": {},
   "cell_type": "markdown",
   "id": "e1c96996",
   "metadata": {
    "slideshow": {
     "slide_type": "subslide"
    }
   },
   "source": [
    "## `assert True` "
   ]
  },
  {
   "attachments": {},
   "cell_type": "markdown",
   "id": "a3ae5b26",
   "metadata": {},
   "source": [
    "non fa assolutamente niente:"
   ]
  },
  {
   "cell_type": "code",
   "execution_count": null,
   "id": "a20bd001",
   "metadata": {},
   "outputs": [
    {
     "name": "stdout",
     "output_type": "stream",
     "text": [
      "prima\n",
      "dopo\n"
     ]
    }
   ],
   "source": [
    "print(\"prima\")\n",
    "assert True\n",
    "print(\"dopo\")"
   ]
  },
  {
   "attachments": {},
   "cell_type": "markdown",
   "id": "fd47ba93",
   "metadata": {
    "slideshow": {
     "slide_type": "subslide"
    }
   },
   "source": [
    "## `assert False` \n",
    "\n",
    "- blocca l'esecuzione del programma,\n",
    "- lancia un'eccezione di tipo `AssertionError` \n",
    "- nota come `\"dopo\"` non venga stampato:\n",
    "\n",
    "```python\n",
    "print(\"prima\")\n",
    "assert False\n",
    "print(\"dopo\")\n",
    "```\n",
    "\n",
    "```bash\n",
    "prima\n",
    "---------------------------------------------------------------------------\n",
    "AssertionError                            Traceback (most recent call last)\n",
    "<ipython-input-7-a871fdc9ebee> in <module>()\n",
    "----> 1 assert False\n",
    "\n",
    "AssertionError: \n",
    "\n",
    "\n",
    "```"
   ]
  },
  {
   "attachments": {},
   "cell_type": "markdown",
   "id": "3a9ad17f",
   "metadata": {
    "slideshow": {
     "slide_type": "subslide"
    }
   },
   "source": [
    "## Esempio `assert`\n",
    "\n",
    "Se a un certo punto del programma:\n",
    "\n",
    "- mi aspetto di avere almeno 5 arance\n",
    "- in caso contrario voglio interrompere l'esecuzione\n",
    "\n",
    "posso scrivere così:\n",
    "\n",
    "```python\n",
    "assert arance > 5\n",
    "```"
   ]
  },
  {
   "attachments": {},
   "cell_type": "markdown",
   "id": "fde2fd24",
   "metadata": {
    "slideshow": {
     "slide_type": "subslide"
    }
   },
   "source": [
    "## CHALLENGE - Pacman e i bulli\n",
    "\n",
    "✪✪ Requisiti: funzioni, stringhe, for, if\n",
    "\n",
    "Il nostro eroe dei labirinti incontra un gruppo di bulli che per prenderlo in giro iniziano a cantilenargli il suo iconico verso, storpiandolo: INVECE di `\"waka waka waka waka waka\"` gli cantano `\"waekai waekai waekai waekai\"`\n",
    "ed altre storpiature simili ottenute AGGIUNGENDO lettere al verso normale.\n",
    "\n",
    "- I bulli non aggiungono mai lettere corrette. \n",
    "- Aiuta PacMan scrivendo una funzione `nobulli` che pulisca dalle storpiature.\n",
    "- **NON** scrivere `print` nella funzione!\n",
    "\n",
    "Esempio:\n",
    "\n",
    "```python\n",
    ">>> bullo1 = \"waekai waekai waekai waekai\"\n",
    ">>> res1 = nobulli(bullo1) \n",
    ">>> print(res1)\n",
    "waka waka waka waka\n",
    "```\n",
    "\n",
    "1. scrivi una prima versione `nobulli(stringa)` che assume che i caratteri desiderati da mantenere siano sempre 'w','a','k','a'\n",
    "2. scrivi una seconda versione `nobulli2(stringa, mantieni)` che prende anche in ingresso una stringa coi caratteri da mantenere\n",
    "\n",
    "**(vedi slide successiva)**"
   ]
  },
  {
   "attachments": {},
   "cell_type": "markdown",
   "id": "f6a59e99",
   "metadata": {
    "slideshow": {
     "slide_type": "subslide"
    }
   },
   "source": [
    "\n",
    "```python\n",
    "# scrivi la funzione\n",
    "\n",
    "# NON TOCCARE, queste linee devono funzionare\n",
    "bullo1 = \"waekai waekai waekai waekai\"\n",
    "bullo2 = \"bwaka rwaka swaka twaka zwaka mmmwatka\"\n",
    "bullo3 = \"eweaekea zwxarkma qwoagkpa\"\n",
    "res1 = nobulli(bullo1)   # Deve RITORNARE il verso pulito \"waka waka waka waka\"\n",
    "print(res1)\n",
    "res2 = nobulli(bullo2)   # Deve RITORNARE il verso pulito \"waka waka waka waka waka waka\"\n",
    "print(res2)\n",
    "res3 = nobulli(bullo3)   # Deve RITORNARE il verso pulito \"waka waka waka\"\n",
    "print(res3)\n",
    "```"
   ]
  },
  {
   "attachments": {},
   "cell_type": "markdown",
   "id": "c66ae199",
   "metadata": {
    "slideshow": {
     "slide_type": "subslide"
    }
   },
   "source": [
    "## CHALLENGE - I biscotti danesi  \n",
    "\n",
    "✪✪ Tornato a casa, per consolarsi dalle offese, PacMan si butta su una scatola \n",
    "di biscotti (di quelle con la confezione di latta rotonda).\n",
    "\n",
    "Nella scatola ci sono 8 diversi tipi di biscotti e dopo averne mangiati un po'\n",
    "si accorge con orrore che ha lasciato che rimanesse un numero dispari di biscotti\n",
    "per alcune tipologie.\n",
    "\n",
    "Ovviamente l'offesa va sanata:  scrivi una funzione `mangia` che data una lista la **MODIFICA** per  mangiare (e quindi togliere) un biscotto di tutti i tipi rimasti dispari.\n",
    "\n",
    "* **NON** scrivere `return` nè `print` nella funzione!\n",
    "\n",
    "Esempio:"
   ]
  },
  {
   "attachments": {},
   "cell_type": "markdown",
   "id": "cfd57349",
   "metadata": {
    "slideshow": {
     "slide_type": "-"
    }
   },
   "source": [
    "\n",
    "```python\n",
    ">>> scatola = [2, 5, 3, 8, 6, 24, 5, 3, 9] \n",
    ">>> mangia(scatola)\n",
    ">>> print(scatola)\n",
    "[2, 4, 2, 8, 6, 24, 4, 2, 8] \n",
    "```"
   ]
  },
  {
   "attachments": {},
   "cell_type": "markdown",
   "id": "f398d258",
   "metadata": {},
   "source": [
    "**(vedi slide successiva..)**"
   ]
  },
  {
   "attachments": {},
   "cell_type": "markdown",
   "id": "851b2980",
   "metadata": {
    "slideshow": {
     "slide_type": "subslide"
    }
   },
   "source": [
    "```python\n",
    "# scrivi la funzione\n",
    "\n",
    "\n",
    "# NON TOCCARE, queste linee devono funzionare\n",
    "scatola1 = [3, 3, 3, 3, 3]\n",
    "scatola2 = [1, 3, 5, 7, 9]\n",
    "scatola3 = [19, 3, 14, 1, 10, 9, 2, 16, 8, 7, 13, 11, 18, 17, 6, 5, 4, 12, 20, 15]\n",
    "\n",
    "mangia(scatola1)  # deve MODIFICARE scatola1\n",
    "mangia(scatola2)\n",
    "mangia(scatola3)\n",
    "\n",
    "print(scatola1) # Deve stampare [2, 2, 2, 2, 2]\n",
    "print(scatola2) # Deve stampare [0, 2, 4, 6, 8]\n",
    "print(scatola3) # Deve stampare [18, 2, 14, 0, 10, 8, 2, 16, 8, 6, 12, 10, 18, 16, 6, 4, 4, 12, 20, 14]\n",
    "\n",
    "\n",
    "print(mangia([2,4,5,7])) # DEVE stampare None. Perchè ?\n",
    "```"
   ]
  },
  {
   "attachments": {},
   "cell_type": "markdown",
   "id": "2907772e",
   "metadata": {
    "slideshow": {
     "slide_type": "slide"
    }
   },
   "source": [
    "## Matrici\n",
    "Ci sono sostanzialmente due modi in Python di rappresentare matrici:\n",
    "\n",
    "**Liste di liste:**\n",
    "\n",
    "1. native in Python\n",
    "2. non efficienti\n",
    "3. le liste sono pervasive in Python, probabilmente incontrerai matrici espresse come liste di liste in ogni caso\n",
    "4. forniscono un'idea di come costruire una struttura dati annidata\n",
    "5. possono servire per comprendere concetti importanti come puntatori alla memoria e copie "
   ]
  },
  {
   "attachments": {},
   "cell_type": "markdown",
   "id": "d75f2100",
   "metadata": {
    "slideshow": {
     "slide_type": "fragment"
    }
   },
   "source": [
    "**Numpy** (più avanti):\n",
    "\n",
    "1. non nativamente disponibile in Python\n",
    "2. efficiente\n",
    "3. alla base di parecchie librerie di calcolo scientifico (scipy, pandas)\n",
    "4. la sintassi per accedere agli elementi lievemente diversa da quella da liste di liste \n",
    "5. in rari casi potrebbe portare problemi di installazione e/o conflitti "
   ]
  },
  {
   "attachments": {},
   "cell_type": "markdown",
   "id": "0556b967",
   "metadata": {
    "slideshow": {
     "slide_type": "subslide"
    }
   },
   "source": [
    "\n",
    "\n",
    "## Matrici - liste di liste\n",
    "\n",
    "**Riferimenti**: [SoftPython - matrici liste di liste](https://it.softpython.org/matrices-lists/matrices-lists1-sol.html)\n",
    "\n",
    "Es. matrice 3x2:"
   ]
  },
  {
   "cell_type": "code",
   "execution_count": null,
   "id": "35e85394",
   "metadata": {},
   "outputs": [],
   "source": [
    "m = [\n",
    "        ['a','b'],\n",
    "        ['c','d'],\n",
    "        ['a','e']    \n",
    "    ]"
   ]
  },
  {
   "attachments": {},
   "cell_type": "markdown",
   "id": "51de3d75",
   "metadata": {},
   "source": [
    "Assumiamo matrici con:\n",
    "\n",
    "- almeno una riga\n",
    "- almeno una colonna"
   ]
  },
  {
   "attachments": {},
   "cell_type": "markdown",
   "id": "7cc825f9",
   "metadata": {
    "slideshow": {
     "slide_type": "subslide"
    }
   },
   "source": [
    "## Accedere alla matrice"
   ]
  },
  {
   "cell_type": "code",
   "execution_count": null,
   "id": "0b884ee6",
   "metadata": {},
   "outputs": [],
   "source": [
    "m = [\n",
    "        ['a','b'],\n",
    "        ['c','d'],\n",
    "        ['a','e']    \n",
    "    ]"
   ]
  },
  {
   "cell_type": "code",
   "execution_count": null,
   "id": "e9c31fa5",
   "metadata": {},
   "outputs": [
    {
     "data": {
      "text/plain": [
       "['a', 'b']"
      ]
     },
     "execution_count": 259,
     "metadata": {},
     "output_type": "execute_result"
    }
   ],
   "source": [
    "m[0]"
   ]
  },
  {
   "cell_type": "code",
   "execution_count": null,
   "id": "1069430f",
   "metadata": {},
   "outputs": [
    {
     "data": {
      "text/plain": [
       "['c', 'd']"
      ]
     },
     "execution_count": 260,
     "metadata": {},
     "output_type": "execute_result"
    }
   ],
   "source": [
    "m[1]"
   ]
  },
  {
   "cell_type": "code",
   "execution_count": null,
   "id": "89ead66a",
   "metadata": {
    "slideshow": {
     "slide_type": "subslide"
    }
   },
   "outputs": [],
   "source": [
    "m = [\n",
    "        ['a','b'],\n",
    "        ['c','d'],\n",
    "        ['a','e']    \n",
    "    ]"
   ]
  },
  {
   "cell_type": "code",
   "execution_count": null,
   "id": "84088f59",
   "metadata": {},
   "outputs": [
    {
     "data": {
      "text/plain": [
       "'a'"
      ]
     },
     "execution_count": 262,
     "metadata": {},
     "output_type": "execute_result"
    }
   ],
   "source": [
    "m[0][0]"
   ]
  },
  {
   "cell_type": "code",
   "execution_count": null,
   "id": "84e9bab1",
   "metadata": {},
   "outputs": [
    {
     "data": {
      "text/plain": [
       "'b'"
      ]
     },
     "execution_count": 263,
     "metadata": {},
     "output_type": "execute_result"
    }
   ],
   "source": [
    "m[0][1]"
   ]
  },
  {
   "attachments": {},
   "cell_type": "markdown",
   "id": "a15c6407",
   "metadata": {},
   "source": [
    "<div class=\"alert alert-warning\" >\n",
    "\n",
    "**ATTENZIONE**: Quando una matrice è una lista di liste, puoi solo accedere valori con notazione `m[i][j]`, **NON** con `m[i,j]` !!\n",
    "</div>"
   ]
  },
  {
   "attachments": {},
   "cell_type": "markdown",
   "id": "4fcdebcd",
   "metadata": {
    "slideshow": {
     "slide_type": "subslide"
    }
   },
   "source": [
    "## Dimensioni della matrice"
   ]
  },
  {
   "cell_type": "code",
   "execution_count": null,
   "id": "63d6e70a",
   "metadata": {},
   "outputs": [],
   "source": [
    "m = [\n",
    "        ['a','b'],\n",
    "        ['c','d'],\n",
    "        ['a','e']    \n",
    "    ]"
   ]
  },
  {
   "cell_type": "code",
   "execution_count": null,
   "id": "16e9060f",
   "metadata": {
    "slideshow": {
     "slide_type": "fragment"
    }
   },
   "outputs": [
    {
     "data": {
      "text/plain": [
       "3"
      ]
     },
     "execution_count": 265,
     "metadata": {},
     "output_type": "execute_result"
    }
   ],
   "source": [
    "len(m)  # righe"
   ]
  },
  {
   "cell_type": "code",
   "execution_count": null,
   "id": "cff4b64b",
   "metadata": {
    "slideshow": {
     "slide_type": "fragment"
    }
   },
   "outputs": [
    {
     "data": {
      "text/plain": [
       "2"
      ]
     },
     "execution_count": 266,
     "metadata": {},
     "output_type": "execute_result"
    }
   ],
   "source": [
    "len(m[0])  # colonne"
   ]
  },
  {
   "attachments": {},
   "cell_type": "markdown",
   "id": "2eaa7a39",
   "metadata": {
    "slideshow": {
     "slide_type": "subslide"
    }
   },
   "source": [
    "## Estrarre righe "
   ]
  },
  {
   "attachments": {},
   "cell_type": "markdown",
   "id": "0d30c1ec",
   "metadata": {},
   "source": [
    "✪  Implementa la funzione `esrigaf`, che RITORNA la `i`-esima riga da `mat` come NUOVA lista\n",
    "        \n",
    "* **NOTA**: Per creare una NUOVA lista usa un ciclo for che reitera sugli elementi, _non_ gli indici (quindi non usare range) !"
   ]
  },
  {
   "cell_type": "code",
   "execution_count": null,
   "id": "072baaba",
   "metadata": {
    "slideshow": {
     "slide_type": "fragment"
    }
   },
   "outputs": [],
   "source": [
    "def esrigaf(mat, i):\n",
    "    \n",
    "    riga = []\n",
    "    for x in mat[i]:\n",
    "        riga.append(x) \n",
    "    return riga    \n",
    "    \n",
    "    \n",
    "m = [ ['a','b'],\n",
    "      ['c','d'],\n",
    "      ['a','e'] ]\n",
    "\n",
    "assert esrigaf(m, 0) == ['a','b']\n",
    "assert esrigaf(m, 1) == ['c','d']\n",
    "assert esrigaf(m, 2) == ['a','e']"
   ]
  },
  {
   "attachments": {},
   "cell_type": "markdown",
   "id": "cadfc069",
   "metadata": {
    "slideshow": {
     "slide_type": "subslide"
    }
   },
   "source": [
    "###  matrice_vuota\n",
    "\n",
    "Ci sono diversi modi di creare una nuova matrice 3x5 vuota come lista di liste che contengono degli zero. \n",
    "\n",
    "Esempio con due cicli `for` annidati"
   ]
  },
  {
   "cell_type": "code",
   "execution_count": null,
   "id": "0a65fcbc",
   "metadata": {},
   "outputs": [],
   "source": [
    "def matrice_vuota(n, m):\n",
    "    \n",
    "    ret = []\n",
    "    for i in range(n):\n",
    "        riga = []\n",
    "        ret.append(riga)\n",
    "        for j in range(m):\n",
    "            riga.append(0)\n",
    "    return ret\n",
    "    \n",
    "\n",
    "assert matrice_vuota(1,1) == [ [0] ]\n",
    "\n",
    "assert matrice_vuota(1,2) == [ [0,0] ]\n",
    "\n",
    "assert matrice_vuota(2,1) == [ [0],\n",
    "                               [0] ]\n",
    "\n",
    "assert matrice_vuota(2,2) == [ [0,0],\n",
    "                               [0,0] ]"
   ]
  },
  {
   "attachments": {},
   "cell_type": "markdown",
   "id": "ff46ac85",
   "metadata": {
    "slideshow": {
     "slide_type": "subslide"
    }
   },
   "source": [
    "### matrice_vuota nel modo elegante 1/2\n"
   ]
  },
  {
   "attachments": {},
   "cell_type": "markdown",
   "id": "d194725e",
   "metadata": {},
   "source": [
    "Lista di 3 elementi tramite replicazione:"
   ]
  },
  {
   "cell_type": "code",
   "execution_count": null,
   "id": "788ecb41",
   "metadata": {},
   "outputs": [
    {
     "data": {
      "text/plain": [
       "[0, 0, 0]"
      ]
     },
     "execution_count": 269,
     "metadata": {},
     "output_type": "execute_result"
    }
   ],
   "source": [
    "[0]*3"
   ]
  },
  {
   "attachments": {},
   "cell_type": "markdown",
   "id": "b1d14fbc",
   "metadata": {
    "slideshow": {
     "slide_type": "fragment"
    }
   },
   "source": [
    "**NON** creare matrici vuote così:"
   ]
  },
  {
   "cell_type": "code",
   "execution_count": null,
   "id": "01323375",
   "metadata": {},
   "outputs": [
    {
     "name": "stdout",
     "output_type": "stream",
     "text": [
      "[[0, 0, 0], [0, 0, 0], [0, 0, 0], [0, 0, 0], [0, 0, 0]]\n"
     ]
    }
   ],
   "source": [
    "m = [ [0]*3 ] * 5   # SBAGLIATO !\n",
    "print(m)"
   ]
  },
  {
   "cell_type": "code",
   "execution_count": null,
   "id": "0c2e6718",
   "metadata": {},
   "outputs": [
    {
     "name": "stdout",
     "output_type": "stream",
     "text": [
      "[[666, 0, 0], [666, 0, 0], [666, 0, 0], [666, 0, 0], [666, 0, 0]]\n"
     ]
    }
   ],
   "source": [
    "m[0][0] = 666\n",
    "print(m)"
   ]
  },
  {
   "attachments": {},
   "cell_type": "markdown",
   "id": "f63b9404",
   "metadata": {
    "slideshow": {
     "slide_type": "subslide"
    }
   },
   "source": [
    "## Matrice vuota elegante 2/2\n",
    "\n",
    "**Ci vuole una list comprehension!**"
   ]
  },
  {
   "cell_type": "code",
   "execution_count": null,
   "id": "376ca7aa",
   "metadata": {},
   "outputs": [
    {
     "name": "stdout",
     "output_type": "stream",
     "text": [
      "[[0, 0, 0], [0, 0, 0], [0, 0, 0], [0, 0, 0], [0, 0, 0]]\n"
     ]
    }
   ],
   "source": [
    "\n",
    "m = [[0]*3 for i in range(5)]  # CORRETTO \n",
    "print(m)"
   ]
  },
  {
   "cell_type": "code",
   "execution_count": null,
   "id": "8cd5c63e",
   "metadata": {
    "slideshow": {
     "slide_type": "fragment"
    }
   },
   "outputs": [
    {
     "name": "stdout",
     "output_type": "stream",
     "text": [
      "[[123, 0, 0], [0, 0, 0], [0, 0, 0], [0, 0, 0], [0, 0, 0]]\n"
     ]
    }
   ],
   "source": [
    "m[0][0] = 123\n",
    "print(m)"
   ]
  },
  {
   "attachments": {},
   "cell_type": "markdown",
   "id": "f3c53f9e",
   "metadata": {
    "slideshow": {
     "slide_type": "subslide"
    }
   },
   "source": [
    "### Copia in profondità\n",
    "\n",
    "Vediamo come si può produrre un clone _completo_ di una matrice, anche chiamato _deep clone_, creando una copia sia della lista esterna e _anche_ delle liste interne che rappresentano le righe.\n",
    "\n",
    "**DOMANDA**: Per farlo, potresti essere tentato di scrivere codice del genere, ma non funzionerà. Perchè?"
   ]
  },
  {
   "cell_type": "code",
   "execution_count": null,
   "id": "3db73eb8",
   "metadata": {},
   "outputs": [],
   "source": [
    "def deep_clone_sbagliato(mat):\n",
    "    \"\"\" RITORNA una NUOVA lista di liste che un DEEP CLONE  di mat (che è una lista di liste)\n",
    "    \"\"\"\n",
    "    return mat[:]"
   ]
  },
  {
   "cell_type": "code",
   "execution_count": 3,
   "id": "38a9ca63",
   "metadata": {
    "slideshow": {
     "slide_type": "fragment"
    }
   },
   "outputs": [],
   "source": [
    "def deep_clone(mat):   # giusto\n",
    "        \n",
    "    ret = []\n",
    "    for riga in mat:\n",
    "        ret.append(riga[:])\n",
    "    return ret"
   ]
  },
  {
   "attachments": {},
   "cell_type": "markdown",
   "id": "59d5b274",
   "metadata": {
    "slideshow": {
     "slide_type": "subslide"
    }
   },
   "source": [
    "## CHALLENGE Matrici\n",
    "\n",
    "### Vedere [challenge matrici su SoftPython](https://it.softpython.org/matrices-lists/matrices-lists3-chal.html)"
   ]
  }
 ],
 "metadata": {
  "kernelspec": {
   "display_name": "Python 3 (ipykernel)",
   "language": "python",
   "name": "python3"
  },
  "language_info": {
   "codemirror_mode": {
    "name": "ipython",
    "version": 3
   },
   "file_extension": ".py",
   "mimetype": "text/x-python",
   "name": "python",
   "nbconvert_exporter": "python",
   "pygments_lexer": "ipython3",
   "version": "3.10.9"
  },
  "toc": {
   "base_numbering": 1,
   "nav_menu": {},
   "number_sections": false,
   "sideBar": true,
   "skip_h1_title": false,
   "title_cell": "Table of Contents",
   "title_sidebar": "Contents",
   "toc_cell": false,
   "toc_position": {
    "height": "calc(100% - 180px)",
    "left": "10px",
    "top": "150px",
    "width": "373.2px"
   },
   "toc_section_display": true,
   "toc_window_display": true
  }
 },
 "nbformat": 4,
 "nbformat_minor": 5
}
